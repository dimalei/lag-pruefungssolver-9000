{
 "cells": [
  {
   "cell_type": "markdown",
   "id": "dc92dccb",
   "metadata": {},
   "source": [
    "# lag Prüfungssolver 9000"
   ]
  },
  {
   "cell_type": "code",
   "execution_count": 1,
   "id": "afcb8717",
   "metadata": {},
   "outputs": [
    {
     "name": "stdout",
     "output_type": "stream",
     "text": [
      "Precision: 2.220446049250313e-16\n"
     ]
    }
   ],
   "source": [
    "import numpy as np\n",
    "from util.core import mnull, mrref, linearkombination_vektoren\n",
    "print(f\"Precision: {np.finfo(float).eps}\")"
   ]
  },
  {
   "cell_type": "markdown",
   "id": "e13b7cd3",
   "metadata": {},
   "source": [
    "### Polarkoordinaten zu kartesischen Koordinaten  NNHCXF\n",
    "Geben Sie die kartesischen Koordinaten der Vektoren an.\n",
    "`[vx vy]=r*[cos(phi) sin(phi)]`\\\n",
    "Befehle: `np.array, np.cos, np.sin, print`\\\n",
    "a)"
   ]
  },
  {
   "cell_type": "code",
   "execution_count": 2,
   "metadata": {},
   "outputs": [
    {
     "name": "stdout",
     "output_type": "stream",
     "text": [
      "[-3.99842329 -3.00210113]\n"
     ]
    }
   ],
   "source": [
    "r = 5.0\n",
    "phi = 216.9  # in Grad\n",
    "degree = 2 * np.pi / 360  #\n",
    "vv = r * np.array([np.cos(phi * degree), np.sin(phi * degree)])\n",
    "print(vv)"
   ]
  },
  {
   "cell_type": "markdown",
   "id": "de4f3d8e",
   "metadata": {},
   "source": [
    "$E = mc^2$"
   ]
  },
  {
   "cell_type": "code",
   "execution_count": 3,
   "id": "1ac53f0a",
   "metadata": {},
   "outputs": [
    {
     "name": "stdout",
     "output_type": "stream",
     "text": [
      "<class 'numpy.ndarray'>\n",
      "<class 'numpy.ndarray'>\n"
     ]
    }
   ],
   "source": [
    "matrix = np.array([[1, -4, -2, -25], [0, -3, 6, -18], [7, -13, -4, -85]])\n",
    "print(type(matrix))\n",
    "\n",
    "vector = np.array([1,3,4,5])\n",
    "print(type(vector))"
   ]
  },
  {
   "cell_type": "markdown",
   "id": "03848e1a",
   "metadata": {},
   "source": [
    "Test Linearkombi"
   ]
  },
  {
   "cell_type": "code",
   "execution_count": 5,
   "id": "6e967f8c",
   "metadata": {},
   "outputs": [
    {
     "name": "stdout",
     "output_type": "stream",
     "text": [
      "nicht Linear abhängig ❌\n"
     ]
    }
   ],
   "source": [
    "a = [3, 2, 0]\n",
    "b = [0, 4, 3]\n",
    "c = [3, 10, 61]\n",
    "linearkombination_vektoren(a, b, c)"
   ]
  },
  {
   "cell_type": "code",
   "execution_count": 6,
   "id": "6553ddc4",
   "metadata": {},
   "outputs": [
    {
     "name": "stdout",
     "output_type": "stream",
     "text": [
      "Linear abhängig ✔️\n",
      "a:  1\n",
      "b:  2\n",
      "c:  -1\n"
     ]
    }
   ],
   "source": [
    "a = [3, 2, 0]\n",
    "b = [0, 4, 3]\n",
    "c = [3, 10, 6]\n",
    "linearkombination_vektoren(a, b, c)"
   ]
  },
  {
   "cell_type": "markdown",
   "id": "250fdf8a",
   "metadata": {},
   "source": []
  }
 ],
 "metadata": {
  "kernelspec": {
   "display_name": ".venv",
   "language": "python",
   "name": "python3"
  },
  "language_info": {
   "codemirror_mode": {
    "name": "ipython",
    "version": 3
   },
   "file_extension": ".py",
   "mimetype": "text/x-python",
   "name": "python",
   "nbconvert_exporter": "python",
   "pygments_lexer": "ipython3",
   "version": "3.12.3"
  }
 },
 "nbformat": 4,
 "nbformat_minor": 5
}
