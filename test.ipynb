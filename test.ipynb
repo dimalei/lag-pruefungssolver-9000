{
 "cells": [
  {
   "cell_type": "markdown",
   "id": "dc92dccb",
   "metadata": {},
   "source": [
    "# lag Prüfungssolver 9000"
   ]
  },
  {
   "cell_type": "code",
   "execution_count": 1,
   "id": "afcb8717",
   "metadata": {},
   "outputs": [
    {
     "name": "stdout",
     "output_type": "stream",
     "text": [
      "Precision: 2.220446049250313e-16\n"
     ]
    }
   ],
   "source": [
    "import numpy as np\n",
    "import math\n",
    "from random import random\n",
    "from util.core import mnull, mrref, linearkombination_vektoren, check_linearity\n",
    "print(f\"Precision: {np.finfo(float).eps}\")"
   ]
  },
  {
   "cell_type": "markdown",
   "id": "e13b7cd3",
   "metadata": {},
   "source": [
    "### Polarkoordinaten zu kartesischen Koordinaten  NNHCXF\n",
    "Geben Sie die kartesischen Koordinaten der Vektoren an.\n",
    "`[vx vy]=r*[cos(phi) sin(phi)]`\\\n",
    "Befehle: `np.array, np.cos, np.sin, print`\\\n",
    "a)"
   ]
  },
  {
   "cell_type": "code",
   "execution_count": 2,
   "metadata": {},
   "outputs": [
    {
     "name": "stdout",
     "output_type": "stream",
     "text": [
      "[-3.99842329 -3.00210113]\n"
     ]
    }
   ],
   "source": [
    "r = 5.0\n",
    "phi = 216.9  # in Grad\n",
    "degree = 2 * np.pi / 360  #\n",
    "vv = r * np.array([np.cos(phi * degree), np.sin(phi * degree)])\n",
    "print(vv)"
   ]
  },
  {
   "cell_type": "markdown",
   "id": "de4f3d8e",
   "metadata": {},
   "source": [
    "$E = mc^2$"
   ]
  },
  {
   "cell_type": "code",
   "execution_count": 3,
   "id": "1ac53f0a",
   "metadata": {},
   "outputs": [
    {
     "name": "stdout",
     "output_type": "stream",
     "text": [
      "<class 'numpy.ndarray'>\n",
      "<class 'numpy.ndarray'>\n"
     ]
    }
   ],
   "source": [
    "matrix = np.array([[1, -4, -2, -25], [0, -3, 6, -18], [7, -13, -4, -85]])\n",
    "print(type(matrix))\n",
    "\n",
    "vector = np.array([1,3,4,5])\n",
    "print(type(vector))"
   ]
  },
  {
   "cell_type": "markdown",
   "id": "03848e1a",
   "metadata": {},
   "source": [
    "Test Linearkombi"
   ]
  },
  {
   "cell_type": "code",
   "execution_count": 4,
   "id": "6e967f8c",
   "metadata": {},
   "outputs": [
    {
     "name": "stdout",
     "output_type": "stream",
     "text": [
      "nicht Linear abhängig ❌\n"
     ]
    }
   ],
   "source": [
    "a = [3, 2, 0]\n",
    "b = [0, 4, 3]\n",
    "c = [3, 10, 61]\n",
    "linearkombination_vektoren(a, b, c)"
   ]
  },
  {
   "cell_type": "code",
   "execution_count": 5,
   "id": "6553ddc4",
   "metadata": {},
   "outputs": [
    {
     "name": "stdout",
     "output_type": "stream",
     "text": [
      "Linear abhängig ✔️\n",
      "a:  1\n",
      "b:  2\n",
      "c:  -1\n"
     ]
    }
   ],
   "source": [
    "a = [3, 2, 0]\n",
    "b = [0, 4, 3]\n",
    "c = [3, 10, 6]\n",
    "linearkombination_vektoren(a, b, c)"
   ]
  },
  {
   "cell_type": "markdown",
   "id": "b14bc56a",
   "metadata": {},
   "source": [
    "### Linearität von Abbildungen"
   ]
  },
  {
   "cell_type": "code",
   "execution_count": 6,
   "id": "8ac4e98d",
   "metadata": {},
   "outputs": [
    {
     "name": "stdout",
     "output_type": "stream",
     "text": [
      "=======================\n",
      "Null Vector:  True is null vector: False\n",
      "Homogenity:   L(lambda * v) = 1.1856086970171438 =?= lambda * L(v) = 1.1856086970171438 : False\n",
      "Additivity:   L(v + w) = 5.942316990510088 =?= L(v) + L(w) = 6.942316990510088 : False\n",
      "Transformation is NOT linear ❌\n",
      "=======================\n",
      "Null Vector:  True is null vector: False\n",
      "Homogenity:   L(lambda * v) = 0.027123287516867725 =?= lambda * L(v) = 0.027123287516867725 : False\n",
      "Additivity:   L(v + w) = 0.7679876358909113 =?= L(v) + L(w) = 0.8174834742206174 : False\n",
      "Transformation is NOT linear ❌\n",
      "=======================\n",
      "Null Vector:  True is null vector: False\n",
      "Homogenity:   L(lambda * v) = [0.9637859924760149, 0.2980084949919433] =?= lambda * L(v) = [0.9637859924760149, 0.2980084949919433] : False\n",
      "Additivity:   L(v + w) = [0.7783231997885225, 0.7095244403701308] =?= L(v) + L(w) = [1.80771573 0.73189974] : False\n",
      "Transformation is NOT linear ❌\n"
     ]
    },
    {
     "data": {
      "text/plain": [
       "False"
      ]
     },
     "execution_count": 6,
     "metadata": {},
     "output_type": "execute_result"
    }
   ],
   "source": [
    "print(\"=======================\")\n",
    "check_linearity(3, lambda v: 5*v[0] - v[1] + 1)\n",
    "print(\"=======================\")\n",
    "check_linearity(3, lambda v: np.dot(v, [random() for i in range(3)]))\n",
    "print(\"=======================\")\n",
    "check_linearity(2, lambda v: [math.cos(v[0]), math.sin(v[1])])"
   ]
  },
  {
   "cell_type": "markdown",
   "id": "250fdf8a",
   "metadata": {},
   "source": []
  },
  {
   "cell_type": "code",
   "execution_count": 8,
   "id": "f9174da0",
   "metadata": {},
   "outputs": [
    {
     "name": "stdout",
     "output_type": "stream",
     "text": [
      "True\n"
     ]
    }
   ],
   "source": [
    "a = [0.7823121103602525, 0.7015527943607519] \n",
    "b = [0.7823121103602525, 0.7015527943607519]\n",
    "print(np.allclose(a, b))\n"
   ]
  }
 ],
 "metadata": {
  "kernelspec": {
   "display_name": ".venv",
   "language": "python",
   "name": "python3"
  },
  "language_info": {
   "codemirror_mode": {
    "name": "ipython",
    "version": 3
   },
   "file_extension": ".py",
   "mimetype": "text/x-python",
   "name": "python",
   "nbconvert_exporter": "python",
   "pygments_lexer": "ipython3",
   "version": "3.12.1"
  }
 },
 "nbformat": 4,
 "nbformat_minor": 5
}
