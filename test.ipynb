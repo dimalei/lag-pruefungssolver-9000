{
 "cells": [
  {
   "cell_type": "markdown",
   "id": "dc92dccb",
   "metadata": {},
   "source": [
    "# lag Prüfungssolver 9000\n"
   ]
  },
  {
   "cell_type": "code",
   "execution_count": 1,
   "id": "afcb8717",
   "metadata": {},
   "outputs": [
    {
     "name": "stdout",
     "output_type": "stream",
     "text": [
      "Precision: 2.220446049250313e-16\n"
     ]
    }
   ],
   "source": [
    "import numpy as np\n",
    "import math\n",
    "from random import random, randint\n",
    "from util.core import mnull, mrref\n",
    "import util.core as co\n",
    "from util.objects import Line, Plane\n",
    "from IPython.display import display, Math\n",
    "\n",
    "print(f\"Precision: {np.finfo(float).eps}\")"
   ]
  },
  {
   "cell_type": "markdown",
   "id": "c35efcb7",
   "metadata": {},
   "source": [
    "### Testing"
   ]
  },
  {
   "cell_type": "code",
   "execution_count": 2,
   "id": "3bbe8ad3",
   "metadata": {},
   "outputs": [
    {
     "data": {
      "text/latex": [
       "$\\displaystyle \\begin{vmatrix*}[r]1x_1&2x_2&3x_3\\\\-4x_1&-5x_2&-6x_3\\\\12x_1&9.123x_2&-8.312x_3\\\\\\end{vmatrix*}$"
      ],
      "text/plain": [
       "<IPython.core.display.Math object>"
      ]
     },
     "metadata": {},
     "output_type": "display_data"
    },
    {
     "data": {
      "text/latex": [
       "$\\displaystyle \\begin{bmatrix}1&2&3\\\\-4&-5&-6\\\\12&9.123&-8.312\\\\\\end{bmatrix}$"
      ],
      "text/plain": [
       "<IPython.core.display.Math object>"
      ]
     },
     "metadata": {},
     "output_type": "display_data"
    },
    {
     "data": {
      "text/latex": [
       "$\\displaystyle \\begin{pmatrix}1\\\\2\\\\3\\\\4\\\\\\end{pmatrix}$"
      ],
      "text/plain": [
       "<IPython.core.display.Math object>"
      ]
     },
     "metadata": {},
     "output_type": "display_data"
    },
    {
     "name": "stdout",
     "output_type": "stream",
     "text": [
      "[-1  0  1]\n"
     ]
    },
    {
     "data": {
      "text/latex": [
       "$\\displaystyle \\begin{bmatrix}2&4&6\\\\-8&-10&-12\\\\24&18.246&-16.625\\\\\\end{bmatrix}$"
      ],
      "text/plain": [
       "<IPython.core.display.Math object>"
      ]
     },
     "metadata": {},
     "output_type": "display_data"
    },
    {
     "name": "stdout",
     "output_type": "stream",
     "text": [
      "180.0\n",
      "3.141592653589793\n",
      "CCW turn\n",
      "90.0\n"
     ]
    }
   ],
   "source": [
    "m = np.array(\n",
    "    [\n",
    "        [1, 2, 3],\n",
    "        [-4, -5, - 6],\n",
    "        [12, 9.12312, -8.31231],\n",
    "    ]\n",
    ")\n",
    "v= [1,2,3,4]\n",
    "\n",
    "co.display_coefficient_matrix(m)\n",
    "co.display_matrix(m)\n",
    "co.display_vector(v)\n",
    "\n",
    "print(np.array([1,3,4]) - np.array([2,3,3]))  \n",
    "\n",
    "# skalare matrixmultiplikation\n",
    "co.display_matrix(m * 2)\n",
    "\n",
    "print(np.degrees(np.pi)) # 180\n",
    "print(np.radians(180)) # pi\n",
    "\n",
    "\n",
    "a = [1,0]\n",
    "b = [0,1]\n",
    "print(np.degrees(co.angle_between_vectors(a,b)))"
   ]
  },
  {
   "cell_type": "markdown",
   "id": "e13b7cd3",
   "metadata": {},
   "source": [
    "### Polarkoordinaten zu kartesischen Koordinaten NNHCXF\n",
    "\n",
    "Geben Sie die kartesischen Koordinaten der Vektoren an.\n",
    "`[vx vy]=r*[cos(phi) sin(phi)]`\\\n",
    "Befehle: `np.array, np.cos, np.sin, print`\\\n",
    "a)\n"
   ]
  },
  {
   "cell_type": "code",
   "execution_count": 3,
   "id": "d56bb8cc",
   "metadata": {},
   "outputs": [
    {
     "name": "stdout",
     "output_type": "stream",
     "text": [
      "[-3.99842329 -3.00210113]\n"
     ]
    }
   ],
   "source": [
    "r = 5.0\n",
    "phi = 216.9  # in Grad\n",
    "degree = 2 * np.pi / 360  #\n",
    "vv = r * np.array([np.cos(phi * degree), np.sin(phi * degree)])\n",
    "print(vv)"
   ]
  },
  {
   "cell_type": "markdown",
   "id": "d2c7201b",
   "metadata": {},
   "source": [
    "### Beispiel 7.12 Hesse-Normalenform Koordinatenform 1V9ECJ"
   ]
  },
  {
   "cell_type": "code",
   "execution_count": 4,
   "id": "99711e2b",
   "metadata": {},
   "outputs": [
    {
     "name": "stdout",
     "output_type": "stream",
     "text": [
      "[25.]\n"
     ]
    }
   ],
   "source": [
    "E = [15,-12,16,-184]\n",
    "P = [-19,37,18]\n",
    "\n",
    "print(co.distance_to_plane_hesse(P, E))"
   ]
  },
  {
   "cell_type": "markdown",
   "id": "d137633e",
   "metadata": {},
   "source": [
    "### Beispiel 7.10 Abstand Punkt Ebene 2MZJ54"
   ]
  },
  {
   "cell_type": "code",
   "execution_count": 5,
   "id": "39385982",
   "metadata": {},
   "outputs": [
    {
     "name": "stdout",
     "output_type": "stream",
     "text": [
      "58.0\n"
     ]
    }
   ],
   "source": [
    "P = [10, 10, 10]\n",
    "E = [50, 10, -32]\n",
    "v = [21, 0, 20]\n",
    "w = [42, 20, 40]\n",
    "\n",
    "EP = np.array(P)- np.array(E)\n",
    "paralellogramm_fl = np.linalg.norm(np.cross(v, w))\n",
    "paralellopid_vol = np.dot(EP,np.cross(v, w))\n",
    "distance = paralellopid_vol / paralellogramm_fl\n",
    "\n",
    "print(distance)"
   ]
  },
  {
   "cell_type": "markdown",
   "id": "5dbc7e19",
   "metadata": {},
   "source": [
    "### Beispiel 8.3 Schnittmengen qualitativ: Homogene LGS GL27L6\n",
    "Ebene $E_1$, $E_2$ und $E_3$ geschnitten. Wie sieht die Schnittmenge $E_1 \\land E_2 \\land E_3$ aus?\n",
    "\n",
    "$$ \\begin{vmatrix}\n",
    "0x&+9y&+8z&=&0\\\\\n",
    "8x&+9y&+6z&=&0\\\\\n",
    "10x&+0y&+6z&=&0\n",
    "\\end{vmatrix}\n",
    "\\quad\\rightarrow\\quad\n",
    "\\begin{vmatrix}\n",
    "2x&+0y&+8z&=&0\\\\\n",
    "0x&+9y&+8z&=&0\\\\\n",
    "0x&+0y&+34z&=&0\n",
    "\\end{vmatrix}$$"
   ]
  },
  {
   "cell_type": "code",
   "execution_count": 6,
   "id": "ee1e5f60",
   "metadata": {},
   "outputs": [
    {
     "name": "stdout",
     "output_type": "stream",
     "text": [
      "a)\n"
     ]
    },
    {
     "data": {
      "text/latex": [
       "$\\displaystyle \\begin{pmatrix}x_1\\\\x_2\\\\x_3\\\\\\end{pmatrix}=\\begin{pmatrix}0\\\\0\\\\0\\\\\\end{pmatrix}$"
      ],
      "text/plain": [
       "<IPython.core.display.Math object>"
      ]
     },
     "metadata": {},
     "output_type": "display_data"
    }
   ],
   "source": [
    "print(\"a)\")\n",
    "lgs = np.array([\n",
    "    [0,9,8],\n",
    "    [8,9,6],\n",
    "    [10,0,6]\n",
    "])\n",
    "\n",
    "co.solve_null_space(lgs)\n",
    "# Schnittpunkt auf nullpunkt, keine freien variablen"
   ]
  },
  {
   "cell_type": "markdown",
   "id": "781f25ad",
   "metadata": {},
   "source": [
    "### Beispiel 8.12 Homogene lineare Gleichungssysteme 801980\n",
    "Bestimme die Lösungsmenge der homogenen linearen Gleichungsysteme\\\n",
    "a)\n",
    "$$ \\begin{vmatrix}\n",
    "E_1:&3x&+3y&+-12z&=&0\\\\\n",
    "E_2:&1x&+0y&-4z&=&0\\\\\n",
    "E_3:&5x&+2y&-20z&=&0\n",
    "\\end{vmatrix}"
   ]
  },
  {
   "cell_type": "code",
   "execution_count": 7,
   "id": "c262390e",
   "metadata": {},
   "outputs": [
    {
     "name": "stdout",
     "output_type": "stream",
     "text": [
      "a)\n"
     ]
    },
    {
     "data": {
      "text/latex": [
       "$\\displaystyle \\begin{pmatrix}x_1\\\\x_2\\\\x_3\\\\\\end{pmatrix}=\\lambda\\cdot\\begin{pmatrix}4\\\\0\\\\1\\\\\\end{pmatrix}$"
      ],
      "text/plain": [
       "<IPython.core.display.Math object>"
      ]
     },
     "metadata": {},
     "output_type": "display_data"
    }
   ],
   "source": [
    "lgs = np.array(\n",
    "    [\n",
    "        [3, 3, -12],\n",
    "        [1, 0, -4],\n",
    "        [5, +2, -20],\n",
    "    ]\n",
    ")\n",
    "\n",
    "print(\"a)\")\n",
    "co.solve_null_space(lgs)"
   ]
  },
  {
   "cell_type": "code",
   "execution_count": 8,
   "id": "7f599e28",
   "metadata": {},
   "outputs": [
    {
     "name": "stdout",
     "output_type": "stream",
     "text": [
      "b)\n"
     ]
    },
    {
     "data": {
      "text/latex": [
       "$\\displaystyle \\begin{pmatrix}x_1\\\\x_2\\\\x_3\\\\\\end{pmatrix}=\\begin{pmatrix}0\\\\0\\\\0\\\\\\end{pmatrix}$"
      ],
      "text/plain": [
       "<IPython.core.display.Math object>"
      ]
     },
     "metadata": {},
     "output_type": "display_data"
    }
   ],
   "source": [
    "lgs = np.array(\n",
    "    [\n",
    "        [3, 5, -5],\n",
    "        [0, 1, -3],\n",
    "        [0, 2, -5],\n",
    "    ]\n",
    ")\n",
    "\n",
    "print(\"b)\")\n",
    "# print(richtungsvektor) # [] -> keine Richtungsvektoren vorhanden. Nur die Triviale lösung erfüllt das lgs. (0,0,0)\n",
    "\n",
    "co.solve_null_space(lgs)\n"
   ]
  },
  {
   "cell_type": "code",
   "execution_count": 9,
   "id": "2953a0ec",
   "metadata": {},
   "outputs": [
    {
     "name": "stdout",
     "output_type": "stream",
     "text": [
      "c)\n"
     ]
    },
    {
     "data": {
      "text/latex": [
       "$\\displaystyle \\begin{pmatrix}x_1\\\\x_2\\\\x_3\\\\\\end{pmatrix}=\\lambda\\cdot\\begin{pmatrix}2\\\\-1\\\\1\\\\\\end{pmatrix}$"
      ],
      "text/plain": [
       "<IPython.core.display.Math object>"
      ]
     },
     "metadata": {},
     "output_type": "display_data"
    }
   ],
   "source": [
    "lgs = np.array(\n",
    "    [\n",
    "        [1, 3, 1],\n",
    "        [0, 1, 1],\n",
    "        [0, 2, 2],\n",
    "    ]\n",
    ")\n",
    "\n",
    "print(\"c)\")\n",
    "co.solve_null_space(lgs)"
   ]
  },
  {
   "cell_type": "markdown",
   "id": "d986922e",
   "metadata": {},
   "source": [
    "### Beispiel 8.4 Schnittmengen qualitativ: Inhomogene LGS EM75PE"
   ]
  },
  {
   "cell_type": "code",
   "execution_count": 10,
   "id": "56e02e5e",
   "metadata": {},
   "outputs": [
    {
     "name": "stdout",
     "output_type": "stream",
     "text": [
      "a)\n"
     ]
    },
    {
     "data": {
      "text/latex": [
       "$\\displaystyle \\begin{pmatrix}x_1\\\\x_2\\\\x_3\\\\\\end{pmatrix}=\\begin{pmatrix}2.833\\\\2.75\\\\3.708\\\\\\end{pmatrix}+\\begin{pmatrix}0\\\\0\\\\0\\\\\\end{pmatrix}$"
      ],
      "text/plain": [
       "<IPython.core.display.Math object>"
      ]
     },
     "metadata": {},
     "output_type": "display_data"
    }
   ],
   "source": [
    "print(\"a)\")\n",
    "lgs = np.array([\n",
    "    [2,1,-2,1],\n",
    "    [1,8,-4,10],\n",
    "    [6,-1,18,81],\n",
    "])\n",
    "\n",
    "# co.particular_solution(lgs)\n",
    "co.solve_general_solution(lgs)\n",
    "# schnittpunkt"
   ]
  },
  {
   "cell_type": "code",
   "execution_count": 11,
   "id": "382159e5",
   "metadata": {},
   "outputs": [
    {
     "name": "stdout",
     "output_type": "stream",
     "text": [
      "b)\n"
     ]
    },
    {
     "data": {
      "text/latex": [
       "$\\displaystyle \\begin{pmatrix}x_1\\\\x_2\\\\x_3\\\\\\end{pmatrix}=\\begin{pmatrix}2.4\\\\2.2\\\\0\\\\\\end{pmatrix}+\\lambda\\cdot\\begin{pmatrix}0.8\\\\0.4\\\\1\\\\\\end{pmatrix}$"
      ],
      "text/plain": [
       "<IPython.core.display.Math object>"
      ]
     },
     "metadata": {},
     "output_type": "display_data"
    }
   ],
   "source": [
    "print(\"b)\")\n",
    "lgs = np.array([\n",
    "    [2,1,-2,7],\n",
    "    [1,8,-4,20],\n",
    "    [-3,+6,0,6],\n",
    "])\n",
    "\n",
    "# co.particular_solution(lgs)\n",
    "co.solve_general_solution(lgs)\n",
    "# schnittgerade"
   ]
  },
  {
   "cell_type": "markdown",
   "id": "9881c540",
   "metadata": {},
   "source": [
    "### Beispiel 8.13 Richtungsvektoren und NullraumV5JXDD\n",
    "\n",
    "Mehrere Richtungsvektoren\n",
    "\n",
    "$$ \\begin{vmatrix}\n",
    "1x&+2y&+3z&=&0\\\\\n",
    "\\end{vmatrix}"
   ]
  },
  {
   "cell_type": "code",
   "execution_count": 12,
   "id": "2c72bfa3",
   "metadata": {},
   "outputs": [
    {
     "data": {
      "text/latex": [
       "$\\displaystyle \\begin{pmatrix}x_1\\\\x_2\\\\x_3\\\\\\end{pmatrix}=\\lambda\\cdot\\begin{pmatrix}-2\\\\1\\\\0\\\\\\end{pmatrix}+\\mu\\cdot\\begin{pmatrix}-3\\\\0\\\\1\\\\\\end{pmatrix}$"
      ],
      "text/plain": [
       "<IPython.core.display.Math object>"
      ]
     },
     "metadata": {},
     "output_type": "display_data"
    }
   ],
   "source": [
    "lgs = np.array(\n",
    "    [\n",
    "        [1, 2, 3],\n",
    "    ]\n",
    ")\n",
    "co.solve_null_space(lgs)\n"
   ]
  },
  {
   "cell_type": "markdown",
   "id": "dbd570b9",
   "metadata": {},
   "source": [
    "### Beispiel 8.14 Nullraum QWDLIG"
   ]
  },
  {
   "cell_type": "code",
   "execution_count": 13,
   "id": "8d0a4356",
   "metadata": {},
   "outputs": [
    {
     "name": "stdout",
     "output_type": "stream",
     "text": [
      "a)\n",
      "[[-1.2 -0.2]\n",
      " [ 1.   0. ]\n",
      " [ 0.   1. ]]\n"
     ]
    },
    {
     "data": {
      "text/latex": [
       "$\\displaystyle \\begin{pmatrix}x_1\\\\x_2\\\\x_3\\\\\\end{pmatrix}=\\lambda\\cdot\\begin{pmatrix}-1.2\\\\1\\\\0\\\\\\end{pmatrix}+\\mu\\cdot\\begin{pmatrix}-0.2\\\\0\\\\1\\\\\\end{pmatrix}$"
      ],
      "text/plain": [
       "<IPython.core.display.Math object>"
      ]
     },
     "metadata": {},
     "output_type": "display_data"
    }
   ],
   "source": [
    "print(\"a)\")\n",
    "lgs = np.array(\n",
    "    [\n",
    "        [5, 6, 1],\n",
    "    ]\n",
    ")\n",
    "co.solve_null_space(lgs, 1)"
   ]
  },
  {
   "cell_type": "markdown",
   "id": "32a1ecfd",
   "metadata": {},
   "source": [
    "# Kapitel 9 Matrixalgebra"
   ]
  },
  {
   "cell_type": "markdown",
   "id": "a2fa3028",
   "metadata": {},
   "source": [
    "### Beispiel 9.9 Produkt von zwei Matrizen CKZ2V1"
   ]
  },
  {
   "cell_type": "code",
   "execution_count": 14,
   "id": "1a40fea9",
   "metadata": {},
   "outputs": [
    {
     "name": "stdout",
     "output_type": "stream",
     "text": [
      "a\n"
     ]
    },
    {
     "data": {
      "text/latex": [
       "$\\displaystyle \\begin{bmatrix}14&26&12\\\\-12&23&26\\\\33&-9&48\\\\\\end{bmatrix}$"
      ],
      "text/plain": [
       "<IPython.core.display.Math object>"
      ]
     },
     "metadata": {},
     "output_type": "display_data"
    },
    {
     "name": "stdout",
     "output_type": "stream",
     "text": [
      "b\n"
     ]
    },
    {
     "data": {
      "text/latex": [
       "$\\displaystyle \\begin{bmatrix}25&15\\\\0&15\\\\\\end{bmatrix}$"
      ],
      "text/plain": [
       "<IPython.core.display.Math object>"
      ]
     },
     "metadata": {},
     "output_type": "display_data"
    },
    {
     "name": "stdout",
     "output_type": "stream",
     "text": [
      "c\n"
     ]
    },
    {
     "data": {
      "text/latex": [
       "$\\displaystyle \\begin{bmatrix}4&79\\\\6&25\\\\\\end{bmatrix}$"
      ],
      "text/plain": [
       "<IPython.core.display.Math object>"
      ]
     },
     "metadata": {},
     "output_type": "display_data"
    }
   ],
   "source": [
    "A = np.array(\n",
    "    [\n",
    "        [0, 4, 2],\n",
    "        [2, -1, 5],\n",
    "        [6, 0, -3],\n",
    "    ]\n",
    ")\n",
    "\n",
    "B = np.array(\n",
    "    [\n",
    "        [4, 1, 9],\n",
    "        [5, 4, 2],\n",
    "        [-3, 5, 2],\n",
    "    ]\n",
    ")\n",
    "\n",
    "C = np.array(\n",
    "    [\n",
    "        [5, 6],\n",
    "        [5, 1],\n",
    "    ]\n",
    ")\n",
    "\n",
    "D = np.array(\n",
    "    [\n",
    "        [-1, 3],\n",
    "        [5, 0],\n",
    "    ]\n",
    ")\n",
    "\n",
    "E = np.array(\n",
    "    [\n",
    "        [7, -2, 4, 0],\n",
    "        [3, 3, 0, 1],\n",
    "    ]\n",
    ")\n",
    "\n",
    "F = np.array(\n",
    "    [\n",
    "        [0, 9],\n",
    "        [2, 0],\n",
    "        [2, 4],\n",
    "        [0, -2],\n",
    "    ]\n",
    ")\n",
    "\n",
    "print(\"a\")\n",
    "co.display_matrix(np.matmul(A, B))\n",
    "print(\"b\")\n",
    "co.display_matrix(np.matmul(C, D))\n",
    "print(\"c\")\n",
    "co.display_matrix(np.matmul(E, F))\n",
    "# print(\"d\")\n",
    "# co.display_matrix(np.matmul(E, C)) # keine lösung"
   ]
  },
  {
   "cell_type": "markdown",
   "id": "66c2b429",
   "metadata": {},
   "source": [
    "### Beispiel 9.22 Linearkombination LQF58M\n"
   ]
  },
  {
   "cell_type": "code",
   "execution_count": 15,
   "id": "9b7cf367",
   "metadata": {},
   "outputs": [
    {
     "name": "stdout",
     "output_type": "stream",
     "text": [
      "a)\n",
      "[  6 -11 -10]\n",
      "b)\n",
      "[[-6  0  0]\n",
      " [ 6 -2  7]\n",
      " [ 9  1 -7]]\n",
      "Solution:\n",
      "[  6 -11 -10]\n"
     ]
    }
   ],
   "source": [
    "u = np.array([-6, 6, 9])\n",
    "v = np.array([0, -2, 1])\n",
    "w = np.array([0, 7, -7])\n",
    "l = np.array([-1, 6, 1])\n",
    "\n",
    "A = np.transpose(np.array([u, v, w])) # must be transposed to get a coefficient matrix\n",
    "print(\"a)\")\n",
    "print(-1 * u + 6 * v + 1 * w)\n",
    "\n",
    "print(\"b)\")\n",
    "print(A)\n",
    "print(f\"Solution:\")\n",
    "print(np.matmul(A, l))"
   ]
  },
  {
   "cell_type": "markdown",
   "id": "3fa5a606",
   "metadata": {},
   "source": [
    "### Beispiel 9.23 Linearkombination T46Q97\n"
   ]
  },
  {
   "cell_type": "code",
   "execution_count": 16,
   "id": "056a3124",
   "metadata": {},
   "outputs": [
    {
     "name": "stdout",
     "output_type": "stream",
     "text": [
      "a)\n"
     ]
    },
    {
     "data": {
      "text/latex": [
       "$\\displaystyle \\begin{pmatrix}-11\\\\-38\\\\17\\\\\\end{pmatrix}$"
      ],
      "text/plain": [
       "<IPython.core.display.Math object>"
      ]
     },
     "metadata": {},
     "output_type": "display_data"
    },
    {
     "name": "stdout",
     "output_type": "stream",
     "text": [
      "b)\n"
     ]
    },
    {
     "data": {
      "text/latex": [
       "$\\displaystyle \\begin{pmatrix}6\\\\3\\\\15\\\\\\end{pmatrix}$"
      ],
      "text/plain": [
       "<IPython.core.display.Math object>"
      ]
     },
     "metadata": {},
     "output_type": "display_data"
    }
   ],
   "source": [
    "print(\"a)\")\n",
    "M = np.array(\n",
    "    [\n",
    "        [1, -1, 0],\n",
    "        [6, 0, -5],\n",
    "        [0, 5, -1],\n",
    "    ]\n",
    ")\n",
    "v = np.array(\n",
    "    [\n",
    "        -8,\n",
    "        +3,\n",
    "        -2,\n",
    "    ]\n",
    ")\n",
    "\n",
    "co.display_vector(np.matmul(M, v))\n",
    "\n",
    "print(\"b)\")\n",
    "M = np.array(\n",
    "    [\n",
    "        [0, 1, 3],\n",
    "        [-1, 0, -1],\n",
    "        [3, 4, 15],\n",
    "    ]\n",
    ")\n",
    "v = np.array(\n",
    "    [\n",
    "        -4,\n",
    "        3,\n",
    "        1,\n",
    "    ]\n",
    ")\n",
    "\n",
    "co.display_vector(np.matmul(M, v))"
   ]
  },
  {
   "cell_type": "markdown",
   "id": "c6d3834c",
   "metadata": {},
   "source": [
    "### Beispiel 9.24 Matrix mal Vektor = Einsetzen in Koeffizientenmatrix CNNZ8U\n"
   ]
  },
  {
   "cell_type": "code",
   "execution_count": 17,
   "id": "c0f0dc28",
   "metadata": {},
   "outputs": [
    {
     "name": "stdout",
     "output_type": "stream",
     "text": [
      "a)\n",
      "[1 5]\n",
      "b)\n",
      "[1 5]\n",
      "c)\n",
      "[1 5]\n"
     ]
    }
   ],
   "source": [
    "A = np.array(\n",
    "    [\n",
    "        [1, -1, 2],\n",
    "        [6, 1, -1],\n",
    "    ]\n",
    ")\n",
    "x_p = [1, -2, -1]\n",
    "x_h = [-1, 13, 7]\n",
    "print(\"a)\")\n",
    "print(np.dot(A, x_p))\n",
    "print(\"b)\")\n",
    "print(np.matmul(A, x_p))  # matmul = matrix produkt\n",
    "print(\"c)\")\n",
    "print(np.dot(A, x_p))"
   ]
  },
  {
   "cell_type": "markdown",
   "id": "4ec10ff5",
   "metadata": {},
   "source": [
    "# Kapitel 10 Lineare Abbildungen\n"
   ]
  },
  {
   "cell_type": "markdown",
   "id": "76f65f37",
   "metadata": {},
   "source": [
    "### Beispiel 10.3 Linearitat IMSW1Y\n"
   ]
  },
  {
   "cell_type": "code",
   "execution_count": 18,
   "id": "0041c556",
   "metadata": {},
   "outputs": [
    {
     "name": "stdout",
     "output_type": "stream",
     "text": [
      "a)\n",
      "✔️ Null Vector:  0.0 is null\n",
      "✔️ Homogenity:   L(lambda * v) = 0.5726905176397536 =?= lambda * L(v) = 0.5726905176397536\n",
      "✔️ Additivity:   L(v + w) = 1.1661153329954832 =?= L(v) + L(w) = 1.1661153329954832\n",
      "✔️ Transformation is linear\n",
      "b)\n",
      "❌ Null Vector:  1 is NOT null\n",
      "❌ Homogenity:   L(lambda * v) = 1.7311657810753673 =?= lambda * L(v) = 1.7229397378004807\n",
      "❌ Additivity:   L(v + w) = 3.525976890415609 =?= L(v) + L(w) = 4.525976890415609\n",
      "❌ Transformation is NOT linear\n"
     ]
    }
   ],
   "source": [
    "print(\"a)\")\n",
    "w = co.random_vector(3)\n",
    "co.solve_check_linearity(3, lambda v: np.dot(v, w))\n",
    "print(\"b)\")\n",
    "co.solve_check_linearity(3, lambda v: 5 * v[0] - v[1] + 1)"
   ]
  },
  {
   "cell_type": "markdown",
   "id": "b14bc56a",
   "metadata": {},
   "source": [
    "### Beispiel 10.8 Linearität YHRNU8\n"
   ]
  },
  {
   "cell_type": "code",
   "execution_count": 19,
   "id": "8ac4e98d",
   "metadata": {},
   "outputs": [
    {
     "name": "stdout",
     "output_type": "stream",
     "text": [
      "a\n",
      "✔️ Null Vector:  [np.float64(0.0), np.float64(0.0)] is null\n",
      "✔️ Homogenity:   L(lambda * v) = [np.float64(0.5023245155558036), np.float64(0.04796943685390143)] =?= lambda * L(v) = [0.50232452 0.04796944]\n",
      "✔️ Additivity:   L(v + w) = [np.float64(1.6931899725255006), np.float64(0.10454210195753326)] =?= L(v) + L(w) = [1.69318997 0.1045421 ]\n",
      "✔️ Transformation is linear\n",
      "b\n",
      "✔️ Null Vector:  0 is null\n",
      "❌ Homogenity:   L(lambda * v) = 0.08845937425884376 =?= lambda * L(v) = 0.2895152601354853\n",
      "❌ Additivity:   L(v + w) = 3.2934372682817266 =?= L(v) + L(w) = 1.785140891316252\n",
      "❌ Transformation is NOT linear\n",
      "c\n",
      "✔️ Null Vector:  0 is null\n",
      "✔️ Homogenity:   L(lambda * v) = 0.5338869226405438 =?= lambda * L(v) = 0.5338869226405438\n",
      "✔️ Additivity:   L(v + w) = 5.303388704268903 =?= L(v) + L(w) = 5.303388704268903\n",
      "✔️ Transformation is linear\n",
      "d\n",
      "✔️ Null Vector:  [0 0] is null\n",
      "✔️ Homogenity:   L(lambda * v) = [-0.24340525 -0.11533894] =?= lambda * L(v) = [-0.24340525 -0.11533894]\n",
      "✔️ Additivity:   L(v + w) = [-1.49032915 -1.34189079] =?= L(v) + L(w) = [-1.49032915 -1.34189079]\n",
      "✔️ Transformation is linear\n"
     ]
    }
   ],
   "source": [
    "print(\"a\")\n",
    "gamma = random()\n",
    "co.solve_check_linearity(\n",
    "    2,\n",
    "    lambda v: [\n",
    "        math.cos(gamma) * v[0],\n",
    "        math.sin(gamma) * v[1],\n",
    "    ],\n",
    ")\n",
    "print(\"b\")\n",
    "co.solve_check_linearity(2, lambda v: np.dot(v, v))\n",
    "print(\"c\")\n",
    "co.solve_check_linearity(2, lambda v: 5 * v[0] + 2 * v[1])\n",
    "print(\"d\")\n",
    "co.solve_check_linearity(2, lambda v: np.multiply(-1, v))"
   ]
  },
  {
   "cell_type": "code",
   "execution_count": 20,
   "id": "dbe1695e",
   "metadata": {},
   "outputs": [
    {
     "name": "stdout",
     "output_type": "stream",
     "text": [
      "e\n",
      "❌ Null Vector:  [1.0, 0.0] is NOT null\n",
      "❌ Homogenity:   L(lambda * v) = [0.985532405245231, 0.02538272775881337] =?= lambda * L(v) = [0.18253134 0.0253383 ]\n",
      "❌ Additivity:   L(v + w) = [0.7182406677156535, 0.8214936997997861] =?= L(v) + L(w) = [1.75747941 0.86221999]\n",
      "❌ Transformation is NOT linear\n",
      "f\n",
      "✔️ Null Vector:  [0, np.int64(0)] is null\n",
      "❌ Homogenity:   L(lambda * v) = [0, np.float64(0.016564819081811226)] =?= lambda * L(v) = [0.         0.06720615]\n",
      "❌ Additivity:   L(v + w) = [0, np.float64(1.051537122965516)] =?= L(v) + L(w) = [0.         0.51545886]\n",
      "❌ Transformation is NOT linear\n",
      "g\n",
      "✔️ Null Vector:  [np.int64(0), np.int64(0)] is null\n",
      "✔️ Homogenity:   L(lambda * v) = [np.float64(0.2821194525265064), np.float64(0.0991981079188826)] =?= lambda * L(v) = [0.28211945 0.09919811]\n",
      "✔️ Additivity:   L(v + w) = [np.float64(2.1050653661069427), np.float64(0.9022116683375205)] =?= L(v) + L(w) = [2.10506537 0.90221167]\n",
      "✔️ Transformation is linear\n",
      "h\n",
      "✔️ Null Vector:  0 is null\n",
      "✔️ Homogenity:   L(lambda * v) = 0.3571911196888659 =?= lambda * L(v) = 0.3571911196888659\n",
      "✔️ Additivity:   L(v + w) = 1.5570954827494892 =?= L(v) + L(w) = 1.5570954827494892\n",
      "✔️ Transformation is linear\n"
     ]
    }
   ],
   "source": [
    "print(\"e\")\n",
    "co.solve_check_linearity(\n",
    "    2,\n",
    "    lambda v: [\n",
    "        math.cos(v[0]),\n",
    "        math.sin(v[1]),\n",
    "    ],\n",
    ")\n",
    "print(\"f\")\n",
    "co.solve_check_linearity(\n",
    "    2,\n",
    "    lambda v: [\n",
    "        0,\n",
    "        v[0] * v[1],\n",
    "    ],\n",
    ")\n",
    "print(\"g\")\n",
    "co.solve_check_linearity(\n",
    "    2,\n",
    "    lambda v: [\n",
    "        v[0] + v[1],\n",
    "        v[0],\n",
    "    ],\n",
    ")\n",
    "print(\"h\")\n",
    "co.solve_check_linearity(2, lambda v: v[0])"
   ]
  },
  {
   "cell_type": "code",
   "execution_count": 21,
   "id": "629b1b20",
   "metadata": {},
   "outputs": [
    {
     "name": "stdout",
     "output_type": "stream",
     "text": [
      "i\n",
      "✔️ Null Vector:  0 is null\n",
      "❌ Homogenity:   L(lambda * v) = 0.27577722466054866 =?= lambda * L(v) = 0.48627299782869293\n",
      "❌ Additivity:   L(v + w) = 1.1408492744810474 =?= L(v) + L(w) = 0.8776364324230037\n",
      "❌ Transformation is NOT linear\n",
      "j\n",
      "❌ Null Vector:  1 is NOT null\n",
      "❌ Homogenity:   L(lambda * v) = 1.1467253651366247 =?= lambda * L(v) = 0.65429072258069\n",
      "❌ Additivity:   L(v + w) = 1.9399933512650445 =?= L(v) + L(w) = 2.9399933512650445\n",
      "❌ Transformation is NOT linear\n",
      "k\n",
      "✔️ Null Vector:  [np.int64(0), np.int64(0)] is null\n",
      "✔️ Homogenity:   L(lambda * v) = [np.float64(-0.4029862134205364), np.float64(1.1419265496656728)] =?= lambda * L(v) = [-0.40298621  1.14192655]\n",
      "✔️ Additivity:   L(v + w) = [np.float64(-3.2609237443246517), np.float64(8.616386796336434)] =?= L(v) + L(w) = [-3.26092374  8.6163868 ]\n",
      "✔️ Transformation is linear\n"
     ]
    }
   ],
   "source": [
    "print(\"i\")\n",
    "co.solve_check_linearity(2, lambda v: v[0] ** 2)\n",
    "print(\"j\")\n",
    "co.solve_check_linearity(2, lambda v: v[0] + 1)\n",
    "print(\"k\")\n",
    "co.solve_check_linearity(\n",
    "    2,\n",
    "    lambda v: [\n",
    "        3 * v[0] - 4 * v[1],\n",
    "        v[0] + 5 * v[1],\n",
    "    ],\n",
    ")"
   ]
  },
  {
   "cell_type": "markdown",
   "id": "94b48fad",
   "metadata": {},
   "source": [
    "Line Object"
   ]
  },
  {
   "cell_type": "code",
   "execution_count": 22,
   "id": "9617daba",
   "metadata": {},
   "outputs": [
    {
     "data": {
      "text/latex": [
       "$\\displaystyle \\begin{pmatrix}1\\\\2\\\\3\\\\\\end{pmatrix}+\\lambda\\cdot\\begin{pmatrix}1\\\\2\\\\3\\\\\\end{pmatrix}$"
      ],
      "text/plain": [
       "<IPython.core.display.Math object>"
      ]
     },
     "metadata": {},
     "output_type": "display_data"
    }
   ],
   "source": [
    "l1 = Line(np.array((1,2,3)),np.array((1,2,3)))\n",
    "l1.display()"
   ]
  },
  {
   "cell_type": "markdown",
   "id": "5b96189c",
   "metadata": {},
   "source": [
    "Plane intersection"
   ]
  },
  {
   "cell_type": "code",
   "execution_count": 23,
   "id": "1a8ac580",
   "metadata": {},
   "outputs": [
    {
     "name": "stdout",
     "output_type": "stream",
     "text": [
      "Intersection 1#:\n",
      "Line: Aufpunkt: [-1.2  1.4  0. ], Richtungsvektor [0.8 0.4 1. ]\n",
      "Intersection 2#:\n",
      "Line: Aufpunkt: [-1.33333333  1.66666667  0.        ], Richtungsvektor [0.77777778 0.44444444 1.        ]\n",
      "Intersection 3#:\n",
      "Line: Aufpunkt: [-1.42857143  1.42857143  0.        ], Richtungsvektor [0.76190476 0.4047619  1.        ]\n"
     ]
    },
    {
     "data": {
      "text/latex": [
       "$\\displaystyle \\begin{pmatrix}x_1\\\\x_2\\\\x_3\\\\\\end{pmatrix}=\\begin{pmatrix}-6\\\\-1\\\\-6\\\\\\end{pmatrix}+\\begin{pmatrix}0\\\\0\\\\0\\\\\\end{pmatrix}$"
      ],
      "text/plain": [
       "<IPython.core.display.Math object>"
      ]
     },
     "metadata": {},
     "output_type": "display_data"
    },
    {
     "data": {
      "text/plain": [
       "[<util.objects.Line at 0x7a2bb0d3d0a0>,\n",
       " <util.objects.Line at 0x7a2bb0d3de20>,\n",
       " <util.objects.Line at 0x7a2bb2375e20>]"
      ]
     },
     "execution_count": 23,
     "metadata": {},
     "output_type": "execute_result"
    }
   ],
   "source": [
    "p1 = Plane(np.array((2,1,-2,-1)))\n",
    "p1_1 = Plane(np.array((2,1,-2,-1)))\n",
    "p2 = Plane(np.array((1,8,-4,10)))\n",
    "p4_same_as_p1 = Plane(np.array((4,2,-4,-2)))\n",
    "p3_paralell_to_p2 = Plane(np.array((2,16,-8,10)))\n",
    "p5 = Plane(np.array((-5,2,3,10)))\n",
    "\n",
    "Plane.intersect_all(p1, p2, p5)\n"
   ]
  },
  {
   "cell_type": "code",
   "execution_count": 24,
   "id": "cbf3e985",
   "metadata": {},
   "outputs": [
    {
     "name": "stdout",
     "output_type": "stream",
     "text": [
      "Intersection 1#:\n",
      "Line: Aufpunkt: [-1.2  1.4  0. ], Richtungsvektor [0.8 0.4 1. ]\n",
      "Intersection 2#:\n",
      "Line: Aufpunkt: [ 10. -21.   0.], Richtungsvektor [-2.  6.  1.]\n",
      "Intersection 3#:\n",
      "Line: Aufpunkt: [13.42857143 -0.42857143  0.        ], Richtungsvektor [-2.85714286  0.85714286  1.        ]\n"
     ]
    },
    {
     "data": {
      "text/latex": [
       "$\\displaystyle \\begin{pmatrix}x_1\\\\x_2\\\\x_3\\\\\\end{pmatrix}=\\begin{pmatrix}2\\\\3\\\\4\\\\\\end{pmatrix}+\\begin{pmatrix}0\\\\0\\\\0\\\\\\end{pmatrix}$"
      ],
      "text/plain": [
       "<IPython.core.display.Math object>"
      ]
     },
     "metadata": {},
     "output_type": "display_data"
    },
    {
     "data": {
      "text/plain": [
       "[array([2., 3., 0.])]"
      ]
     },
     "execution_count": 24,
     "metadata": {},
     "output_type": "execute_result"
    }
   ],
   "source": [
    "p1 = Plane(np.array((2,1,-2,-1)))\n",
    "p2 = Plane(np.array((1,8,-4,10)))\n",
    "p3 = Plane(np.array((6,-1,18,81)))\n",
    "\n",
    "p3_paralell_to_p2 = Plane(np.array((2,16,-8,10)))\n",
    "\n",
    "intersection_lines = Plane.intersect_all(p1, p2, p3)\n",
    "\n",
    "Line.intersect_all(*intersection_lines)"
   ]
  }
 ],
 "metadata": {
  "kernelspec": {
   "display_name": ".venv",
   "language": "python",
   "name": "python3"
  },
  "language_info": {
   "codemirror_mode": {
    "name": "ipython",
    "version": 3
   },
   "file_extension": ".py",
   "mimetype": "text/x-python",
   "name": "python",
   "nbconvert_exporter": "python",
   "pygments_lexer": "ipython3",
   "version": "3.12.3"
  }
 },
 "nbformat": 4,
 "nbformat_minor": 5
}
