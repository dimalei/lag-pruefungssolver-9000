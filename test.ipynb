{
 "cells": [
  {
   "cell_type": "markdown",
   "id": "dc92dccb",
   "metadata": {},
   "source": [
    "# lag Prüfungssolver 9000\n"
   ]
  },
  {
   "cell_type": "code",
   "execution_count": 22,
   "id": "afcb8717",
   "metadata": {},
   "outputs": [
    {
     "name": "stdout",
     "output_type": "stream",
     "text": [
      "Precision: 2.220446049250313e-16\n"
     ]
    }
   ],
   "source": [
    "import numpy as np\n",
    "import math\n",
    "from random import random, randint\n",
    "from util.core import mnull, mrref\n",
    "import util.core as co\n",
    "from IPython.display import display, Math\n",
    "\n",
    "print(f\"Precision: {np.finfo(float).eps}\")"
   ]
  },
  {
   "cell_type": "markdown",
   "id": "c35efcb7",
   "metadata": {},
   "source": [
    "### Testing"
   ]
  },
  {
   "cell_type": "code",
   "execution_count": 23,
   "id": "3bbe8ad3",
   "metadata": {},
   "outputs": [
    {
     "data": {
      "text/latex": [
       "$\\displaystyle \\begin{vmatrix*}[r]1x_1&2x_2&3x_3\\\\-4x_1&-5x_2&-6x_3\\\\12x_1&9.123x_2&-8.312x_3\\\\\\end{vmatrix*}$"
      ],
      "text/plain": [
       "<IPython.core.display.Math object>"
      ]
     },
     "metadata": {},
     "output_type": "display_data"
    },
    {
     "data": {
      "text/latex": [
       "$\\displaystyle \\begin{bmatrix}1&2&3\\\\-4&-5&-6\\\\12&9.123&-8.312\\\\\\end{bmatrix}$"
      ],
      "text/plain": [
       "<IPython.core.display.Math object>"
      ]
     },
     "metadata": {},
     "output_type": "display_data"
    },
    {
     "data": {
      "text/latex": [
       "$\\displaystyle \\begin{pmatrix}1\\\\2\\\\3\\\\4\\\\\\end{pmatrix}$"
      ],
      "text/plain": [
       "<IPython.core.display.Math object>"
      ]
     },
     "metadata": {},
     "output_type": "display_data"
    },
    {
     "name": "stdout",
     "output_type": "stream",
     "text": [
      "[-1  0  1]\n"
     ]
    },
    {
     "data": {
      "text/latex": [
       "$\\displaystyle \\begin{bmatrix}2&4&6\\\\-8&-10&-12\\\\24&18.246&-16.625\\\\\\end{bmatrix}$"
      ],
      "text/plain": [
       "<IPython.core.display.Math object>"
      ]
     },
     "metadata": {},
     "output_type": "display_data"
    },
    {
     "name": "stdout",
     "output_type": "stream",
     "text": [
      "180.0\n",
      "3.141592653589793\n",
      "CCW turn\n",
      "90.0\n"
     ]
    }
   ],
   "source": [
    "m = np.array(\n",
    "    [\n",
    "        [1, 2, 3],\n",
    "        [-4, -5, - 6],\n",
    "        [12, 9.12312, -8.31231],\n",
    "    ]\n",
    ")\n",
    "v= [1,2,3,4]\n",
    "\n",
    "co.display_coefficient_matrix(m)\n",
    "co.display_matrix(m)\n",
    "co.display_vector(v)\n",
    "\n",
    "print(np.array([1,3,4]) - np.array([2,3,3]))  \n",
    "\n",
    "# skalare matrixmultiplikation\n",
    "co.display_matrix(m * 2)\n",
    "\n",
    "print(np.degrees(np.pi)) # 180\n",
    "print(np.radians(180)) # pi\n",
    "\n",
    "\n",
    "a = [1,0]\n",
    "b = [0,1]\n",
    "print(np.degrees(co.angle_between_vectors(a,b)))"
   ]
  },
  {
   "cell_type": "markdown",
   "id": "e13b7cd3",
   "metadata": {},
   "source": [
    "### Polarkoordinaten zu kartesischen Koordinaten NNHCXF\n",
    "\n",
    "Geben Sie die kartesischen Koordinaten der Vektoren an.\n",
    "`[vx vy]=r*[cos(phi) sin(phi)]`\\\n",
    "Befehle: `np.array, np.cos, np.sin, print`\\\n",
    "a)\n"
   ]
  },
  {
   "cell_type": "code",
   "execution_count": 24,
   "id": "d56bb8cc",
   "metadata": {},
   "outputs": [
    {
     "name": "stdout",
     "output_type": "stream",
     "text": [
      "[-3.99842329 -3.00210113]\n"
     ]
    }
   ],
   "source": [
    "r = 5.0\n",
    "phi = 216.9  # in Grad\n",
    "degree = 2 * np.pi / 360  #\n",
    "vv = r * np.array([np.cos(phi * degree), np.sin(phi * degree)])\n",
    "print(vv)"
   ]
  },
  {
   "cell_type": "markdown",
   "id": "d2c7201b",
   "metadata": {},
   "source": [
    "### Beispiel 7.12 Hesse-Normalenform Koordinatenform 1V9ECJ"
   ]
  },
  {
   "cell_type": "code",
   "execution_count": 25,
   "id": "99711e2b",
   "metadata": {},
   "outputs": [
    {
     "name": "stdout",
     "output_type": "stream",
     "text": [
      "[25.]\n"
     ]
    }
   ],
   "source": [
    "E = [15,-12,16,-184]\n",
    "P = [-19,37,18]\n",
    "\n",
    "print(co.distance_to_plane_hesse(P, E))"
   ]
  },
  {
   "cell_type": "markdown",
   "id": "d137633e",
   "metadata": {},
   "source": [
    "### Beispiel 7.10 Abstand Punkt Ebene 2MZJ54"
   ]
  },
  {
   "cell_type": "code",
   "execution_count": 26,
   "id": "39385982",
   "metadata": {},
   "outputs": [
    {
     "name": "stdout",
     "output_type": "stream",
     "text": [
      "58.0\n"
     ]
    }
   ],
   "source": [
    "P = [10, 10, 10]\n",
    "E = [50, 10, -32]\n",
    "v = [21, 0, 20]\n",
    "w = [42, 20, 40]\n",
    "\n",
    "EP = np.array(P)- np.array(E)\n",
    "paralellogramm_fl = np.linalg.norm(np.cross(v, w))\n",
    "paralellopid_vol = np.dot(EP,np.cross(v, w))\n",
    "distance = paralellopid_vol / paralellogramm_fl\n",
    "\n",
    "print(distance)"
   ]
  },
  {
   "cell_type": "markdown",
   "id": "5dbc7e19",
   "metadata": {},
   "source": [
    "### Beispiel 8.3 Schnittmengen qualitativ: Homogene LGS GL27L6\n",
    "Ebene $E_1$, $E_2$ und $E_3$ geschnitten. Wie sieht die Schnittmenge $E_1 \\land E_2 \\land E_3$ aus?\n",
    "\n",
    "$$ \\begin{vmatrix}\n",
    "0x&+9y&+8z&=&0\\\\\n",
    "8x&+9y&+6z&=&0\\\\\n",
    "10x&+0y&+6z&=&0\n",
    "\\end{vmatrix}\n",
    "\\quad\\rightarrow\\quad\n",
    "\\begin{vmatrix}\n",
    "2x&+0y&+8z&=&0\\\\\n",
    "0x&+9y&+8z&=&0\\\\\n",
    "0x&+0y&+34z&=&0\n",
    "\\end{vmatrix}$$"
   ]
  },
  {
   "cell_type": "code",
   "execution_count": 27,
   "id": "ee1e5f60",
   "metadata": {},
   "outputs": [
    {
     "name": "stdout",
     "output_type": "stream",
     "text": [
      "a)\n"
     ]
    },
    {
     "data": {
      "text/latex": [
       "$\\displaystyle \\begin{pmatrix}x_1\\\\x_2\\\\x_3\\\\\\end{pmatrix}=\\begin{pmatrix}0\\\\0\\\\0\\\\\\end{pmatrix}$"
      ],
      "text/plain": [
       "<IPython.core.display.Math object>"
      ]
     },
     "metadata": {},
     "output_type": "display_data"
    }
   ],
   "source": [
    "print(\"a)\")\n",
    "lgs = np.array([\n",
    "    [0,9,8],\n",
    "    [8,9,6],\n",
    "    [10,0,6]\n",
    "])\n",
    "\n",
    "co.solve_null_space(lgs)\n",
    "# Schnittpunkt auf nullpunkt, keine freien variablen"
   ]
  },
  {
   "cell_type": "markdown",
   "id": "781f25ad",
   "metadata": {},
   "source": [
    "### Beispiel 8.12 Homogene lineare Gleichungssysteme 801980\n",
    "Bestimme die Lösungsmenge der homogenen linearen Gleichungsysteme\\\n",
    "a)\n",
    "$$ \\begin{vmatrix}\n",
    "E_1:&3x&+3y&+-12z&=&0\\\\\n",
    "E_2:&1x&+0y&-4z&=&0\\\\\n",
    "E_3:&5x&+2y&-20z&=&0\n",
    "\\end{vmatrix}"
   ]
  },
  {
   "cell_type": "code",
   "execution_count": 28,
   "id": "c262390e",
   "metadata": {},
   "outputs": [
    {
     "name": "stdout",
     "output_type": "stream",
     "text": [
      "a)\n"
     ]
    },
    {
     "data": {
      "text/latex": [
       "$\\displaystyle \\begin{pmatrix}x_1\\\\x_2\\\\x_3\\\\\\end{pmatrix}=\\lambda\\cdot\\begin{pmatrix}4\\\\0\\\\1\\\\\\end{pmatrix}$"
      ],
      "text/plain": [
       "<IPython.core.display.Math object>"
      ]
     },
     "metadata": {},
     "output_type": "display_data"
    }
   ],
   "source": [
    "lgs = np.array(\n",
    "    [\n",
    "        [3, 3, -12],\n",
    "        [1, 0, -4],\n",
    "        [5, +2, -20],\n",
    "    ]\n",
    ")\n",
    "\n",
    "print(\"a)\")\n",
    "co.solve_null_space(lgs)"
   ]
  },
  {
   "cell_type": "code",
   "execution_count": 29,
   "id": "7f599e28",
   "metadata": {},
   "outputs": [
    {
     "name": "stdout",
     "output_type": "stream",
     "text": [
      "b)\n"
     ]
    },
    {
     "data": {
      "text/latex": [
       "$\\displaystyle \\begin{pmatrix}x_1\\\\x_2\\\\x_3\\\\\\end{pmatrix}=\\begin{pmatrix}0\\\\0\\\\0\\\\\\end{pmatrix}$"
      ],
      "text/plain": [
       "<IPython.core.display.Math object>"
      ]
     },
     "metadata": {},
     "output_type": "display_data"
    }
   ],
   "source": [
    "lgs = np.array(\n",
    "    [\n",
    "        [3, 5, -5],\n",
    "        [0, 1, -3],\n",
    "        [0, 2, -5],\n",
    "    ]\n",
    ")\n",
    "\n",
    "print(\"b)\")\n",
    "# print(richtungsvektor) # [] -> keine Richtungsvektoren vorhanden. Nur die Triviale lösung erfüllt das lgs. (0,0,0)\n",
    "\n",
    "co.solve_null_space(lgs)\n"
   ]
  },
  {
   "cell_type": "code",
   "execution_count": 30,
   "id": "2953a0ec",
   "metadata": {},
   "outputs": [
    {
     "name": "stdout",
     "output_type": "stream",
     "text": [
      "c)\n"
     ]
    },
    {
     "data": {
      "text/latex": [
       "$\\displaystyle \\begin{pmatrix}x_1\\\\x_2\\\\x_3\\\\\\end{pmatrix}=\\lambda\\cdot\\begin{pmatrix}2\\\\-1\\\\1\\\\\\end{pmatrix}$"
      ],
      "text/plain": [
       "<IPython.core.display.Math object>"
      ]
     },
     "metadata": {},
     "output_type": "display_data"
    }
   ],
   "source": [
    "lgs = np.array(\n",
    "    [\n",
    "        [1, 3, 1],\n",
    "        [0, 1, 1],\n",
    "        [0, 2, 2],\n",
    "    ]\n",
    ")\n",
    "\n",
    "print(\"c)\")\n",
    "co.solve_null_space(lgs)"
   ]
  },
  {
   "cell_type": "markdown",
   "id": "d986922e",
   "metadata": {},
   "source": [
    "### Beispiel 8.4 Schnittmengen qualitativ: Inhomogene LGS EM75PE"
   ]
  },
  {
   "cell_type": "code",
   "execution_count": 31,
   "id": "56e02e5e",
   "metadata": {},
   "outputs": [
    {
     "name": "stdout",
     "output_type": "stream",
     "text": [
      "a)\n"
     ]
    },
    {
     "data": {
      "text/latex": [
       "$\\displaystyle \\begin{pmatrix}x_1\\\\x_2\\\\x_3\\\\\\end{pmatrix}=\\begin{pmatrix}2.833\\\\2.75\\\\3.708\\\\\\end{pmatrix}+\\begin{pmatrix}0\\\\0\\\\0\\\\\\end{pmatrix}$"
      ],
      "text/plain": [
       "<IPython.core.display.Math object>"
      ]
     },
     "metadata": {},
     "output_type": "display_data"
    }
   ],
   "source": [
    "print(\"a)\")\n",
    "lgs = np.array([\n",
    "    [2,1,-2,1],\n",
    "    [1,8,-4,10],\n",
    "    [6,-1,18,81],\n",
    "])\n",
    "\n",
    "# co.particular_solution(lgs)\n",
    "co.solve_general_solution(lgs)\n",
    "# schnittpunkt"
   ]
  },
  {
   "cell_type": "code",
   "execution_count": 32,
   "id": "382159e5",
   "metadata": {},
   "outputs": [
    {
     "name": "stdout",
     "output_type": "stream",
     "text": [
      "b)\n"
     ]
    },
    {
     "data": {
      "text/latex": [
       "$\\displaystyle \\begin{pmatrix}x_1\\\\x_2\\\\x_3\\\\\\end{pmatrix}=\\begin{pmatrix}2.4\\\\2.2\\\\0\\\\\\end{pmatrix}+\\lambda\\cdot\\begin{pmatrix}0.8\\\\0.4\\\\1\\\\\\end{pmatrix}$"
      ],
      "text/plain": [
       "<IPython.core.display.Math object>"
      ]
     },
     "metadata": {},
     "output_type": "display_data"
    }
   ],
   "source": [
    "print(\"b)\")\n",
    "lgs = np.array([\n",
    "    [2,1,-2,7],\n",
    "    [1,8,-4,20],\n",
    "    [-3,+6,0,6],\n",
    "])\n",
    "\n",
    "# co.particular_solution(lgs)\n",
    "co.solve_general_solution(lgs)\n",
    "# schnittgerade"
   ]
  },
  {
   "cell_type": "markdown",
   "id": "9881c540",
   "metadata": {},
   "source": [
    "### Beispiel 8.13 Richtungsvektoren und NullraumV5JXDD\n",
    "\n",
    "Mehrere Richtungsvektoren\n",
    "\n",
    "$$ \\begin{vmatrix}\n",
    "1x&+2y&+3z&=&0\\\\\n",
    "\\end{vmatrix}"
   ]
  },
  {
   "cell_type": "code",
   "execution_count": 33,
   "id": "2c72bfa3",
   "metadata": {},
   "outputs": [
    {
     "data": {
      "text/latex": [
       "$\\displaystyle \\begin{pmatrix}x_1\\\\x_2\\\\x_3\\\\\\end{pmatrix}=\\lambda\\cdot\\begin{pmatrix}-2\\\\1\\\\0\\\\\\end{pmatrix}+\\mu\\cdot\\begin{pmatrix}-3\\\\0\\\\1\\\\\\end{pmatrix}$"
      ],
      "text/plain": [
       "<IPython.core.display.Math object>"
      ]
     },
     "metadata": {},
     "output_type": "display_data"
    }
   ],
   "source": [
    "lgs = np.array(\n",
    "    [\n",
    "        [1, 2, 3],\n",
    "    ]\n",
    ")\n",
    "co.solve_null_space(lgs)\n"
   ]
  },
  {
   "cell_type": "markdown",
   "id": "dbd570b9",
   "metadata": {},
   "source": [
    "### Beispiel 8.14 Nullraum QWDLIG"
   ]
  },
  {
   "cell_type": "code",
   "execution_count": 34,
   "id": "8d0a4356",
   "metadata": {},
   "outputs": [
    {
     "name": "stdout",
     "output_type": "stream",
     "text": [
      "a)\n",
      "[[-1.2 -0.2]\n",
      " [ 1.   0. ]\n",
      " [ 0.   1. ]]\n"
     ]
    },
    {
     "data": {
      "text/latex": [
       "$\\displaystyle \\begin{pmatrix}x_1\\\\x_2\\\\x_3\\\\\\end{pmatrix}=\\lambda\\cdot\\begin{pmatrix}-1.2\\\\1\\\\0\\\\\\end{pmatrix}+\\mu\\cdot\\begin{pmatrix}-0.2\\\\0\\\\1\\\\\\end{pmatrix}$"
      ],
      "text/plain": [
       "<IPython.core.display.Math object>"
      ]
     },
     "metadata": {},
     "output_type": "display_data"
    }
   ],
   "source": [
    "print(\"a)\")\n",
    "lgs = np.array(\n",
    "    [\n",
    "        [5, 6, 1],\n",
    "    ]\n",
    ")\n",
    "co.solve_null_space(lgs, 1)"
   ]
  },
  {
   "cell_type": "markdown",
   "id": "32a1ecfd",
   "metadata": {},
   "source": [
    "# Kapitel 9 Matrixalgebra"
   ]
  },
  {
   "cell_type": "markdown",
   "id": "a2fa3028",
   "metadata": {},
   "source": [
    "### Beispiel 9.9 Produkt von zwei Matrizen CKZ2V1"
   ]
  },
  {
   "cell_type": "code",
   "execution_count": 35,
   "id": "1a40fea9",
   "metadata": {},
   "outputs": [
    {
     "name": "stdout",
     "output_type": "stream",
     "text": [
      "a\n"
     ]
    },
    {
     "data": {
      "text/latex": [
       "$\\displaystyle \\begin{bmatrix}14&26&12\\\\-12&23&26\\\\33&-9&48\\\\\\end{bmatrix}$"
      ],
      "text/plain": [
       "<IPython.core.display.Math object>"
      ]
     },
     "metadata": {},
     "output_type": "display_data"
    },
    {
     "name": "stdout",
     "output_type": "stream",
     "text": [
      "b\n"
     ]
    },
    {
     "data": {
      "text/latex": [
       "$\\displaystyle \\begin{bmatrix}25&15\\\\0&15\\\\\\end{bmatrix}$"
      ],
      "text/plain": [
       "<IPython.core.display.Math object>"
      ]
     },
     "metadata": {},
     "output_type": "display_data"
    },
    {
     "name": "stdout",
     "output_type": "stream",
     "text": [
      "c\n"
     ]
    },
    {
     "data": {
      "text/latex": [
       "$\\displaystyle \\begin{bmatrix}4&79\\\\6&25\\\\\\end{bmatrix}$"
      ],
      "text/plain": [
       "<IPython.core.display.Math object>"
      ]
     },
     "metadata": {},
     "output_type": "display_data"
    }
   ],
   "source": [
    "A = np.array(\n",
    "    [\n",
    "        [0, 4, 2],\n",
    "        [2, -1, 5],\n",
    "        [6, 0, -3],\n",
    "    ]\n",
    ")\n",
    "\n",
    "B = np.array(\n",
    "    [\n",
    "        [4, 1, 9],\n",
    "        [5, 4, 2],\n",
    "        [-3, 5, 2],\n",
    "    ]\n",
    ")\n",
    "\n",
    "C = np.array(\n",
    "    [\n",
    "        [5, 6],\n",
    "        [5, 1],\n",
    "    ]\n",
    ")\n",
    "\n",
    "D = np.array(\n",
    "    [\n",
    "        [-1, 3],\n",
    "        [5, 0],\n",
    "    ]\n",
    ")\n",
    "\n",
    "E = np.array(\n",
    "    [\n",
    "        [7, -2, 4, 0],\n",
    "        [3, 3, 0, 1],\n",
    "    ]\n",
    ")\n",
    "\n",
    "F = np.array(\n",
    "    [\n",
    "        [0, 9],\n",
    "        [2, 0],\n",
    "        [2, 4],\n",
    "        [0, -2],\n",
    "    ]\n",
    ")\n",
    "\n",
    "print(\"a\")\n",
    "co.display_matrix(np.matmul(A, B))\n",
    "print(\"b\")\n",
    "co.display_matrix(np.matmul(C, D))\n",
    "print(\"c\")\n",
    "co.display_matrix(np.matmul(E, F))\n",
    "# print(\"d\")\n",
    "# co.display_matrix(np.matmul(E, C)) # keine lösung"
   ]
  },
  {
   "cell_type": "markdown",
   "id": "66c2b429",
   "metadata": {},
   "source": [
    "### Beispiel 9.22 Linearkombination LQF58M\n"
   ]
  },
  {
   "cell_type": "code",
   "execution_count": 36,
   "id": "9b7cf367",
   "metadata": {},
   "outputs": [
    {
     "name": "stdout",
     "output_type": "stream",
     "text": [
      "a)\n",
      "[  6 -11 -10]\n",
      "b)\n",
      "[[-6  0  0]\n",
      " [ 6 -2  7]\n",
      " [ 9  1 -7]]\n",
      "Solution:\n",
      "[  6 -11 -10]\n"
     ]
    }
   ],
   "source": [
    "u = np.array([-6, 6, 9])\n",
    "v = np.array([0, -2, 1])\n",
    "w = np.array([0, 7, -7])\n",
    "l = np.array([-1, 6, 1])\n",
    "\n",
    "A = np.transpose(np.array([u, v, w])) # must be transposed to get a coefficient matrix\n",
    "print(\"a)\")\n",
    "print(-1 * u + 6 * v + 1 * w)\n",
    "\n",
    "print(\"b)\")\n",
    "print(A)\n",
    "print(f\"Solution:\")\n",
    "print(np.matmul(A, l))"
   ]
  },
  {
   "cell_type": "markdown",
   "id": "3fa5a606",
   "metadata": {},
   "source": [
    "### Beispiel 9.23 Linearkombination T46Q97\n"
   ]
  },
  {
   "cell_type": "code",
   "execution_count": 37,
   "id": "056a3124",
   "metadata": {},
   "outputs": [
    {
     "name": "stdout",
     "output_type": "stream",
     "text": [
      "a)\n"
     ]
    },
    {
     "data": {
      "text/latex": [
       "$\\displaystyle \\begin{pmatrix}-11\\\\-38\\\\17\\\\\\end{pmatrix}$"
      ],
      "text/plain": [
       "<IPython.core.display.Math object>"
      ]
     },
     "metadata": {},
     "output_type": "display_data"
    },
    {
     "name": "stdout",
     "output_type": "stream",
     "text": [
      "b)\n"
     ]
    },
    {
     "data": {
      "text/latex": [
       "$\\displaystyle \\begin{pmatrix}6\\\\3\\\\15\\\\\\end{pmatrix}$"
      ],
      "text/plain": [
       "<IPython.core.display.Math object>"
      ]
     },
     "metadata": {},
     "output_type": "display_data"
    }
   ],
   "source": [
    "print(\"a)\")\n",
    "M = np.array(\n",
    "    [\n",
    "        [1, -1, 0],\n",
    "        [6, 0, -5],\n",
    "        [0, 5, -1],\n",
    "    ]\n",
    ")\n",
    "v = np.array(\n",
    "    [\n",
    "        -8,\n",
    "        +3,\n",
    "        -2,\n",
    "    ]\n",
    ")\n",
    "\n",
    "co.display_vector(np.matmul(M, v))\n",
    "\n",
    "print(\"b)\")\n",
    "M = np.array(\n",
    "    [\n",
    "        [0, 1, 3],\n",
    "        [-1, 0, -1],\n",
    "        [3, 4, 15],\n",
    "    ]\n",
    ")\n",
    "v = np.array(\n",
    "    [\n",
    "        -4,\n",
    "        3,\n",
    "        1,\n",
    "    ]\n",
    ")\n",
    "\n",
    "co.display_vector(np.matmul(M, v))"
   ]
  },
  {
   "cell_type": "markdown",
   "id": "c6d3834c",
   "metadata": {},
   "source": [
    "### Beispiel 9.24 Matrix mal Vektor = Einsetzen in Koeffizientenmatrix CNNZ8U\n"
   ]
  },
  {
   "cell_type": "code",
   "execution_count": 38,
   "id": "c0f0dc28",
   "metadata": {},
   "outputs": [
    {
     "name": "stdout",
     "output_type": "stream",
     "text": [
      "a)\n",
      "[1 5]\n",
      "b)\n",
      "[1 5]\n",
      "c)\n",
      "[1 5]\n"
     ]
    }
   ],
   "source": [
    "A = np.array(\n",
    "    [\n",
    "        [1, -1, 2],\n",
    "        [6, 1, -1],\n",
    "    ]\n",
    ")\n",
    "x_p = [1, -2, -1]\n",
    "x_h = [-1, 13, 7]\n",
    "print(\"a)\")\n",
    "print(np.dot(A, x_p))\n",
    "print(\"b)\")\n",
    "print(np.matmul(A, x_p))  # matmul = matrix produkt\n",
    "print(\"c)\")\n",
    "print(np.dot(A, x_p))"
   ]
  },
  {
   "cell_type": "markdown",
   "id": "4ec10ff5",
   "metadata": {},
   "source": [
    "# Kapitel 10 Lineare Abbildungen\n"
   ]
  },
  {
   "cell_type": "markdown",
   "id": "76f65f37",
   "metadata": {},
   "source": [
    "### Beispiel 10.3 Linearitat IMSW1Y\n"
   ]
  },
  {
   "cell_type": "code",
   "execution_count": 39,
   "id": "0041c556",
   "metadata": {},
   "outputs": [
    {
     "name": "stdout",
     "output_type": "stream",
     "text": [
      "a)\n",
      "✔️ Null Vector:  0.0 is null\n",
      "✔️ Homogenity:   L(lambda * v) = 0.3517271467363267 =?= lambda * L(v) = 0.3517271467363267\n",
      "✔️ Additivity:   L(v + w) = 1.9549019833018764 =?= L(v) + L(w) = 1.9549019833018764\n",
      "✔️ Transformation is linear\n",
      "b)\n",
      "❌ Null Vector:  1 is NOT null\n",
      "❌ Homogenity:   L(lambda * v) = 2.222467708824104 =?= lambda * L(v) = 2.011027818274203\n",
      "❌ Additivity:   L(v + w) = 3.6337979126149484 =?= L(v) + L(w) = 4.6337979126149484\n",
      "❌ Transformation is NOT linear\n"
     ]
    }
   ],
   "source": [
    "print(\"a)\")\n",
    "w = co.random_vector(3)\n",
    "co.solve_check_linearity(3, lambda v: np.dot(v, w))\n",
    "print(\"b)\")\n",
    "co.solve_check_linearity(3, lambda v: 5 * v[0] - v[1] + 1)"
   ]
  },
  {
   "cell_type": "markdown",
   "id": "b14bc56a",
   "metadata": {},
   "source": [
    "### Beispiel 10.8 Linearität YHRNU8\n"
   ]
  },
  {
   "cell_type": "code",
   "execution_count": 40,
   "id": "8ac4e98d",
   "metadata": {},
   "outputs": [
    {
     "name": "stdout",
     "output_type": "stream",
     "text": [
      "a\n",
      "✔️ Null Vector:  [np.float64(0.0), np.float64(0.0)] is null\n",
      "✔️ Homogenity:   L(lambda * v) = [np.float64(0.2003261562470318), np.float64(0.6081421119003266)] =?= lambda * L(v) = [0.20032616 0.60814211]\n",
      "✔️ Additivity:   L(v + w) = [np.float64(0.7109933891329899), np.float64(1.125506074998603)] =?= L(v) + L(w) = [0.71099339 1.12550607]\n",
      "✔️ Transformation is linear\n",
      "b\n",
      "✔️ Null Vector:  0 is null\n",
      "❌ Homogenity:   L(lambda * v) = 0.036986151291584266 =?= lambda * L(v) = 0.060032590467225755\n",
      "❌ Additivity:   L(v + w) = 1.03628914805315 =?= L(v) + L(w) = 0.595783696311381\n",
      "❌ Transformation is NOT linear\n",
      "c\n",
      "✔️ Null Vector:  0 is null\n",
      "✔️ Homogenity:   L(lambda * v) = 2.864330854696733 =?= lambda * L(v) = 2.8643308546967328\n",
      "✔️ Additivity:   L(v + w) = 10.484115723201734 =?= L(v) + L(w) = 10.484115723201736\n",
      "✔️ Transformation is linear\n",
      "d\n",
      "✔️ Null Vector:  [0 0] is null\n",
      "✔️ Homogenity:   L(lambda * v) = [-0.18077445 -0.33150962] =?= lambda * L(v) = [-0.18077445 -0.33150962]\n",
      "✔️ Additivity:   L(v + w) = [-1.08038828 -1.61356181] =?= L(v) + L(w) = [-1.08038828 -1.61356181]\n",
      "✔️ Transformation is linear\n"
     ]
    }
   ],
   "source": [
    "print(\"a\")\n",
    "gamma = random()\n",
    "co.solve_check_linearity(\n",
    "    2,\n",
    "    lambda v: [\n",
    "        math.cos(gamma) * v[0],\n",
    "        math.sin(gamma) * v[1],\n",
    "    ],\n",
    ")\n",
    "print(\"b\")\n",
    "co.solve_check_linearity(2, lambda v: np.dot(v, v))\n",
    "print(\"c\")\n",
    "co.solve_check_linearity(2, lambda v: 5 * v[0] + 2 * v[1])\n",
    "print(\"d\")\n",
    "co.solve_check_linearity(2, lambda v: np.multiply(-1, v))"
   ]
  },
  {
   "cell_type": "code",
   "execution_count": 41,
   "id": "dbe1695e",
   "metadata": {},
   "outputs": [
    {
     "name": "stdout",
     "output_type": "stream",
     "text": [
      "e\n",
      "❌ Null Vector:  [1.0, 0.0] is NOT null\n",
      "❌ Homogenity:   L(lambda * v) = [0.8123127666750966, 0.49363990505933625] =?= lambda * L(v) = [0.73379973 0.49036985]\n",
      "❌ Additivity:   L(v + w) = [0.783088571671889, 0.8461998680208243] =?= L(v) + L(w) = [1.78578708 0.96544169]\n",
      "❌ Transformation is NOT linear\n",
      "f\n",
      "✔️ Null Vector:  [0, np.int64(0)] is null\n",
      "❌ Homogenity:   L(lambda * v) = [0, np.float64(0.11898535132602606)] =?= lambda * L(v) = [0.         0.13847945]\n",
      "❌ Additivity:   L(v + w) = [0, np.float64(0.403067298339832)] =?= L(v) + L(w) = [0.         0.21489845]\n",
      "❌ Transformation is NOT linear\n",
      "g\n",
      "✔️ Null Vector:  [np.int64(0), np.int64(0)] is null\n",
      "✔️ Homogenity:   L(lambda * v) = [np.float64(0.6853378532537852), np.float64(0.2704564348407646)] =?= lambda * L(v) = [0.68533785 0.27045643]\n",
      "✔️ Additivity:   L(v + w) = [np.float64(3.2286846966266194), np.float64(1.51678863608598)] =?= L(v) + L(w) = [3.2286847  1.51678864]\n",
      "✔️ Transformation is linear\n",
      "h\n",
      "✔️ Null Vector:  0 is null\n",
      "✔️ Homogenity:   L(lambda * v) = 0.44184503758044913 =?= lambda * L(v) = 0.44184503758044913\n",
      "✔️ Additivity:   L(v + w) = 0.5575774157941719 =?= L(v) + L(w) = 0.5575774157941719\n",
      "✔️ Transformation is linear\n"
     ]
    }
   ],
   "source": [
    "print(\"e\")\n",
    "co.solve_check_linearity(\n",
    "    2,\n",
    "    lambda v: [\n",
    "        math.cos(v[0]),\n",
    "        math.sin(v[1]),\n",
    "    ],\n",
    ")\n",
    "print(\"f\")\n",
    "co.solve_check_linearity(\n",
    "    2,\n",
    "    lambda v: [\n",
    "        0,\n",
    "        v[0] * v[1],\n",
    "    ],\n",
    ")\n",
    "print(\"g\")\n",
    "co.solve_check_linearity(\n",
    "    2,\n",
    "    lambda v: [\n",
    "        v[0] + v[1],\n",
    "        v[0],\n",
    "    ],\n",
    ")\n",
    "print(\"h\")\n",
    "co.solve_check_linearity(2, lambda v: v[0])"
   ]
  },
  {
   "cell_type": "code",
   "execution_count": 42,
   "id": "629b1b20",
   "metadata": {},
   "outputs": [
    {
     "name": "stdout",
     "output_type": "stream",
     "text": [
      "i\n",
      "✔️ Null Vector:  0 is null\n",
      "❌ Homogenity:   L(lambda * v) = 0.32161814049747744 =?= lambda * L(v) = 0.5506542550872296\n",
      "❌ Additivity:   L(v + w) = 3.662966447501717 =?= L(v) + L(w) = 1.8318770534652105\n",
      "❌ Transformation is NOT linear\n",
      "j\n",
      "❌ Null Vector:  1 is NOT null\n",
      "❌ Homogenity:   L(lambda * v) = 1.2822621892813977 =?= lambda * L(v) = 0.6534802872434693\n",
      "❌ Additivity:   L(v + w) = 2.155573248185473 =?= L(v) + L(w) = 3.155573248185473\n",
      "❌ Transformation is NOT linear\n",
      "k\n",
      "✔️ Null Vector:  [np.int64(0), np.int64(0)] is null\n",
      "✔️ Homogenity:   L(lambda * v) = [np.float64(0.7268717006414569), np.float64(1.2320409896051712)] =?= lambda * L(v) = [0.7268717  1.23204099]\n",
      "✔️ Additivity:   L(v + w) = [np.float64(3.658459427757271), np.float64(2.8182593662445257)] =?= L(v) + L(w) = [3.65845943 2.81825937]\n",
      "✔️ Transformation is linear\n"
     ]
    }
   ],
   "source": [
    "print(\"i\")\n",
    "co.solve_check_linearity(2, lambda v: v[0] ** 2)\n",
    "print(\"j\")\n",
    "co.solve_check_linearity(2, lambda v: v[0] + 1)\n",
    "print(\"k\")\n",
    "co.solve_check_linearity(\n",
    "    2,\n",
    "    lambda v: [\n",
    "        3 * v[0] - 4 * v[1],\n",
    "        v[0] + 5 * v[1],\n",
    "    ],\n",
    ")"
   ]
  }
 ],
 "metadata": {
  "kernelspec": {
   "display_name": ".venv",
   "language": "python",
   "name": "python3"
  },
  "language_info": {
   "codemirror_mode": {
    "name": "ipython",
    "version": 3
   },
   "file_extension": ".py",
   "mimetype": "text/x-python",
   "name": "python",
   "nbconvert_exporter": "python",
   "pygments_lexer": "ipython3",
   "version": "3.12.3"
  }
 },
 "nbformat": 4,
 "nbformat_minor": 5
}
