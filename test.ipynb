{
 "cells": [
  {
   "cell_type": "markdown",
   "id": "dc92dccb",
   "metadata": {},
   "source": [
    "# lag Prüfungssolver 9000"
   ]
  },
  {
   "cell_type": "code",
   "execution_count": 2,
   "id": "afcb8717",
   "metadata": {},
   "outputs": [
    {
     "name": "stdout",
     "output_type": "stream",
     "text": [
      "Precision: 2.220446049250313e-16\n"
     ]
    }
   ],
   "source": [
    "import numpy as np\n",
    "import math\n",
    "from random import random, randint\n",
    "from util.core import mnull, mrref, linearkombination_vektoren, check_linearity\n",
    "print(f\"Precision: {np.finfo(float).eps}\")"
   ]
  },
  {
   "cell_type": "markdown",
   "id": "e13b7cd3",
   "metadata": {},
   "source": [
    "### Polarkoordinaten zu kartesischen Koordinaten  NNHCXF\n",
    "Geben Sie die kartesischen Koordinaten der Vektoren an.\n",
    "`[vx vy]=r*[cos(phi) sin(phi)]`\\\n",
    "Befehle: `np.array, np.cos, np.sin, print`\\\n",
    "a)"
   ]
  },
  {
   "cell_type": "code",
   "execution_count": 3,
   "id": "d56bb8cc",
   "metadata": {},
   "outputs": [
    {
     "name": "stdout",
     "output_type": "stream",
     "text": [
      "[-3.99842329 -3.00210113]\n"
     ]
    }
   ],
   "source": [
    "r = 5.0\n",
    "phi = 216.9  # in Grad\n",
    "degree = 2 * np.pi / 360  #\n",
    "vv = r * np.array([np.cos(phi * degree), np.sin(phi * degree)])\n",
    "print(vv)"
   ]
  },
  {
   "cell_type": "markdown",
   "id": "de4f3d8e",
   "metadata": {},
   "source": [
    "$E = mc^2$"
   ]
  },
  {
   "cell_type": "code",
   "execution_count": 4,
   "id": "1ac53f0a",
   "metadata": {},
   "outputs": [
    {
     "name": "stdout",
     "output_type": "stream",
     "text": [
      "<class 'numpy.ndarray'>\n",
      "<class 'numpy.ndarray'>\n"
     ]
    }
   ],
   "source": [
    "matrix = np.array([[1, -4, -2, -25], [0, -3, 6, -18], [7, -13, -4, -85]])\n",
    "print(type(matrix))\n",
    "\n",
    "vector = np.array([1,3,4,5])\n",
    "print(type(vector))"
   ]
  },
  {
   "cell_type": "markdown",
   "id": "03848e1a",
   "metadata": {},
   "source": [
    "Test Linearkombi"
   ]
  },
  {
   "cell_type": "code",
   "execution_count": 5,
   "id": "6e967f8c",
   "metadata": {},
   "outputs": [
    {
     "name": "stdout",
     "output_type": "stream",
     "text": [
      "nicht Linear abhängig ❌\n"
     ]
    }
   ],
   "source": [
    "a = [3, 2, 0]\n",
    "b = [0, 4, 3]\n",
    "c = [3, 10, 61]\n",
    "linearkombination_vektoren(a, b, c)"
   ]
  },
  {
   "cell_type": "code",
   "execution_count": 6,
   "id": "6553ddc4",
   "metadata": {},
   "outputs": [
    {
     "name": "stdout",
     "output_type": "stream",
     "text": [
      "Linear abhängig ✔️\n",
      "a:  1\n",
      "b:  2\n",
      "c:  -1\n"
     ]
    }
   ],
   "source": [
    "a = [3, 2, 0]\n",
    "b = [0, 4, 3]\n",
    "c = [3, 10, 6]\n",
    "linearkombination_vektoren(a, b, c)"
   ]
  },
  {
   "cell_type": "markdown",
   "id": "b14bc56a",
   "metadata": {},
   "source": [
    "### Linearität von Abbildungen\n",
    "YHRNU8"
   ]
  },
  {
   "cell_type": "code",
   "execution_count": 11,
   "id": "8ac4e98d",
   "metadata": {},
   "outputs": [
    {
     "name": "stdout",
     "output_type": "stream",
     "text": [
      "a\n",
      "✔️ Null Vector:  [np.float64(0.0), np.float64(0.0)] is null vector\n",
      "✔️ Homogenity:   L(lambda * v) = [np.float64(0.19877120048654523), np.float64(0.1946867579253567)] =?= lambda * L(v) = [0.1987712  0.19468676]\n",
      "✔️ Additivity:   L(v + w) = [np.float64(0.9523002287012093), np.float64(0.5428443925544977)] =?= L(v) + L(w) = [0.95230023 0.54284439]\n",
      "✔️ Transformation is linear\n",
      "b\n",
      "✔️ Null Vector:  0 is null vector\n",
      "❌ Homogenity:   L(lambda * v) = 0.00016335490564262477 =?= lambda * L(v) = 0.008105131819138547\n",
      "❌ Additivity:   L(v + w) = 1.6481437612205174 =?= L(v) + L(w) = 1.00897752439625\n",
      "❌ Transformation is NOT linear\n",
      "c\n",
      "✔️ Null Vector:  0 is null vector\n",
      "✔️ Homogenity:   L(lambda * v) = 1.3937461475238249 =?= lambda * L(v) = 1.3937461475238246\n",
      "✔️ Additivity:   L(v + w) = 7.553262914207746 =?= L(v) + L(w) = 7.553262914207746\n",
      "✔️ Transformation is linear\n",
      "d\n",
      "✔️ Null Vector:  [0 0] is null vector\n",
      "✔️ Homogenity:   L(lambda * v) = [-0.66229751 -0.02747477] =?= lambda * L(v) = [-0.66229751 -0.02747477]\n",
      "✔️ Additivity:   L(v + w) = [-1.82388013 -0.0732995 ] =?= L(v) + L(w) = [-1.82388013 -0.0732995 ]\n",
      "✔️ Transformation is linear\n"
     ]
    },
    {
     "data": {
      "text/plain": [
       "True"
      ]
     },
     "execution_count": 11,
     "metadata": {},
     "output_type": "execute_result"
    }
   ],
   "source": [
    "print(\"a\")\n",
    "gamma = random()\n",
    "check_linearity(2, lambda v: [math.cos(gamma) * v[0], math.sin(gamma) * v[1]])\n",
    "print(\"b\")\n",
    "check_linearity(2, lambda v: np.dot(v, v))\n",
    "print(\"c\")\n",
    "check_linearity(2, lambda v: 5*v[0] + 2*v[1])\n",
    "print(\"d\")\n",
    "check_linearity(2, lambda v: np.multiply(-1, v))"
   ]
  },
  {
   "cell_type": "code",
   "execution_count": 12,
   "id": "dbe1695e",
   "metadata": {},
   "outputs": [
    {
     "name": "stdout",
     "output_type": "stream",
     "text": [
      "e\n",
      "❌ Null Vector:  [1.0, 0.0] is null vector\n",
      "❌ Homogenity:   L(lambda * v) = [0.9987961492574297, 0.020678522728917657] =?= lambda * L(v) = [0.12253498 0.02059496]\n",
      "❌ Additivity:   L(v + w) = [0.8173887644126209, 0.4399925632114334] =?= L(v) + L(w) = [1.9023601  0.45053438]\n",
      "❌ Transformation is NOT linear\n",
      "f\n",
      "✔️ Null Vector:  [0, np.int64(0)] is null vector\n",
      "❌ Homogenity:   L(lambda * v) = [0, np.float64(0.1623630556045643)] =?= lambda * L(v) = [0.         0.19063244]\n",
      "❌ Additivity:   L(v + w) = [0, np.float64(1.715574702690746)] =?= L(v) + L(w) = [0.         0.87897483]\n",
      "❌ Transformation is NOT linear\n",
      "g\n",
      "✔️ Null Vector:  [np.int64(0), np.int64(0)] is null vector\n",
      "✔️ Homogenity:   L(lambda * v) = [np.float64(1.3091847094570879), np.float64(0.7751721153581241)] =?= lambda * L(v) = [1.30918471 0.77517212]\n",
      "✔️ Additivity:   L(v + w) = [np.float64(2.8931135688182694), np.float64(1.5144496102223486)] =?= L(v) + L(w) = [2.89311357 1.51444961]\n",
      "✔️ Transformation is linear\n",
      "h\n",
      "✔️ Null Vector:  0 is null vector\n",
      "✔️ Homogenity:   L(lambda * v) = 0.5655353716159204 =?= lambda * L(v) = 0.5655353716159204\n",
      "✔️ Additivity:   L(v + w) = 1.964919335448599 =?= L(v) + L(w) = 1.964919335448599\n",
      "✔️ Transformation is linear\n"
     ]
    },
    {
     "data": {
      "text/plain": [
       "True"
      ]
     },
     "execution_count": 12,
     "metadata": {},
     "output_type": "execute_result"
    }
   ],
   "source": [
    "\n",
    "print(\"e\")\n",
    "check_linearity(2, lambda v: [math.cos(v[0]), math.sin(v[1])])\n",
    "print(\"f\")\n",
    "check_linearity(2, lambda v: [0, v[0] * v[1]])\n",
    "print(\"g\")\n",
    "check_linearity(2, lambda v: [v[0] + v[1], v[0]])\n",
    "print(\"h\")\n",
    "check_linearity(2, lambda v: v[0])\n"
   ]
  },
  {
   "cell_type": "code",
   "execution_count": null,
   "id": "629b1b20",
   "metadata": {},
   "outputs": [
    {
     "name": "stdout",
     "output_type": "stream",
     "text": [
      "i\n",
      "✔️ Null Vector:  0 is null vector\n",
      "❌ Homogenity:   L(lambda * v) = 0.21565672061824145 =?= lambda * L(v) = 0.2775751084095765\n",
      "❌ Additivity:   L(v + w) = 0.9846015862213463 =?= L(v) + L(w) = 0.5129403188170799\n",
      "❌ Transformation is NOT linear\n"
     ]
    },
    {
     "data": {
      "text/plain": [
       "False"
      ]
     },
     "execution_count": 13,
     "metadata": {},
     "output_type": "execute_result"
    }
   ],
   "source": [
    "print(\"i\")\n",
    "check_linearity(2, lambda v: v[0]**2)\n",
    "print(\"j\")\n",
    "check_linearity(2, lambda v: v[0]+1)\n",
    "print(\"k\")\n",
    "check_linearity(2, lambda v: v[0]**2)"
   ]
  },
  {
   "cell_type": "markdown",
   "id": "250fdf8a",
   "metadata": {},
   "source": []
  },
  {
   "cell_type": "code",
   "execution_count": null,
   "id": "f9174da0",
   "metadata": {},
   "outputs": [
    {
     "name": "stdout",
     "output_type": "stream",
     "text": [
      "True\n"
     ]
    }
   ],
   "source": [
    "a = [0.7823121103602525, 0.7015527943607519] \n",
    "b = [0.7823121103602525, 0.7015527943607519]\n",
    "print(np.allclose(a, b))\n"
   ]
  }
 ],
 "metadata": {
  "kernelspec": {
   "display_name": ".venv",
   "language": "python",
   "name": "python3"
  },
  "language_info": {
   "codemirror_mode": {
    "name": "ipython",
    "version": 3
   },
   "file_extension": ".py",
   "mimetype": "text/x-python",
   "name": "python",
   "nbconvert_exporter": "python",
   "pygments_lexer": "ipython3",
   "version": "3.12.3"
  }
 },
 "nbformat": 4,
 "nbformat_minor": 5
}
