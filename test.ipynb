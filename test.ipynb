{
 "cells": [
  {
   "cell_type": "markdown",
   "id": "dc92dccb",
   "metadata": {},
   "source": [
    "# lag Prüfungssolver 9000\n"
   ]
  },
  {
   "cell_type": "code",
   "execution_count": 2,
   "id": "afcb8717",
   "metadata": {},
   "outputs": [
    {
     "name": "stdout",
     "output_type": "stream",
     "text": [
      "Precision: 2.220446049250313e-16\n"
     ]
    }
   ],
   "source": [
    "import numpy as np\n",
    "import math\n",
    "from random import random, randint\n",
    "from util.core import mnull, mrref, linear_combination, check_linearity\n",
    "import util.core as co\n",
    "\n",
    "print(f\"Precision: {np.finfo(float).eps}\")"
   ]
  },
  {
   "cell_type": "markdown",
   "id": "e13b7cd3",
   "metadata": {},
   "source": [
    "### Polarkoordinaten zu kartesischen Koordinaten NNHCXF\n",
    "\n",
    "Geben Sie die kartesischen Koordinaten der Vektoren an.\n",
    "`[vx vy]=r*[cos(phi) sin(phi)]`\\\n",
    "Befehle: `np.array, np.cos, np.sin, print`\\\n",
    "a)\n"
   ]
  },
  {
   "cell_type": "code",
   "execution_count": 3,
   "id": "d56bb8cc",
   "metadata": {},
   "outputs": [
    {
     "name": "stdout",
     "output_type": "stream",
     "text": [
      "[-3.99842329 -3.00210113]\n"
     ]
    }
   ],
   "source": [
    "r = 5.0\n",
    "phi = 216.9  # in Grad\n",
    "degree = 2 * np.pi / 360  #\n",
    "vv = r * np.array([np.cos(phi * degree), np.sin(phi * degree)])\n",
    "print(vv)"
   ]
  },
  {
   "cell_type": "markdown",
   "id": "66c2b429",
   "metadata": {},
   "source": [
    "### Beispiel 9.22 Linearkombination LQF58M\n"
   ]
  },
  {
   "cell_type": "code",
   "execution_count": 4,
   "id": "9b7cf367",
   "metadata": {},
   "outputs": [
    {
     "name": "stdout",
     "output_type": "stream",
     "text": [
      "a)\n",
      "[  6 -11 -10]\n",
      "b)\n",
      "[[-6  6  9]\n",
      " [ 0 -2  1]\n",
      " [ 0  7 -7]]\n",
      "[[-6  0  0]\n",
      " [ 6 -2  7]\n",
      " [ 9  1 -7]]\n",
      "Solution: [  6 -11 -10]\n"
     ]
    }
   ],
   "source": [
    "u = np.array([-6, 6, 9])\n",
    "v = np.array([0, -2, 1])\n",
    "w = np.array([0, 7, -7])\n",
    "l = np.array([-1, 6, 1])\n",
    "\n",
    "A = np.array([u, v, w])\n",
    "\n",
    "print(\"a)\")\n",
    "print(-1 * u + 6 * v + 1 * w)\n",
    "\n",
    "print(\"b)\")\n",
    "print(A)  # must be transposed to get a coefficient matrix\n",
    "A = np.transpose(A)\n",
    "print(A)\n",
    "print(f\"Solution: {np.matmul(A, l)}\")"
   ]
  },
  {
   "cell_type": "markdown",
   "id": "3fa5a606",
   "metadata": {},
   "source": [
    "### Beispiel 9.23 Linearkombination T46Q97\n"
   ]
  },
  {
   "cell_type": "code",
   "execution_count": null,
   "id": "056a3124",
   "metadata": {},
   "outputs": [
    {
     "name": "stdout",
     "output_type": "stream",
     "text": [
      "a)\n"
     ]
    }
   ],
   "source": [
    "print(\"a)\")\n",
    "Ma = np.array([[1, -1, 0], [6, 0, -5], [0, 5, -1]])\n",
    "\n",
    "Ma = np.array([[1, -1, 0], [6, 0, -5], [0, 5, -1]])"
   ]
  },
  {
   "cell_type": "markdown",
   "id": "c6d3834c",
   "metadata": {},
   "source": [
    "### Beispiel 9.24 Matrix mal Vektor = Einsetzen in Koeffizientenmatrix CNNZ8U\n"
   ]
  },
  {
   "cell_type": "code",
   "execution_count": null,
   "id": "c0f0dc28",
   "metadata": {},
   "outputs": [
    {
     "name": "stdout",
     "output_type": "stream",
     "text": [
      "a)\n",
      "[1 5]\n",
      "b)\n",
      "[1 5]\n",
      "c)\n",
      "[1 5]\n"
     ]
    }
   ],
   "source": [
    "A = np.array([[1, -1, 2], [6, 1, -1]])\n",
    "x_p = [1, -2, -1]\n",
    "x_h = [-1, 13, 7]\n",
    "print(\"a)\")\n",
    "print(np.dot(A, x_p))\n",
    "print(\"b)\")\n",
    "print(np.matmul(A, x_p))  # matmul = matrix produkt\n",
    "print(\"c)\")\n",
    "print(np.dot(A, x_p))"
   ]
  },
  {
   "cell_type": "markdown",
   "id": "4ec10ff5",
   "metadata": {},
   "source": [
    "# Kapitel 10 Lineare Abbildungen\n"
   ]
  },
  {
   "cell_type": "markdown",
   "id": "76f65f37",
   "metadata": {},
   "source": [
    "### Beispiel 10.3 Linearitat IMSW1Y\n"
   ]
  },
  {
   "cell_type": "code",
   "execution_count": 6,
   "id": "0041c556",
   "metadata": {},
   "outputs": [
    {
     "name": "stdout",
     "output_type": "stream",
     "text": [
      "a)\n",
      "✔️ Null Vector:  0.0 is null\n",
      "✔️ Homogenity:   L(lambda * v) = 1.2254156124489426 =?= lambda * L(v) = 1.2254156124489426\n",
      "✔️ Additivity:   L(v + w) = 2.461658263787648 =?= L(v) + L(w) = 2.4616582637876476\n",
      "✔️ Transformation is linear\n",
      "b)\n",
      "❌ Null Vector:  1 is NOT null\n",
      "❌ Homogenity:   L(lambda * v) = 0.7684906360889987 =?= lambda * L(v) = 0.23242490167181262\n",
      "❌ Additivity:   L(v + w) = 3.473354052956467 =?= L(v) + L(w) = 4.473354052956467\n",
      "❌ Transformation is NOT linear\n"
     ]
    }
   ],
   "source": [
    "print(\"a)\")\n",
    "w = co.random_vector(3)\n",
    "check_linearity(3, lambda v: np.dot(v, w))\n",
    "print(\"b)\")\n",
    "check_linearity(3, lambda v: 5 * v[0] - v[1] + 1)"
   ]
  },
  {
   "cell_type": "markdown",
   "id": "b14bc56a",
   "metadata": {},
   "source": [
    "### Beispiel 10.8 Linearität YHRNU8\n"
   ]
  },
  {
   "cell_type": "code",
   "execution_count": null,
   "id": "8ac4e98d",
   "metadata": {},
   "outputs": [
    {
     "name": "stdout",
     "output_type": "stream",
     "text": [
      "a\n",
      "✔️ Null Vector:  [np.float64(0.0), np.float64(0.0)] is null\n",
      "✔️ Homogenity:   L(lambda * v) = [np.float64(0.16617739283087685), np.float64(0.013212974181233508)] =?= lambda * L(v) = [0.16617739 0.01321297]\n",
      "✔️ Additivity:   L(v + w) = [np.float64(1.2097938763318736), np.float64(0.08973051613694465)] =?= L(v) + L(w) = [1.20979388 0.08973052]\n",
      "✔️ Transformation is linear\n",
      "b\n",
      "✔️ Null Vector:  0 is null\n",
      "❌ Homogenity:   L(lambda * v) = 0.8126065433268072 =?= lambda * L(v) = 0.8261196212968664\n",
      "❌ Additivity:   L(v + w) = 2.735693298050151 =?= L(v) + L(w) = 1.6478002719414504\n",
      "❌ Transformation is NOT linear\n",
      "c\n",
      "✔️ Null Vector:  0 is null\n",
      "✔️ Homogenity:   L(lambda * v) = 4.1518375619584775 =?= lambda * L(v) = 4.1518375619584775\n",
      "✔️ Additivity:   L(v + w) = 7.316117063831869 =?= L(v) + L(w) = 7.316117063831869\n",
      "✔️ Transformation is linear\n",
      "d\n",
      "✔️ Null Vector:  [0 0] is null\n",
      "✔️ Homogenity:   L(lambda * v) = [-0.5019646 -0.5151235] =?= lambda * L(v) = [-0.5019646 -0.5151235]\n",
      "✔️ Additivity:   L(v + w) = [-1.03399998 -1.21233716] =?= L(v) + L(w) = [-1.03399998 -1.21233716]\n",
      "✔️ Transformation is linear\n"
     ]
    }
   ],
   "source": [
    "print(\"a\")\n",
    "gamma = random()\n",
    "check_linearity(2, lambda v: [math.cos(gamma) * v[0], math.sin(gamma) * v[1]])\n",
    "print(\"b\")\n",
    "check_linearity(2, lambda v: np.dot(v, v))\n",
    "print(\"c\")\n",
    "check_linearity(2, lambda v: 5 * v[0] + 2 * v[1])\n",
    "print(\"d\")\n",
    "check_linearity(2, lambda v: np.multiply(-1, v))"
   ]
  },
  {
   "cell_type": "code",
   "execution_count": null,
   "id": "dbe1695e",
   "metadata": {},
   "outputs": [
    {
     "name": "stdout",
     "output_type": "stream",
     "text": [
      "e\n",
      "❌ Null Vector:  [1.0, 0.0] is NOT null\n",
      "❌ Homogenity:   L(lambda * v) = [0.999868011792786, 0.04394995086839322] =?= lambda * L(v) = [0.04605709 0.0382403 ]\n",
      "❌ Additivity:   L(v + w) = [0.5829543860971379, 0.9243651019658518] =?= L(v) + L(w) = [1.76167518 1.0583904 ]\n",
      "❌ Transformation is NOT linear\n",
      "f\n",
      "✔️ Null Vector:  [0, np.int64(0)] is null\n",
      "❌ Homogenity:   L(lambda * v) = [0, np.float64(0.09640977745432235)] =?= lambda * L(v) = [0.         0.11422817]\n",
      "❌ Additivity:   L(v + w) = [0, np.float64(0.5223921452759842)] =?= L(v) + L(w) = [0.         0.26111276]\n",
      "❌ Transformation is NOT linear\n",
      "g\n",
      "✔️ Null Vector:  [np.int64(0), np.int64(0)] is null\n",
      "✔️ Homogenity:   L(lambda * v) = [np.float64(0.3991602667198936), np.float64(0.27922127530697205)] =?= lambda * L(v) = [0.39916027 0.27922128]\n",
      "✔️ Additivity:   L(v + w) = [np.float64(2.1425734325940047), np.float64(1.3394480500186026)] =?= L(v) + L(w) = [2.14257343 1.33944805]\n",
      "✔️ Transformation is linear\n",
      "h\n",
      "✔️ Null Vector:  0 is null\n",
      "✔️ Homogenity:   L(lambda * v) = 0.03543963185133578 =?= lambda * L(v) = 0.03543963185133578\n",
      "✔️ Additivity:   L(v + w) = 0.4610610580032303 =?= L(v) + L(w) = 0.4610610580032303\n",
      "✔️ Transformation is linear\n"
     ]
    }
   ],
   "source": [
    "print(\"e\")\n",
    "check_linearity(2, lambda v: [math.cos(v[0]), math.sin(v[1])])\n",
    "print(\"f\")\n",
    "check_linearity(2, lambda v: [0, v[0] * v[1]])\n",
    "print(\"g\")\n",
    "check_linearity(2, lambda v: [v[0] + v[1], v[0]])\n",
    "print(\"h\")\n",
    "check_linearity(2, lambda v: v[0])"
   ]
  },
  {
   "cell_type": "code",
   "execution_count": 9,
   "id": "629b1b20",
   "metadata": {},
   "outputs": [
    {
     "name": "stdout",
     "output_type": "stream",
     "text": [
      "i\n",
      "✔️ Null Vector:  0 is null\n",
      "❌ Homogenity:   L(lambda * v) = 0.03783537479090869 =?= lambda * L(v) = 0.13026734176921448\n",
      "❌ Additivity:   L(v + w) = 0.8303542193861969 =?= L(v) + L(w) = 0.5068467994100485\n",
      "❌ Transformation is NOT linear\n",
      "j\n",
      "❌ Null Vector:  1 is NOT null\n",
      "❌ Homogenity:   L(lambda * v) = 1.2913607103622702 =?= lambda * L(v) = 0.7277081892094786\n",
      "❌ Additivity:   L(v + w) = 1.8110284877265794 =?= L(v) + L(w) = 2.8110284877265794\n",
      "❌ Transformation is NOT linear\n",
      "k\n",
      "✔️ Null Vector:  [np.int64(0), np.int64(0)] is null\n",
      "✔️ Homogenity:   L(lambda * v) = [np.float64(0.30680691087685397), np.float64(0.8341728374568294)] =?= lambda * L(v) = [0.30680691 0.83417284]\n",
      "✔️ Additivity:   L(v + w) = [np.float64(1.4706897439287165), np.float64(6.768295112336469)] =?= L(v) + L(w) = [1.47068974 6.76829511]\n",
      "✔️ Transformation is linear\n"
     ]
    }
   ],
   "source": [
    "print(\"i\")\n",
    "check_linearity(2, lambda v: v[0] ** 2)\n",
    "print(\"j\")\n",
    "check_linearity(2, lambda v: v[0] + 1)\n",
    "print(\"k\")\n",
    "check_linearity(2, lambda v: [3 * v[0] - 4 * v[1], v[0] + 5 * v[1]])"
   ]
  }
 ],
 "metadata": {
  "kernelspec": {
   "display_name": ".venv",
   "language": "python",
   "name": "python3"
  },
  "language_info": {
   "codemirror_mode": {
    "name": "ipython",
    "version": 3
   },
   "file_extension": ".py",
   "mimetype": "text/x-python",
   "name": "python",
   "nbconvert_exporter": "python",
   "pygments_lexer": "ipython3",
   "version": "3.12.3"
  }
 },
 "nbformat": 4,
 "nbformat_minor": 5
}
