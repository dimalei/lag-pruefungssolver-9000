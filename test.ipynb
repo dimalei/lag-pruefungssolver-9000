{
 "cells": [
  {
   "cell_type": "markdown",
   "id": "dc92dccb",
   "metadata": {},
   "source": [
    "# lag Prüfungssolver 9000\n"
   ]
  },
  {
   "cell_type": "code",
   "execution_count": 1,
   "id": "afcb8717",
   "metadata": {},
   "outputs": [
    {
     "name": "stdout",
     "output_type": "stream",
     "text": [
      "Precision: 2.220446049250313e-16\n"
     ]
    }
   ],
   "source": [
    "import numpy as np\n",
    "import math\n",
    "from random import random, randint\n",
    "from util.core import mnull, mrref, linear_combination, check_linearity\n",
    "import util.core as co\n",
    "from IPython.display import display, Math\n",
    "\n",
    "print(f\"Precision: {np.finfo(float).eps}\")"
   ]
  },
  {
   "cell_type": "markdown",
   "id": "e13b7cd3",
   "metadata": {},
   "source": [
    "### Polarkoordinaten zu kartesischen Koordinaten NNHCXF\n",
    "\n",
    "Geben Sie die kartesischen Koordinaten der Vektoren an.\n",
    "`[vx vy]=r*[cos(phi) sin(phi)]`\\\n",
    "Befehle: `np.array, np.cos, np.sin, print`\\\n",
    "a)\n"
   ]
  },
  {
   "cell_type": "code",
   "execution_count": 2,
   "id": "d56bb8cc",
   "metadata": {},
   "outputs": [
    {
     "name": "stdout",
     "output_type": "stream",
     "text": [
      "[-3.99842329 -3.00210113]\n"
     ]
    }
   ],
   "source": [
    "r = 5.0\n",
    "phi = 216.9  # in Grad\n",
    "degree = 2 * np.pi / 360  #\n",
    "vv = r * np.array([np.cos(phi * degree), np.sin(phi * degree)])\n",
    "print(vv)"
   ]
  },
  {
   "cell_type": "markdown",
   "id": "5dbc7e19",
   "metadata": {},
   "source": [
    "### Beispiel 8.3 Schnittmengen qualitativ: Homogene LGS GL27L6\n",
    "Ebene $E_1$, $E_2$ und $E_3$ geschnitten. Wie sieht die Schnittmenge $E_1 \\land E_2 \\land E_3$ aus?\n",
    "\n",
    "$$ \\begin{vmatrix}\n",
    "0x&+9y&+8z&=&0\\\\\n",
    "8x&+9y&+6z&=&0\\\\\n",
    "10x&+0y&+6z&=&0\n",
    "\\end{vmatrix}\n",
    "\\quad\\rightarrow\\quad\n",
    "\\begin{vmatrix}\n",
    "2x&+0y&+8z&=&0\\\\\n",
    "0x&+9y&+8z&=&0\\\\\n",
    "0x&+0y&+34z&=&0\n",
    "\\end{vmatrix}$$"
   ]
  },
  {
   "cell_type": "code",
   "execution_count": 28,
   "id": "ee1e5f60",
   "metadata": {},
   "outputs": [
    {
     "name": "stdout",
     "output_type": "stream",
     "text": [
      "a)\n"
     ]
    },
    {
     "data": {
      "text/latex": [
       "$\\displaystyle \\begin{pmatrix}x_1\\\\x_2\\\\x_3\\\\\\end{pmatrix}=\\begin{pmatrix}0\\\\0\\\\0\\\\\\end{pmatrix}$"
      ],
      "text/plain": [
       "<IPython.core.display.Math object>"
      ]
     },
     "metadata": {},
     "output_type": "display_data"
    }
   ],
   "source": [
    "print(\"a)\")\n",
    "lgs = np.array([\n",
    "    [0,9,8],\n",
    "    [8,9,6],\n",
    "    [10,0,6]\n",
    "])\n",
    "\n",
    "co.display_null_space(lgs)\n",
    "# Schnittpunkt auf nullpunkt, keine freien variablen"
   ]
  },
  {
   "cell_type": "markdown",
   "id": "781f25ad",
   "metadata": {},
   "source": [
    "### Beispiel 8.12 Homogene lineare Gleichungssysteme 801980\n",
    "Bestimme die Lösungsmenge der homogenen linearen Gleichungsysteme\\\n",
    "a)\n",
    "$$ \\begin{vmatrix}\n",
    "E_1:&3x&+3y&+-12z&=&0\\\\\n",
    "E_2:&1x&+0y&-4z&=&0\\\\\n",
    "E_3:&5x&+2y&-20z&=&0\n",
    "\\end{vmatrix}"
   ]
  },
  {
   "cell_type": "code",
   "execution_count": 26,
   "id": "c262390e",
   "metadata": {},
   "outputs": [
    {
     "name": "stdout",
     "output_type": "stream",
     "text": [
      "a)\n"
     ]
    },
    {
     "data": {
      "text/latex": [
       "$\\displaystyle \\begin{pmatrix}x_1\\\\x_2\\\\x_3\\\\\\end{pmatrix}=\\lambda\\cdot\\begin{pmatrix}4\\\\0\\\\1\\\\\\end{pmatrix}$"
      ],
      "text/plain": [
       "<IPython.core.display.Math object>"
      ]
     },
     "metadata": {},
     "output_type": "display_data"
    }
   ],
   "source": [
    "lgs = np.array(\n",
    "    [\n",
    "        [3, 3, -12],\n",
    "        [1, 0, -4],\n",
    "        [5, +2, -20],\n",
    "    ]\n",
    ")\n",
    "\n",
    "print(\"a)\")\n",
    "co.display_null_space(lgs)"
   ]
  },
  {
   "cell_type": "code",
   "execution_count": 30,
   "id": "7f599e28",
   "metadata": {},
   "outputs": [
    {
     "name": "stdout",
     "output_type": "stream",
     "text": [
      "b)\n"
     ]
    },
    {
     "data": {
      "text/latex": [
       "$\\displaystyle \\begin{pmatrix}x_1\\\\x_2\\\\x_3\\\\\\end{pmatrix}=\\begin{pmatrix}0\\\\0\\\\0\\\\\\end{pmatrix}$"
      ],
      "text/plain": [
       "<IPython.core.display.Math object>"
      ]
     },
     "metadata": {},
     "output_type": "display_data"
    }
   ],
   "source": [
    "lgs = np.array(\n",
    "    [\n",
    "        [3, 5, -5],\n",
    "        [0, 1, -3],\n",
    "        [0, 2, -5],\n",
    "    ]\n",
    ")\n",
    "\n",
    "print(\"b)\")\n",
    "richtungsvektor = mnull(lgs)\n",
    "# print(richtungsvektor) # [] -> keine Richtungsvektoren vorhanden. Nur die Triviale lösung erfüllt das lgs. (0,0,0)\n",
    "\n",
    "co.display_null_space(lgs)\n"
   ]
  },
  {
   "cell_type": "code",
   "execution_count": 6,
   "id": "2953a0ec",
   "metadata": {},
   "outputs": [
    {
     "name": "stdout",
     "output_type": "stream",
     "text": [
      "c)\n"
     ]
    },
    {
     "data": {
      "text/latex": [
       "$\\displaystyle \\begin{pmatrix}x_1\\\\x_2\\\\x_3\\\\\\end{pmatrix}=\\lambda\\cdot\\begin{pmatrix}2\\\\-1\\\\1\\\\\\end{pmatrix}$"
      ],
      "text/plain": [
       "<IPython.core.display.Math object>"
      ]
     },
     "metadata": {},
     "output_type": "display_data"
    }
   ],
   "source": [
    "lgs = np.array(\n",
    "    [\n",
    "        [1, 3, 1],\n",
    "        [0, 1, 1],\n",
    "        [0, 2, 2],\n",
    "    ]\n",
    ")\n",
    "\n",
    "print(\"c)\")\n",
    "co.display_null_space(lgs)"
   ]
  },
  {
   "cell_type": "markdown",
   "id": "d986922e",
   "metadata": {},
   "source": [
    "### Beispiel 8.4 Schnittmengen qualitativ: Inhomogene LGS EM75PE"
   ]
  },
  {
   "cell_type": "code",
   "execution_count": null,
   "id": "56e02e5e",
   "metadata": {},
   "outputs": [
    {
     "name": "stdout",
     "output_type": "stream",
     "text": [
      "a)\n"
     ]
    },
    {
     "data": {
      "text/latex": [
       "$\\displaystyle \\begin{pmatrix}x_1\\\\x_2\\\\x_3\\\\\\end{pmatrix}=\\begin{pmatrix}2.833\\\\2.75\\\\3.708\\\\\\end{pmatrix}+\\begin{pmatrix}0\\\\0\\\\0\\\\\\end{pmatrix}$"
      ],
      "text/plain": [
       "<IPython.core.display.Math object>"
      ]
     },
     "metadata": {},
     "output_type": "display_data"
    }
   ],
   "source": [
    "print(\"a)\")\n",
    "lgs = np.array([\n",
    "    [2,1,-2,1],\n",
    "    [1,8,-4,10],\n",
    "    [6,-1,18,81],\n",
    "])\n",
    "\n",
    "# co.particular_solution(lgs)\n",
    "co.display_general_solution(lgs)\n",
    "# schnittpunkt"
   ]
  },
  {
   "cell_type": "code",
   "execution_count": null,
   "id": "382159e5",
   "metadata": {},
   "outputs": [
    {
     "name": "stdout",
     "output_type": "stream",
     "text": [
      "b)\n"
     ]
    },
    {
     "data": {
      "text/latex": [
       "$\\displaystyle \\begin{pmatrix}x_1\\\\x_2\\\\x_3\\\\\\end{pmatrix}=\\begin{pmatrix}2.4\\\\2.2\\\\0\\\\\\end{pmatrix}+\\lambda\\cdot\\begin{pmatrix}0.8\\\\0.4\\\\1\\\\\\end{pmatrix}$"
      ],
      "text/plain": [
       "<IPython.core.display.Math object>"
      ]
     },
     "metadata": {},
     "output_type": "display_data"
    }
   ],
   "source": [
    "print(\"b)\")\n",
    "lgs = np.array([\n",
    "    [2,1,-2,7],\n",
    "    [1,8,-4,20],\n",
    "    [-3,+6,0,6],\n",
    "])\n",
    "\n",
    "# co.particular_solution(lgs)\n",
    "co.display_general_solution(lgs)\n",
    "# schnittgerade"
   ]
  },
  {
   "cell_type": "markdown",
   "id": "9881c540",
   "metadata": {},
   "source": [
    "### Beispiel 8.13 Richtungsvektoren und NullraumV5JXDD\n",
    "\n",
    "Mehrere Richtungsvektoren\n",
    "\n",
    "$$ \\begin{vmatrix}\n",
    "1x&+2y&+3z&=&0\\\\\n",
    "\\end{vmatrix}"
   ]
  },
  {
   "cell_type": "code",
   "execution_count": 22,
   "id": "2c72bfa3",
   "metadata": {},
   "outputs": [
    {
     "data": {
      "text/latex": [
       "$\\displaystyle \\begin{pmatrix}x_1\\\\x_2\\\\x_3\\\\\\end{pmatrix}=\\lambda\\cdot\\begin{pmatrix}-2\\\\1\\\\0\\\\\\end{pmatrix}+\\mu\\cdot\\begin{pmatrix}-3\\\\0\\\\1\\\\\\end{pmatrix}$"
      ],
      "text/plain": [
       "<IPython.core.display.Math object>"
      ]
     },
     "metadata": {},
     "output_type": "display_data"
    }
   ],
   "source": [
    "lgs = np.array(\n",
    "    [\n",
    "        [1, 2, 3],\n",
    "    ]\n",
    ")\n",
    "co.display_null_space(lgs)\n"
   ]
  },
  {
   "cell_type": "markdown",
   "id": "dbd570b9",
   "metadata": {},
   "source": [
    "### Beispiel 8.14 Nullraum QWDLIG"
   ]
  },
  {
   "cell_type": "code",
   "execution_count": 9,
   "id": "8d0a4356",
   "metadata": {},
   "outputs": [
    {
     "name": "stdout",
     "output_type": "stream",
     "text": [
      "a)\n",
      "[[-1.2 -0.2]\n",
      " [ 1.   0. ]\n",
      " [ 0.   1. ]]\n"
     ]
    },
    {
     "data": {
      "text/latex": [
       "$\\displaystyle \\begin{pmatrix}x_1\\\\x_2\\\\x_3\\\\\\end{pmatrix}=\\lambda\\cdot\\begin{pmatrix}-1.2\\\\1\\\\0\\\\\\end{pmatrix}+\\mu\\cdot\\begin{pmatrix}-0.2\\\\0\\\\1\\\\\\end{pmatrix}$"
      ],
      "text/plain": [
       "<IPython.core.display.Math object>"
      ]
     },
     "metadata": {},
     "output_type": "display_data"
    }
   ],
   "source": [
    "print(\"a)\")\n",
    "lgs = np.array(\n",
    "    [\n",
    "        [5, 6, 1],\n",
    "    ]\n",
    ")\n",
    "co.display_null_space(lgs, 1)"
   ]
  },
  {
   "cell_type": "markdown",
   "id": "66c2b429",
   "metadata": {},
   "source": [
    "### Beispiel 9.22 Linearkombination LQF58M\n"
   ]
  },
  {
   "cell_type": "code",
   "execution_count": 10,
   "id": "9b7cf367",
   "metadata": {},
   "outputs": [
    {
     "name": "stdout",
     "output_type": "stream",
     "text": [
      "a)\n",
      "[  6 -11 -10]\n",
      "b)\n",
      "[[-6  0  0]\n",
      " [ 6 -2  7]\n",
      " [ 9  1 -7]]\n",
      "Solution:\n",
      "[  6 -11 -10]\n"
     ]
    }
   ],
   "source": [
    "u = np.array([-6, 6, 9])\n",
    "v = np.array([0, -2, 1])\n",
    "w = np.array([0, 7, -7])\n",
    "l = np.array([-1, 6, 1])\n",
    "\n",
    "A = np.transpose(np.array([u, v, w])) # must be transposed to get a coefficient matrix\n",
    "print(\"a)\")\n",
    "print(-1 * u + 6 * v + 1 * w)\n",
    "\n",
    "print(\"b)\")\n",
    "print(A)\n",
    "print(f\"Solution:\")\n",
    "print(np.matmul(A, l))"
   ]
  },
  {
   "cell_type": "markdown",
   "id": "3fa5a606",
   "metadata": {},
   "source": [
    "### Beispiel 9.23 Linearkombination T46Q97\n"
   ]
  },
  {
   "cell_type": "code",
   "execution_count": 11,
   "id": "056a3124",
   "metadata": {},
   "outputs": [
    {
     "name": "stdout",
     "output_type": "stream",
     "text": [
      "a)\n",
      "[-11 -38  17]\n",
      "b)\n",
      "[ 6  3 15]\n"
     ]
    }
   ],
   "source": [
    "print(\"a)\")\n",
    "M = np.array([\n",
    "    [1, -1, 0],\n",
    "    [6, 0, -5],\n",
    "    [0, 5, -1]\n",
    "    ])\n",
    "v = np.array([-8,+3,-2])\n",
    "\n",
    "print(np.matmul(M, v))\n",
    "\n",
    "print(\"b)\")\n",
    "M = np.array([\n",
    "    [0, 1, 3],\n",
    "    [-1, 0, -1],\n",
    "    [3, 4, 15]\n",
    "    ])\n",
    "v = np.array([-4,3,1])\n",
    "\n",
    "print(np.matmul(M, v))\n"
   ]
  },
  {
   "cell_type": "markdown",
   "id": "c6d3834c",
   "metadata": {},
   "source": [
    "### Beispiel 9.24 Matrix mal Vektor = Einsetzen in Koeffizientenmatrix CNNZ8U\n"
   ]
  },
  {
   "cell_type": "code",
   "execution_count": 12,
   "id": "c0f0dc28",
   "metadata": {},
   "outputs": [
    {
     "name": "stdout",
     "output_type": "stream",
     "text": [
      "a)\n",
      "[1 5]\n",
      "b)\n",
      "[1 5]\n",
      "c)\n",
      "[1 5]\n"
     ]
    }
   ],
   "source": [
    "A = np.array([[1, -1, 2], [6, 1, -1]])\n",
    "x_p = [1, -2, -1]\n",
    "x_h = [-1, 13, 7]\n",
    "print(\"a)\")\n",
    "print(np.dot(A, x_p))\n",
    "print(\"b)\")\n",
    "print(np.matmul(A, x_p))  # matmul = matrix produkt\n",
    "print(\"c)\")\n",
    "print(np.dot(A, x_p))"
   ]
  },
  {
   "cell_type": "markdown",
   "id": "4ec10ff5",
   "metadata": {},
   "source": [
    "# Kapitel 10 Lineare Abbildungen\n"
   ]
  },
  {
   "cell_type": "markdown",
   "id": "76f65f37",
   "metadata": {},
   "source": [
    "### Beispiel 10.3 Linearitat IMSW1Y\n"
   ]
  },
  {
   "cell_type": "code",
   "execution_count": 13,
   "id": "0041c556",
   "metadata": {},
   "outputs": [
    {
     "name": "stdout",
     "output_type": "stream",
     "text": [
      "a)\n",
      "✔️ Null Vector:  0.0 is null\n",
      "✔️ Homogenity:   L(lambda * v) = 0.22011609661387727 =?= lambda * L(v) = 0.22011609661387727\n",
      "✔️ Additivity:   L(v + w) = 0.6269841296366818 =?= L(v) + L(w) = 0.6269841296366817\n",
      "✔️ Transformation is linear\n",
      "b)\n",
      "❌ Null Vector:  1 is NOT null\n",
      "❌ Homogenity:   L(lambda * v) = 1.0284274476207662 =?= lambda * L(v) = 0.2507268067491871\n",
      "❌ Additivity:   L(v + w) = 2.261693806780472 =?= L(v) + L(w) = 3.2616938067804715\n",
      "❌ Transformation is NOT linear\n"
     ]
    }
   ],
   "source": [
    "print(\"a)\")\n",
    "w = co.random_vector(3)\n",
    "check_linearity(3, lambda v: np.dot(v, w))\n",
    "print(\"b)\")\n",
    "check_linearity(3, lambda v: 5 * v[0] - v[1] + 1)"
   ]
  },
  {
   "cell_type": "markdown",
   "id": "b14bc56a",
   "metadata": {},
   "source": [
    "### Beispiel 10.8 Linearität YHRNU8\n"
   ]
  },
  {
   "cell_type": "code",
   "execution_count": 14,
   "id": "8ac4e98d",
   "metadata": {},
   "outputs": [
    {
     "name": "stdout",
     "output_type": "stream",
     "text": [
      "a\n",
      "✔️ Null Vector:  [np.float64(0.0), np.float64(0.0)] is null\n",
      "✔️ Homogenity:   L(lambda * v) = [np.float64(0.11823531405510081), np.float64(0.016409503223381996)] =?= lambda * L(v) = [0.11823531 0.0164095 ]\n",
      "✔️ Additivity:   L(v + w) = [np.float64(0.7204727616498761), np.float64(0.758573800031911)] =?= L(v) + L(w) = [0.72047276 0.7585738 ]\n",
      "✔️ Transformation is linear\n",
      "b\n",
      "✔️ Null Vector:  0 is null\n",
      "❌ Homogenity:   L(lambda * v) = 0.04673124013190439 =?= lambda * L(v) = 0.055550824786570904\n",
      "❌ Additivity:   L(v + w) = 1.6184552702755286 =?= L(v) + L(w) = 1.103898146123562\n",
      "❌ Transformation is NOT linear\n",
      "c\n",
      "✔️ Null Vector:  0 is null\n",
      "✔️ Homogenity:   L(lambda * v) = 1.1476596245365067 =?= lambda * L(v) = 1.147659624536507\n",
      "✔️ Additivity:   L(v + w) = 8.38926583575262 =?= L(v) + L(w) = 8.38926583575262\n",
      "✔️ Transformation is linear\n",
      "d\n",
      "✔️ Null Vector:  [0 0] is null\n",
      "✔️ Homogenity:   L(lambda * v) = [-0.38990801 -0.11302333] =?= lambda * L(v) = [-0.38990801 -0.11302333]\n",
      "✔️ Additivity:   L(v + w) = [-0.867765   -0.33753962] =?= L(v) + L(w) = [-0.867765   -0.33753962]\n",
      "✔️ Transformation is linear\n"
     ]
    }
   ],
   "source": [
    "print(\"a\")\n",
    "gamma = random()\n",
    "check_linearity(2, lambda v: [math.cos(gamma) * v[0], math.sin(gamma) * v[1]])\n",
    "print(\"b\")\n",
    "check_linearity(2, lambda v: np.dot(v, v))\n",
    "print(\"c\")\n",
    "check_linearity(2, lambda v: 5 * v[0] + 2 * v[1])\n",
    "print(\"d\")\n",
    "check_linearity(2, lambda v: np.multiply(-1, v))"
   ]
  },
  {
   "cell_type": "code",
   "execution_count": null,
   "id": "dbe1695e",
   "metadata": {},
   "outputs": [
    {
     "name": "stdout",
     "output_type": "stream",
     "text": [
      "e\n",
      "❌ Null Vector:  [1.0, 0.0] is NOT null\n",
      "❌ Homogenity:   L(lambda * v) = [0.9956001502960777, 0.08546307702602465] =?= lambda * L(v) = [0.08244266 0.07824699]\n",
      "❌ Additivity:   L(v + w) = [0.036135769109751255, 0.7723987623166307] =?= L(v) + L(w) = [1.43894023 0.81986157]\n",
      "❌ Transformation is NOT linear\n",
      "f\n",
      "✔️ Null Vector:  [0, np.int64(0)] is null\n",
      "❌ Homogenity:   L(lambda * v) = [0, np.float64(0.3228159812199928)] =?= lambda * L(v) = [0.         0.41708158]\n",
      "❌ Additivity:   L(v + w) = [0, np.float64(2.108310812823122)] =?= L(v) + L(w) = [0.         1.05353045]\n",
      "❌ Transformation is NOT linear\n",
      "g\n",
      "✔️ Null Vector:  [np.int64(0), np.int64(0)] is null\n",
      "✔️ Homogenity:   L(lambda * v) = [np.float64(0.07109904286447127), np.float64(0.040721206506915984)] =?= lambda * L(v) = [0.07109904 0.04072121]\n",
      "✔️ Additivity:   L(v + w) = [np.float64(1.7484837896686454), np.float64(0.6030412199175121)] =?= L(v) + L(w) = [1.74848379 0.60304122]\n",
      "✔️ Transformation is linear\n",
      "h\n",
      "✔️ Null Vector:  0 is null\n",
      "✔️ Homogenity:   L(lambda * v) = 0.14030150778633982 =?= lambda * L(v) = 0.14030150778633982\n",
      "✔️ Additivity:   L(v + w) = 0.9514767148383235 =?= L(v) + L(w) = 0.9514767148383235\n",
      "✔️ Transformation is linear\n"
     ]
    }
   ],
   "source": [
    "print(\"e\")\n",
    "check_linearity(2, lambda v: [math.cos(v[0]), math.sin(v[1])])\n",
    "print(\"f\")\n",
    "check_linearity(2, lambda v: [0, v[0] * v[1]])\n",
    "print(\"g\")\n",
    "check_linearity(2, lambda v: [v[0] + v[1], v[0]])\n",
    "print(\"h\")\n",
    "check_linearity(2, lambda v: v[0])"
   ]
  },
  {
   "cell_type": "code",
   "execution_count": null,
   "id": "629b1b20",
   "metadata": {},
   "outputs": [
    {
     "name": "stdout",
     "output_type": "stream",
     "text": [
      "i\n",
      "✔️ Null Vector:  0 is null\n",
      "❌ Homogenity:   L(lambda * v) = 0.6065370420003633 =?= lambda * L(v) = 0.7775649349250873\n",
      "❌ Additivity:   L(v + w) = 1.2709493355679793 =?= L(v) + L(w) = 1.0134479583680545\n",
      "❌ Transformation is NOT linear\n",
      "j\n",
      "❌ Null Vector:  1 is NOT null\n",
      "❌ Homogenity:   L(lambda * v) = 1.3052796904617978 =?= lambda * L(v) = 1.1810237552518446\n",
      "❌ Additivity:   L(v + w) = 1.9284476060242493 =?= L(v) + L(w) = 2.9284476060242493\n",
      "❌ Transformation is NOT linear\n",
      "k\n",
      "✔️ Null Vector:  [np.int64(0), np.int64(0)] is null\n",
      "✔️ Homogenity:   L(lambda * v) = [np.float64(-0.8975277258479595), np.float64(1.5445598933368831)] =?= lambda * L(v) = [-0.89752773  1.54455989]\n",
      "✔️ Additivity:   L(v + w) = [np.float64(-2.544019227833875), np.float64(7.493228592091494)] =?= L(v) + L(w) = [-2.54401923  7.49322859]\n",
      "✔️ Transformation is linear\n"
     ]
    }
   ],
   "source": [
    "print(\"i\")\n",
    "check_linearity(2, lambda v: v[0] ** 2)\n",
    "print(\"j\")\n",
    "check_linearity(2, lambda v: v[0] + 1)\n",
    "print(\"k\")\n",
    "check_linearity(2, lambda v: [3 * v[0] - 4 * v[1], v[0] + 5 * v[1]])"
   ]
  }
 ],
 "metadata": {
  "kernelspec": {
   "display_name": ".venv",
   "language": "python",
   "name": "python3"
  },
  "language_info": {
   "codemirror_mode": {
    "name": "ipython",
    "version": 3
   },
   "file_extension": ".py",
   "mimetype": "text/x-python",
   "name": "python",
   "nbconvert_exporter": "python",
   "pygments_lexer": "ipython3",
   "version": "3.12.3"
  }
 },
 "nbformat": 4,
 "nbformat_minor": 5
}
