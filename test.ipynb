{
 "cells": [
  {
   "cell_type": "markdown",
   "id": "dc92dccb",
   "metadata": {},
   "source": [
    "# lag Prüfungssolver 9000\n"
   ]
  },
  {
   "cell_type": "code",
   "execution_count": 1,
   "id": "afcb8717",
   "metadata": {},
   "outputs": [
    {
     "name": "stdout",
     "output_type": "stream",
     "text": [
      "Precision: 2.220446049250313e-16\n"
     ]
    }
   ],
   "source": [
    "import numpy as np\n",
    "import math\n",
    "from random import random, randint\n",
    "from util.core import mnull, mrref\n",
    "import util.core as co\n",
    "from util.objects import Line, Plane\n",
    "from IPython.display import display, Math\n",
    "\n",
    "print(f\"Precision: {np.finfo(float).eps}\")"
   ]
  },
  {
   "cell_type": "markdown",
   "id": "c35efcb7",
   "metadata": {},
   "source": [
    "### Testing"
   ]
  },
  {
   "cell_type": "code",
   "execution_count": 2,
   "id": "3bbe8ad3",
   "metadata": {},
   "outputs": [
    {
     "data": {
      "text/latex": [
       "$\\displaystyle \\begin{vmatrix*}[r]1x_1&2x_2&3x_3\\\\-4x_1&-5x_2&-6x_3\\\\12x_1&9.123x_2&-8.312x_3\\\\\\end{vmatrix*}$"
      ],
      "text/plain": [
       "<IPython.core.display.Math object>"
      ]
     },
     "metadata": {},
     "output_type": "display_data"
    },
    {
     "data": {
      "text/latex": [
       "$\\displaystyle \\begin{bmatrix}1&2&3\\\\-4&-5&-6\\\\12&9.123&-8.312\\\\\\end{bmatrix}$"
      ],
      "text/plain": [
       "<IPython.core.display.Math object>"
      ]
     },
     "metadata": {},
     "output_type": "display_data"
    },
    {
     "data": {
      "text/latex": [
       "$\\displaystyle \\begin{pmatrix}1\\\\2\\\\3\\\\4\\\\\\end{pmatrix}$"
      ],
      "text/plain": [
       "<IPython.core.display.Math object>"
      ]
     },
     "metadata": {},
     "output_type": "display_data"
    },
    {
     "name": "stdout",
     "output_type": "stream",
     "text": [
      "[-1  0  1]\n"
     ]
    },
    {
     "data": {
      "text/latex": [
       "$\\displaystyle \\begin{bmatrix}2&4&6\\\\-8&-10&-12\\\\24&18.246&-16.625\\\\\\end{bmatrix}$"
      ],
      "text/plain": [
       "<IPython.core.display.Math object>"
      ]
     },
     "metadata": {},
     "output_type": "display_data"
    },
    {
     "name": "stdout",
     "output_type": "stream",
     "text": [
      "180.0\n",
      "3.141592653589793\n",
      "CCW turn\n",
      "90.0\n"
     ]
    }
   ],
   "source": [
    "m = np.array(\n",
    "    [\n",
    "        [1, 2, 3],\n",
    "        [-4, -5, - 6],\n",
    "        [12, 9.12312, -8.31231],\n",
    "    ]\n",
    ")\n",
    "v= [1,2,3,4]\n",
    "\n",
    "co.display_coefficient_matrix(m)\n",
    "co.display_matrix(m)\n",
    "co.display_vector(v)\n",
    "\n",
    "print(np.array([1,3,4]) - np.array([2,3,3]))  \n",
    "\n",
    "# skalare matrixmultiplikation\n",
    "co.display_matrix(m * 2)\n",
    "\n",
    "print(np.degrees(np.pi)) # 180\n",
    "print(np.radians(180)) # pi\n",
    "\n",
    "\n",
    "a = [1,0]\n",
    "b = [0,1]\n",
    "print(np.degrees(co.angle_between_vectors(a,b)))"
   ]
  },
  {
   "cell_type": "markdown",
   "id": "e13b7cd3",
   "metadata": {},
   "source": [
    "### Polarkoordinaten zu kartesischen Koordinaten NNHCXF\n",
    "\n",
    "Geben Sie die kartesischen Koordinaten der Vektoren an.\n",
    "`[vx vy]=r*[cos(phi) sin(phi)]`\\\n",
    "Befehle: `np.array, np.cos, np.sin, print`\\\n",
    "a)\n"
   ]
  },
  {
   "cell_type": "code",
   "execution_count": 3,
   "id": "d56bb8cc",
   "metadata": {},
   "outputs": [
    {
     "name": "stdout",
     "output_type": "stream",
     "text": [
      "[-3.99842329 -3.00210113]\n"
     ]
    }
   ],
   "source": [
    "r = 5.0\n",
    "phi = 216.9  # in Grad\n",
    "degree = 2 * np.pi / 360  #\n",
    "vv = r * np.array([np.cos(phi * degree), np.sin(phi * degree)])\n",
    "print(vv)"
   ]
  },
  {
   "cell_type": "markdown",
   "id": "d2c7201b",
   "metadata": {},
   "source": [
    "### Beispiel 7.12 Hesse-Normalenform Koordinatenform 1V9ECJ"
   ]
  },
  {
   "cell_type": "code",
   "execution_count": 4,
   "id": "99711e2b",
   "metadata": {},
   "outputs": [
    {
     "name": "stdout",
     "output_type": "stream",
     "text": [
      "[25.]\n"
     ]
    }
   ],
   "source": [
    "E = [15,-12,16,-184]\n",
    "P = [-19,37,18]\n",
    "\n",
    "print(co.distance_to_plane_hesse(P, E))"
   ]
  },
  {
   "cell_type": "markdown",
   "id": "d137633e",
   "metadata": {},
   "source": [
    "### Beispiel 7.10 Abstand Punkt Ebene 2MZJ54"
   ]
  },
  {
   "cell_type": "code",
   "execution_count": 5,
   "id": "39385982",
   "metadata": {},
   "outputs": [
    {
     "name": "stdout",
     "output_type": "stream",
     "text": [
      "58.0\n"
     ]
    }
   ],
   "source": [
    "P = [10, 10, 10]\n",
    "E = [50, 10, -32]\n",
    "v = [21, 0, 20]\n",
    "w = [42, 20, 40]\n",
    "\n",
    "EP = np.array(P)- np.array(E)\n",
    "paralellogramm_fl = np.linalg.norm(np.cross(v, w))\n",
    "paralellopid_vol = np.dot(EP,np.cross(v, w))\n",
    "distance = paralellopid_vol / paralellogramm_fl\n",
    "\n",
    "print(distance)"
   ]
  },
  {
   "cell_type": "markdown",
   "id": "5dbc7e19",
   "metadata": {},
   "source": [
    "### Beispiel 8.3 Schnittmengen qualitativ: Homogene LGS GL27L6\n",
    "Ebene $E_1$, $E_2$ und $E_3$ geschnitten. Wie sieht die Schnittmenge $E_1 \\land E_2 \\land E_3$ aus?\n",
    "\n",
    "$$ \\begin{vmatrix}\n",
    "0x&+9y&+8z&=&0\\\\\n",
    "8x&+9y&+6z&=&0\\\\\n",
    "10x&+0y&+6z&=&0\n",
    "\\end{vmatrix}\n",
    "\\quad\\rightarrow\\quad\n",
    "\\begin{vmatrix}\n",
    "2x&+0y&+8z&=&0\\\\\n",
    "0x&+9y&+8z&=&0\\\\\n",
    "0x&+0y&+34z&=&0\n",
    "\\end{vmatrix}$$"
   ]
  },
  {
   "cell_type": "code",
   "execution_count": 6,
   "id": "ee1e5f60",
   "metadata": {},
   "outputs": [
    {
     "name": "stdout",
     "output_type": "stream",
     "text": [
      "a)\n"
     ]
    },
    {
     "data": {
      "text/latex": [
       "$\\displaystyle \\begin{pmatrix}x_1\\\\x_2\\\\x_3\\\\\\end{pmatrix}=\\begin{pmatrix}0\\\\0\\\\0\\\\\\end{pmatrix}$"
      ],
      "text/plain": [
       "<IPython.core.display.Math object>"
      ]
     },
     "metadata": {},
     "output_type": "display_data"
    }
   ],
   "source": [
    "print(\"a)\")\n",
    "lgs = np.array([\n",
    "    [0,9,8],\n",
    "    [8,9,6],\n",
    "    [10,0,6]\n",
    "])\n",
    "\n",
    "co.solve_null_space(lgs)\n",
    "# Schnittpunkt auf nullpunkt, keine freien variablen"
   ]
  },
  {
   "cell_type": "markdown",
   "id": "781f25ad",
   "metadata": {},
   "source": [
    "### Beispiel 8.12 Homogene lineare Gleichungssysteme 801980\n",
    "Bestimme die Lösungsmenge der homogenen linearen Gleichungsysteme\\\n",
    "a)\n",
    "$$ \\begin{vmatrix}\n",
    "E_1:&3x&+3y&+-12z&=&0\\\\\n",
    "E_2:&1x&+0y&-4z&=&0\\\\\n",
    "E_3:&5x&+2y&-20z&=&0\n",
    "\\end{vmatrix}"
   ]
  },
  {
   "cell_type": "code",
   "execution_count": 7,
   "id": "c262390e",
   "metadata": {},
   "outputs": [
    {
     "name": "stdout",
     "output_type": "stream",
     "text": [
      "a)\n"
     ]
    },
    {
     "data": {
      "text/latex": [
       "$\\displaystyle \\begin{pmatrix}x_1\\\\x_2\\\\x_3\\\\\\end{pmatrix}=\\lambda\\cdot\\begin{pmatrix}4\\\\0\\\\1\\\\\\end{pmatrix}$"
      ],
      "text/plain": [
       "<IPython.core.display.Math object>"
      ]
     },
     "metadata": {},
     "output_type": "display_data"
    }
   ],
   "source": [
    "lgs = np.array(\n",
    "    [\n",
    "        [3, 3, -12],\n",
    "        [1, 0, -4],\n",
    "        [5, +2, -20],\n",
    "    ]\n",
    ")\n",
    "\n",
    "print(\"a)\")\n",
    "co.solve_null_space(lgs)"
   ]
  },
  {
   "cell_type": "code",
   "execution_count": 8,
   "id": "7f599e28",
   "metadata": {},
   "outputs": [
    {
     "name": "stdout",
     "output_type": "stream",
     "text": [
      "b)\n"
     ]
    },
    {
     "data": {
      "text/latex": [
       "$\\displaystyle \\begin{pmatrix}x_1\\\\x_2\\\\x_3\\\\\\end{pmatrix}=\\begin{pmatrix}0\\\\0\\\\0\\\\\\end{pmatrix}$"
      ],
      "text/plain": [
       "<IPython.core.display.Math object>"
      ]
     },
     "metadata": {},
     "output_type": "display_data"
    }
   ],
   "source": [
    "lgs = np.array(\n",
    "    [\n",
    "        [3, 5, -5],\n",
    "        [0, 1, -3],\n",
    "        [0, 2, -5],\n",
    "    ]\n",
    ")\n",
    "\n",
    "print(\"b)\")\n",
    "# print(richtungsvektor) # [] -> keine Richtungsvektoren vorhanden. Nur die Triviale lösung erfüllt das lgs. (0,0,0)\n",
    "\n",
    "co.solve_null_space(lgs)\n"
   ]
  },
  {
   "cell_type": "code",
   "execution_count": 9,
   "id": "2953a0ec",
   "metadata": {},
   "outputs": [
    {
     "name": "stdout",
     "output_type": "stream",
     "text": [
      "c)\n"
     ]
    },
    {
     "data": {
      "text/latex": [
       "$\\displaystyle \\begin{pmatrix}x_1\\\\x_2\\\\x_3\\\\\\end{pmatrix}=\\lambda\\cdot\\begin{pmatrix}2\\\\-1\\\\1\\\\\\end{pmatrix}$"
      ],
      "text/plain": [
       "<IPython.core.display.Math object>"
      ]
     },
     "metadata": {},
     "output_type": "display_data"
    }
   ],
   "source": [
    "lgs = np.array(\n",
    "    [\n",
    "        [1, 3, 1],\n",
    "        [0, 1, 1],\n",
    "        [0, 2, 2],\n",
    "    ]\n",
    ")\n",
    "\n",
    "print(\"c)\")\n",
    "co.solve_null_space(lgs)"
   ]
  },
  {
   "cell_type": "markdown",
   "id": "d986922e",
   "metadata": {},
   "source": [
    "### Beispiel 8.4 Schnittmengen qualitativ: Inhomogene LGS EM75PE"
   ]
  },
  {
   "cell_type": "code",
   "execution_count": 10,
   "id": "56e02e5e",
   "metadata": {},
   "outputs": [
    {
     "name": "stdout",
     "output_type": "stream",
     "text": [
      "a)\n"
     ]
    },
    {
     "data": {
      "text/latex": [
       "$\\displaystyle \\begin{pmatrix}x_1\\\\x_2\\\\x_3\\\\\\end{pmatrix}=\\begin{pmatrix}2.833\\\\2.75\\\\3.708\\\\\\end{pmatrix}+\\begin{pmatrix}0\\\\0\\\\0\\\\\\end{pmatrix}$"
      ],
      "text/plain": [
       "<IPython.core.display.Math object>"
      ]
     },
     "metadata": {},
     "output_type": "display_data"
    }
   ],
   "source": [
    "print(\"a)\")\n",
    "lgs = np.array([\n",
    "    [2,1,-2,1],\n",
    "    [1,8,-4,10],\n",
    "    [6,-1,18,81],\n",
    "])\n",
    "\n",
    "# co.particular_solution(lgs)\n",
    "co.solve_general_solution(lgs)\n",
    "# schnittpunkt"
   ]
  },
  {
   "cell_type": "code",
   "execution_count": 11,
   "id": "382159e5",
   "metadata": {},
   "outputs": [
    {
     "name": "stdout",
     "output_type": "stream",
     "text": [
      "b)\n"
     ]
    },
    {
     "data": {
      "text/latex": [
       "$\\displaystyle \\begin{pmatrix}x_1\\\\x_2\\\\x_3\\\\\\end{pmatrix}=\\begin{pmatrix}2.4\\\\2.2\\\\0\\\\\\end{pmatrix}+\\lambda\\cdot\\begin{pmatrix}0.8\\\\0.4\\\\1\\\\\\end{pmatrix}$"
      ],
      "text/plain": [
       "<IPython.core.display.Math object>"
      ]
     },
     "metadata": {},
     "output_type": "display_data"
    }
   ],
   "source": [
    "print(\"b)\")\n",
    "lgs = np.array([\n",
    "    [2,1,-2,7],\n",
    "    [1,8,-4,20],\n",
    "    [-3,+6,0,6],\n",
    "])\n",
    "\n",
    "# co.particular_solution(lgs)\n",
    "co.solve_general_solution(lgs)\n",
    "# schnittgerade"
   ]
  },
  {
   "cell_type": "markdown",
   "id": "9881c540",
   "metadata": {},
   "source": [
    "### Beispiel 8.13 Richtungsvektoren und NullraumV5JXDD\n",
    "\n",
    "Mehrere Richtungsvektoren\n",
    "\n",
    "$$ \\begin{vmatrix}\n",
    "1x&+2y&+3z&=&0\\\\\n",
    "\\end{vmatrix}"
   ]
  },
  {
   "cell_type": "code",
   "execution_count": 12,
   "id": "2c72bfa3",
   "metadata": {},
   "outputs": [
    {
     "data": {
      "text/latex": [
       "$\\displaystyle \\begin{pmatrix}x_1\\\\x_2\\\\x_3\\\\\\end{pmatrix}=\\lambda\\cdot\\begin{pmatrix}-2\\\\1\\\\0\\\\\\end{pmatrix}+\\mu\\cdot\\begin{pmatrix}-3\\\\0\\\\1\\\\\\end{pmatrix}$"
      ],
      "text/plain": [
       "<IPython.core.display.Math object>"
      ]
     },
     "metadata": {},
     "output_type": "display_data"
    }
   ],
   "source": [
    "lgs = np.array(\n",
    "    [\n",
    "        [1, 2, 3],\n",
    "    ]\n",
    ")\n",
    "co.solve_null_space(lgs)\n"
   ]
  },
  {
   "cell_type": "markdown",
   "id": "dbd570b9",
   "metadata": {},
   "source": [
    "### Beispiel 8.14 Nullraum QWDLIG"
   ]
  },
  {
   "cell_type": "code",
   "execution_count": 13,
   "id": "8d0a4356",
   "metadata": {},
   "outputs": [
    {
     "name": "stdout",
     "output_type": "stream",
     "text": [
      "a)\n",
      "[[-1.2 -0.2]\n",
      " [ 1.   0. ]\n",
      " [ 0.   1. ]]\n"
     ]
    },
    {
     "data": {
      "text/latex": [
       "$\\displaystyle \\begin{pmatrix}x_1\\\\x_2\\\\x_3\\\\\\end{pmatrix}=\\lambda\\cdot\\begin{pmatrix}-1.2\\\\1\\\\0\\\\\\end{pmatrix}+\\mu\\cdot\\begin{pmatrix}-0.2\\\\0\\\\1\\\\\\end{pmatrix}$"
      ],
      "text/plain": [
       "<IPython.core.display.Math object>"
      ]
     },
     "metadata": {},
     "output_type": "display_data"
    }
   ],
   "source": [
    "print(\"a)\")\n",
    "lgs = np.array(\n",
    "    [\n",
    "        [5, 6, 1],\n",
    "    ]\n",
    ")\n",
    "co.solve_null_space(lgs, 1)"
   ]
  },
  {
   "cell_type": "markdown",
   "id": "32a1ecfd",
   "metadata": {},
   "source": [
    "# Kapitel 9 Matrixalgebra"
   ]
  },
  {
   "cell_type": "markdown",
   "id": "a2fa3028",
   "metadata": {},
   "source": [
    "### Beispiel 9.9 Produkt von zwei Matrizen CKZ2V1"
   ]
  },
  {
   "cell_type": "code",
   "execution_count": 14,
   "id": "1a40fea9",
   "metadata": {},
   "outputs": [
    {
     "name": "stdout",
     "output_type": "stream",
     "text": [
      "a\n"
     ]
    },
    {
     "data": {
      "text/latex": [
       "$\\displaystyle \\begin{bmatrix}14&26&12\\\\-12&23&26\\\\33&-9&48\\\\\\end{bmatrix}$"
      ],
      "text/plain": [
       "<IPython.core.display.Math object>"
      ]
     },
     "metadata": {},
     "output_type": "display_data"
    },
    {
     "name": "stdout",
     "output_type": "stream",
     "text": [
      "b\n"
     ]
    },
    {
     "data": {
      "text/latex": [
       "$\\displaystyle \\begin{bmatrix}25&15\\\\0&15\\\\\\end{bmatrix}$"
      ],
      "text/plain": [
       "<IPython.core.display.Math object>"
      ]
     },
     "metadata": {},
     "output_type": "display_data"
    },
    {
     "name": "stdout",
     "output_type": "stream",
     "text": [
      "c\n"
     ]
    },
    {
     "data": {
      "text/latex": [
       "$\\displaystyle \\begin{bmatrix}4&79\\\\6&25\\\\\\end{bmatrix}$"
      ],
      "text/plain": [
       "<IPython.core.display.Math object>"
      ]
     },
     "metadata": {},
     "output_type": "display_data"
    }
   ],
   "source": [
    "A = np.array(\n",
    "    [\n",
    "        [0, 4, 2],\n",
    "        [2, -1, 5],\n",
    "        [6, 0, -3],\n",
    "    ]\n",
    ")\n",
    "\n",
    "B = np.array(\n",
    "    [\n",
    "        [4, 1, 9],\n",
    "        [5, 4, 2],\n",
    "        [-3, 5, 2],\n",
    "    ]\n",
    ")\n",
    "\n",
    "C = np.array(\n",
    "    [\n",
    "        [5, 6],\n",
    "        [5, 1],\n",
    "    ]\n",
    ")\n",
    "\n",
    "D = np.array(\n",
    "    [\n",
    "        [-1, 3],\n",
    "        [5, 0],\n",
    "    ]\n",
    ")\n",
    "\n",
    "E = np.array(\n",
    "    [\n",
    "        [7, -2, 4, 0],\n",
    "        [3, 3, 0, 1],\n",
    "    ]\n",
    ")\n",
    "\n",
    "F = np.array(\n",
    "    [\n",
    "        [0, 9],\n",
    "        [2, 0],\n",
    "        [2, 4],\n",
    "        [0, -2],\n",
    "    ]\n",
    ")\n",
    "\n",
    "print(\"a\")\n",
    "co.display_matrix(np.matmul(A, B))\n",
    "print(\"b\")\n",
    "co.display_matrix(np.matmul(C, D))\n",
    "print(\"c\")\n",
    "co.display_matrix(np.matmul(E, F))\n",
    "# print(\"d\")\n",
    "# co.display_matrix(np.matmul(E, C)) # keine lösung"
   ]
  },
  {
   "cell_type": "markdown",
   "id": "66c2b429",
   "metadata": {},
   "source": [
    "### Beispiel 9.22 Linearkombination LQF58M\n"
   ]
  },
  {
   "cell_type": "code",
   "execution_count": 15,
   "id": "9b7cf367",
   "metadata": {},
   "outputs": [
    {
     "name": "stdout",
     "output_type": "stream",
     "text": [
      "a)\n",
      "[  6 -11 -10]\n",
      "b)\n",
      "[[-6  0  0]\n",
      " [ 6 -2  7]\n",
      " [ 9  1 -7]]\n",
      "Solution:\n",
      "[  6 -11 -10]\n"
     ]
    }
   ],
   "source": [
    "u = np.array([-6, 6, 9])\n",
    "v = np.array([0, -2, 1])\n",
    "w = np.array([0, 7, -7])\n",
    "l = np.array([-1, 6, 1])\n",
    "\n",
    "A = np.transpose(np.array([u, v, w])) # must be transposed to get a coefficient matrix\n",
    "print(\"a)\")\n",
    "print(-1 * u + 6 * v + 1 * w)\n",
    "\n",
    "print(\"b)\")\n",
    "print(A)\n",
    "print(f\"Solution:\")\n",
    "print(np.matmul(A, l))"
   ]
  },
  {
   "cell_type": "markdown",
   "id": "3fa5a606",
   "metadata": {},
   "source": [
    "### Beispiel 9.23 Linearkombination T46Q97\n"
   ]
  },
  {
   "cell_type": "code",
   "execution_count": 16,
   "id": "056a3124",
   "metadata": {},
   "outputs": [
    {
     "name": "stdout",
     "output_type": "stream",
     "text": [
      "a)\n"
     ]
    },
    {
     "data": {
      "text/latex": [
       "$\\displaystyle \\begin{pmatrix}-11\\\\-38\\\\17\\\\\\end{pmatrix}$"
      ],
      "text/plain": [
       "<IPython.core.display.Math object>"
      ]
     },
     "metadata": {},
     "output_type": "display_data"
    },
    {
     "name": "stdout",
     "output_type": "stream",
     "text": [
      "b)\n"
     ]
    },
    {
     "data": {
      "text/latex": [
       "$\\displaystyle \\begin{pmatrix}6\\\\3\\\\15\\\\\\end{pmatrix}$"
      ],
      "text/plain": [
       "<IPython.core.display.Math object>"
      ]
     },
     "metadata": {},
     "output_type": "display_data"
    }
   ],
   "source": [
    "print(\"a)\")\n",
    "M = np.array(\n",
    "    [\n",
    "        [1, -1, 0],\n",
    "        [6, 0, -5],\n",
    "        [0, 5, -1],\n",
    "    ]\n",
    ")\n",
    "v = np.array(\n",
    "    [\n",
    "        -8,\n",
    "        +3,\n",
    "        -2,\n",
    "    ]\n",
    ")\n",
    "\n",
    "co.display_vector(np.matmul(M, v))\n",
    "\n",
    "print(\"b)\")\n",
    "M = np.array(\n",
    "    [\n",
    "        [0, 1, 3],\n",
    "        [-1, 0, -1],\n",
    "        [3, 4, 15],\n",
    "    ]\n",
    ")\n",
    "v = np.array(\n",
    "    [\n",
    "        -4,\n",
    "        3,\n",
    "        1,\n",
    "    ]\n",
    ")\n",
    "\n",
    "co.display_vector(np.matmul(M, v))"
   ]
  },
  {
   "cell_type": "markdown",
   "id": "c6d3834c",
   "metadata": {},
   "source": [
    "### Beispiel 9.24 Matrix mal Vektor = Einsetzen in Koeffizientenmatrix CNNZ8U\n"
   ]
  },
  {
   "cell_type": "code",
   "execution_count": 17,
   "id": "c0f0dc28",
   "metadata": {},
   "outputs": [
    {
     "name": "stdout",
     "output_type": "stream",
     "text": [
      "a)\n",
      "[1 5]\n",
      "b)\n",
      "[1 5]\n",
      "c)\n",
      "[1 5]\n"
     ]
    }
   ],
   "source": [
    "A = np.array(\n",
    "    [\n",
    "        [1, -1, 2],\n",
    "        [6, 1, -1],\n",
    "    ]\n",
    ")\n",
    "x_p = [1, -2, -1]\n",
    "x_h = [-1, 13, 7]\n",
    "print(\"a)\")\n",
    "print(np.dot(A, x_p))\n",
    "print(\"b)\")\n",
    "print(np.matmul(A, x_p))  # matmul = matrix produkt\n",
    "print(\"c)\")\n",
    "print(np.dot(A, x_p))"
   ]
  },
  {
   "cell_type": "markdown",
   "id": "4ec10ff5",
   "metadata": {},
   "source": [
    "# Kapitel 10 Lineare Abbildungen\n"
   ]
  },
  {
   "cell_type": "markdown",
   "id": "76f65f37",
   "metadata": {},
   "source": [
    "### Beispiel 10.3 Linearitat IMSW1Y\n"
   ]
  },
  {
   "cell_type": "code",
   "execution_count": 18,
   "id": "0041c556",
   "metadata": {},
   "outputs": [
    {
     "name": "stdout",
     "output_type": "stream",
     "text": [
      "a)\n",
      "✔️ Null Vector:  0.0 is null\n",
      "✔️ Homogenity:   L(lambda * v) = 0.27039464928005597 =?= lambda * L(v) = 0.27039464928005597\n",
      "✔️ Additivity:   L(v + w) = 1.8284635837797938 =?= L(v) + L(w) = 1.828463583779794\n",
      "✔️ Transformation is linear\n",
      "b)\n",
      "❌ Null Vector:  1 is NOT null\n",
      "❌ Homogenity:   L(lambda * v) = 3.2462770111288464 =?= lambda * L(v) = 3.064333883675323\n",
      "❌ Additivity:   L(v + w) = 8.189657698719046 =?= L(v) + L(w) = 9.189657698719046\n",
      "❌ Transformation is NOT linear\n"
     ]
    }
   ],
   "source": [
    "print(\"a)\")\n",
    "w = co.random_vector(3)\n",
    "co.solve_check_linearity(3, lambda v: np.dot(v, w))\n",
    "print(\"b)\")\n",
    "co.solve_check_linearity(3, lambda v: 5 * v[0] - v[1] + 1)"
   ]
  },
  {
   "cell_type": "markdown",
   "id": "b14bc56a",
   "metadata": {},
   "source": [
    "### Beispiel 10.8 Linearität YHRNU8\n"
   ]
  },
  {
   "cell_type": "code",
   "execution_count": 19,
   "id": "8ac4e98d",
   "metadata": {},
   "outputs": [
    {
     "name": "stdout",
     "output_type": "stream",
     "text": [
      "a\n",
      "✔️ Null Vector:  [np.float64(0.0), np.float64(0.0)] is null\n",
      "✔️ Homogenity:   L(lambda * v) = [np.float64(0.030466835624880277), np.float64(0.025640031317444256)] =?= lambda * L(v) = [0.03046684 0.02564003]\n",
      "✔️ Additivity:   L(v + w) = [np.float64(0.9717744548961761), np.float64(0.6145394677001625)] =?= L(v) + L(w) = [0.97177445 0.61453947]\n",
      "✔️ Transformation is linear\n",
      "b\n",
      "✔️ Null Vector:  0 is null\n",
      "❌ Homogenity:   L(lambda * v) = 0.05420522702998151 =?= lambda * L(v) = 0.07030821878857287\n",
      "❌ Additivity:   L(v + w) = 0.9913450346011838 =?= L(v) + L(w) = 0.6628209314714795\n",
      "❌ Transformation is NOT linear\n",
      "c\n",
      "✔️ Null Vector:  0 is null\n",
      "✔️ Homogenity:   L(lambda * v) = 0.09559395035920597 =?= lambda * L(v) = 0.09559395035920597\n",
      "✔️ Additivity:   L(v + w) = 3.3660172429376822 =?= L(v) + L(w) = 3.3660172429376827\n",
      "✔️ Transformation is linear\n",
      "d\n",
      "✔️ Null Vector:  [0 0] is null\n",
      "✔️ Homogenity:   L(lambda * v) = [-0.02163725 -0.07521549] =?= lambda * L(v) = [-0.02163725 -0.07521549]\n",
      "✔️ Additivity:   L(v + w) = [-1.02977333 -0.38173905] =?= L(v) + L(w) = [-1.02977333 -0.38173905]\n",
      "✔️ Transformation is linear\n"
     ]
    }
   ],
   "source": [
    "print(\"a\")\n",
    "gamma = random()\n",
    "co.solve_check_linearity(\n",
    "    2,\n",
    "    lambda v: [\n",
    "        math.cos(gamma) * v[0],\n",
    "        math.sin(gamma) * v[1],\n",
    "    ],\n",
    ")\n",
    "print(\"b\")\n",
    "co.solve_check_linearity(2, lambda v: np.dot(v, v))\n",
    "print(\"c\")\n",
    "co.solve_check_linearity(2, lambda v: 5 * v[0] + 2 * v[1])\n",
    "print(\"d\")\n",
    "co.solve_check_linearity(2, lambda v: np.multiply(-1, v))"
   ]
  },
  {
   "cell_type": "code",
   "execution_count": 20,
   "id": "dbe1695e",
   "metadata": {},
   "outputs": [
    {
     "name": "stdout",
     "output_type": "stream",
     "text": [
      "e\n",
      "❌ Null Vector:  [1.0, 0.0] is NOT null\n",
      "❌ Homogenity:   L(lambda * v) = [0.8761252932391713, 0.2525192505153046] =?= lambda * L(v) = [0.76056746 0.25185718]\n",
      "❌ Additivity:   L(v + w) = [0.3563570532997808, 0.6213163234981864] =?= L(v) + L(w) = [1.64551338 0.65708499]\n",
      "❌ Transformation is NOT linear\n",
      "f\n",
      "✔️ Null Vector:  [0, np.int64(0)] is null\n",
      "❌ Homogenity:   L(lambda * v) = [0, np.float64(0.11466587082924518)] =?= lambda * L(v) = [0.         0.13773842]\n",
      "❌ Additivity:   L(v + w) = [0, np.float64(0.4252668677557187)] =?= L(v) + L(w) = [0.         0.21299088]\n",
      "❌ Transformation is NOT linear\n",
      "g\n",
      "✔️ Null Vector:  [np.int64(0), np.int64(0)] is null\n",
      "✔️ Homogenity:   L(lambda * v) = [np.float64(0.5757554761483514), np.float64(0.4095614994443)] =?= lambda * L(v) = [0.57575548 0.4095615 ]\n",
      "✔️ Additivity:   L(v + w) = [np.float64(1.8558509847983022), np.float64(1.4459622407776007)] =?= L(v) + L(w) = [1.85585098 1.44596224]\n",
      "✔️ Transformation is linear\n",
      "h\n",
      "✔️ Null Vector:  0 is null\n",
      "✔️ Homogenity:   L(lambda * v) = 0.001233625313079411 =?= lambda * L(v) = 0.001233625313079411\n",
      "✔️ Additivity:   L(v + w) = 0.5944794667450704 =?= L(v) + L(w) = 0.5944794667450704\n",
      "✔️ Transformation is linear\n"
     ]
    }
   ],
   "source": [
    "print(\"e\")\n",
    "co.solve_check_linearity(\n",
    "    2,\n",
    "    lambda v: [\n",
    "        math.cos(v[0]),\n",
    "        math.sin(v[1]),\n",
    "    ],\n",
    ")\n",
    "print(\"f\")\n",
    "co.solve_check_linearity(\n",
    "    2,\n",
    "    lambda v: [\n",
    "        0,\n",
    "        v[0] * v[1],\n",
    "    ],\n",
    ")\n",
    "print(\"g\")\n",
    "co.solve_check_linearity(\n",
    "    2,\n",
    "    lambda v: [\n",
    "        v[0] + v[1],\n",
    "        v[0],\n",
    "    ],\n",
    ")\n",
    "print(\"h\")\n",
    "co.solve_check_linearity(2, lambda v: v[0])"
   ]
  },
  {
   "cell_type": "code",
   "execution_count": 21,
   "id": "629b1b20",
   "metadata": {},
   "outputs": [
    {
     "name": "stdout",
     "output_type": "stream",
     "text": [
      "i\n",
      "✔️ Null Vector:  0 is null\n",
      "❌ Homogenity:   L(lambda * v) = 0.34452907791200005 =?= lambda * L(v) = 0.3616581941556753\n",
      "❌ Additivity:   L(v + w) = 0.45939999029778616 =?= L(v) + L(w) = 0.38343867030107126\n",
      "❌ Transformation is NOT linear\n",
      "j\n",
      "❌ Null Vector:  1 is NOT null\n",
      "❌ Homogenity:   L(lambda * v) = 1.2066677699140582 =?= lambda * L(v) = 0.8412509176409235\n",
      "❌ Additivity:   L(v + w) = 1.4266376624196633 =?= L(v) + L(w) = 2.4266376624196635\n",
      "❌ Transformation is NOT linear\n",
      "k\n",
      "✔️ Null Vector:  [np.int64(0), np.int64(0)] is null\n",
      "✔️ Homogenity:   L(lambda * v) = [np.float64(0.0006542055154710527), np.float64(0.052931438818053234)] =?= lambda * L(v) = [0.00065421 0.05293144]\n",
      "✔️ Additivity:   L(v + w) = [np.float64(0.053441119936116), np.float64(4.039802558568062)] =?= L(v) + L(w) = [0.05344112 4.03980256]\n",
      "✔️ Transformation is linear\n"
     ]
    }
   ],
   "source": [
    "print(\"i\")\n",
    "co.solve_check_linearity(2, lambda v: v[0] ** 2)\n",
    "print(\"j\")\n",
    "co.solve_check_linearity(2, lambda v: v[0] + 1)\n",
    "print(\"k\")\n",
    "co.solve_check_linearity(\n",
    "    2,\n",
    "    lambda v: [\n",
    "        3 * v[0] - 4 * v[1],\n",
    "        v[0] + 5 * v[1],\n",
    "    ],\n",
    ")"
   ]
  },
  {
   "cell_type": "markdown",
   "id": "94b48fad",
   "metadata": {},
   "source": [
    "Line Object"
   ]
  },
  {
   "cell_type": "code",
   "execution_count": 22,
   "id": "9617daba",
   "metadata": {},
   "outputs": [
    {
     "data": {
      "text/latex": [
       "$\\displaystyle \\begin{pmatrix}1\\\\2\\\\3\\\\\\end{pmatrix}+\\lambda\\cdot\\begin{pmatrix}1\\\\2\\\\3\\\\\\end{pmatrix}$"
      ],
      "text/plain": [
       "<IPython.core.display.Math object>"
      ]
     },
     "metadata": {},
     "output_type": "display_data"
    }
   ],
   "source": [
    "l1 = Line(np.array((1,2,3)),np.array((1,2,3)))\n",
    "l1.display()"
   ]
  },
  {
   "cell_type": "markdown",
   "id": "5b96189c",
   "metadata": {},
   "source": [
    "Plane intersection"
   ]
  },
  {
   "cell_type": "code",
   "execution_count": 23,
   "id": "1a8ac580",
   "metadata": {},
   "outputs": [
    {
     "name": "stdout",
     "output_type": "stream",
     "text": [
      "Intersection 1#:\n",
      "Line: Aufpunkt: [-1.2  1.4  0. ], Richtungsvektor [0.8 0.4 1. ]\n",
      "Intersection 2#:\n",
      "Line: Aufpunkt: [-1.33333333  1.66666667  0.        ], Richtungsvektor [0.77777778 0.44444444 1.        ]\n",
      "Intersection 3#:\n",
      "Line: Aufpunkt: [-1.42857143  1.42857143  0.        ], Richtungsvektor [0.76190476 0.4047619  1.        ]\n"
     ]
    },
    {
     "data": {
      "text/latex": [
       "$\\displaystyle \\begin{pmatrix}x_1\\\\x_2\\\\x_3\\\\\\end{pmatrix}=\\begin{pmatrix}-6\\\\-1\\\\-6\\\\\\end{pmatrix}+\\begin{pmatrix}0\\\\0\\\\0\\\\\\end{pmatrix}$"
      ],
      "text/plain": [
       "<IPython.core.display.Math object>"
      ]
     },
     "metadata": {},
     "output_type": "display_data"
    },
    {
     "data": {
      "text/plain": [
       "[<util.objects.Line at 0x7d4654f761e0>,\n",
       " <util.objects.Line at 0x7d4654f761b0>,\n",
       " <util.objects.Line at 0x7d4654f762a0>]"
      ]
     },
     "execution_count": 23,
     "metadata": {},
     "output_type": "execute_result"
    }
   ],
   "source": [
    "p1 = Plane(np.array((2,1,-2,-1)))\n",
    "p1_1 = Plane(np.array((2,1,-2,-1)))\n",
    "p2 = Plane(np.array((1,8,-4,10)))\n",
    "p4_same_as_p1 = Plane(np.array((4,2,-4,-2)))\n",
    "p3_paralell_to_p2 = Plane(np.array((2,16,-8,10)))\n",
    "p5 = Plane(np.array((-5,2,3,10)))\n",
    "\n",
    "Plane.intersect_all(p1, p2, p5)\n"
   ]
  },
  {
   "cell_type": "code",
   "execution_count": 25,
   "id": "cbf3e985",
   "metadata": {},
   "outputs": [
    {
     "name": "stdout",
     "output_type": "stream",
     "text": [
      "Intersection 1#:\n",
      "Line: Aufpunkt: [-1.2  1.4  0. ], Richtungsvektor [0.8 0.4 1. ]\n",
      "Intersection 2#:\n",
      "Line: Aufpunkt: [ 10. -21.   0.], Richtungsvektor [-2.  6.  1.]\n",
      "Intersection 3#:\n",
      "Line: Aufpunkt: [13.42857143 -0.42857143  0.        ], Richtungsvektor [-2.85714286  0.85714286  1.        ]\n"
     ]
    },
    {
     "data": {
      "text/latex": [
       "$\\displaystyle \\begin{pmatrix}x_1\\\\x_2\\\\x_3\\\\\\end{pmatrix}=\\begin{pmatrix}2\\\\3\\\\4\\\\\\end{pmatrix}+\\begin{pmatrix}0\\\\0\\\\0\\\\\\end{pmatrix}$"
      ],
      "text/plain": [
       "<IPython.core.display.Math object>"
      ]
     },
     "metadata": {},
     "output_type": "display_data"
    },
    {
     "ename": "ValueError",
     "evalue": "The truth value of an array with more than one element is ambiguous. Use a.any() or a.all()",
     "output_type": "error",
     "traceback": [
      "\u001b[31m---------------------------------------------------------------------------\u001b[39m",
      "\u001b[31mValueError\u001b[39m                                Traceback (most recent call last)",
      "\u001b[36mCell\u001b[39m\u001b[36m \u001b[39m\u001b[32mIn[25]\u001b[39m\u001b[32m, line 9\u001b[39m\n\u001b[32m      5\u001b[39m p3_paralell_to_p2 = Plane(np.array((\u001b[32m2\u001b[39m,\u001b[32m16\u001b[39m,-\u001b[32m8\u001b[39m,\u001b[32m10\u001b[39m)))\n\u001b[32m      7\u001b[39m intersection_lines = Plane.intersect_all(p1, p2, p3)\n\u001b[32m----> \u001b[39m\u001b[32m9\u001b[39m \u001b[43mLine\u001b[49m\u001b[43m.\u001b[49m\u001b[43mintersect_all\u001b[49m\u001b[43m(\u001b[49m\u001b[43m*\u001b[49m\u001b[43mintersection_lines\u001b[49m\u001b[43m)\u001b[49m\n",
      "\u001b[36mFile \u001b[39m\u001b[32m~/Documents/GitRepos/lag-pruefungssolver-9000/util/objects.py:92\u001b[39m, in \u001b[36mLine.intersect_all\u001b[39m\u001b[34m(cls, a, b, *others)\u001b[39m\n\u001b[32m     90\u001b[39m \u001b[38;5;28;01mfor\u001b[39;00m a, b \u001b[38;5;129;01min\u001b[39;00m intersections:\n\u001b[32m     91\u001b[39m     intersection = a.intersect(b)\n\u001b[32m---> \u001b[39m\u001b[32m92\u001b[39m     \u001b[38;5;28;01mif\u001b[39;00m intersection != \u001b[38;5;28;01mNone\u001b[39;00m:\n\u001b[32m     93\u001b[39m         points.append(intersection)\n\u001b[32m     95\u001b[39m \u001b[38;5;28;01mreturn\u001b[39;00m points\n",
      "\u001b[31mValueError\u001b[39m: The truth value of an array with more than one element is ambiguous. Use a.any() or a.all()"
     ]
    }
   ],
   "source": [
    "p1 = Plane(np.array((2,1,-2,-1)))\n",
    "p2 = Plane(np.array((1,8,-4,10)))\n",
    "p3 = Plane(np.array((6,-1,18,81)))\n",
    "\n",
    "p3_paralell_to_p2 = Plane(np.array((2,16,-8,10)))\n",
    "\n",
    "intersection_lines = Plane.intersect_all(p1, p2, p3)\n",
    "\n",
    "Line.intersect_all(*intersection_lines)"
   ]
  }
 ],
 "metadata": {
  "kernelspec": {
   "display_name": ".venv",
   "language": "python",
   "name": "python3"
  },
  "language_info": {
   "codemirror_mode": {
    "name": "ipython",
    "version": 3
   },
   "file_extension": ".py",
   "mimetype": "text/x-python",
   "name": "python",
   "nbconvert_exporter": "python",
   "pygments_lexer": "ipython3",
   "version": "3.12.3"
  }
 },
 "nbformat": 4,
 "nbformat_minor": 5
}
