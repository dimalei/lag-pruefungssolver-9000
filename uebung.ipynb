{
 "cells": [
  {
   "cell_type": "markdown",
   "id": "e60eaeb7",
   "metadata": {},
   "source": [
    "# Übung"
   ]
  },
  {
   "cell_type": "code",
   "execution_count": 1,
   "id": "246326e0",
   "metadata": {},
   "outputs": [
    {
     "name": "stdout",
     "output_type": "stream",
     "text": [
      "Precision: 2.220446049250313e-16\n"
     ]
    }
   ],
   "source": [
    "import numpy as np\n",
    "import math\n",
    "from random import random, randint\n",
    "from util.core import mnull, mrref\n",
    "import util.core as co\n",
    "from IPython.display import display, Math\n",
    "\n",
    "print(f\"Precision: {np.finfo(float).eps}\")"
   ]
  },
  {
   "cell_type": "markdown",
   "id": "02e25972",
   "metadata": {},
   "source": [
    "### 7.3 642893"
   ]
  },
  {
   "cell_type": "code",
   "execution_count": 2,
   "id": "73510678",
   "metadata": {},
   "outputs": [
    {
     "name": "stdout",
     "output_type": "stream",
     "text": [
      "0.0\n",
      "7.071067811865475\n",
      "0.0\n"
     ]
    }
   ],
   "source": [
    "A = [2,0,2]\n",
    "v_1 = (np.array([4,-1,4])- np.array(A)).tolist()\n",
    "v_2 = (np.array([8,-8,8])- np.array(A)).tolist()\n",
    "\n",
    "Q = [-22,28,-22]\n",
    "R = [5,-5,-5]\n",
    "S = [-6,4,-6]\n",
    "\n",
    "print(co.distance_to_plane(Q,A,v_1,v_2))\n",
    "print(co.distance_to_plane(R,A,v_1,v_2))\n",
    "print(co.distance_to_plane(S,A,v_1,v_2))"
   ]
  },
  {
   "cell_type": "markdown",
   "id": "b029ea6b",
   "metadata": {},
   "source": [
    "### 7.12 1V9ECJ"
   ]
  },
  {
   "cell_type": "code",
   "execution_count": 3,
   "id": "aa32e368",
   "metadata": {},
   "outputs": [
    {
     "name": "stdout",
     "output_type": "stream",
     "text": [
      "[25.]\n",
      "[25.]\n"
     ]
    }
   ],
   "source": [
    "E = [15,-12,16,-184]\n",
    "P = [-19, 37, 18]\n",
    "R = [-147,37,138]\n",
    "\n",
    "print(co.distance_to_plane_hesse(P, E))\n",
    "print(co.distance_to_plane_hesse(R, E))"
   ]
  },
  {
   "cell_type": "markdown",
   "id": "1a4ecd54",
   "metadata": {},
   "source": [
    "### 7.15 5YWDZK"
   ]
  },
  {
   "cell_type": "code",
   "execution_count": 4,
   "id": "d2116a99",
   "metadata": {},
   "outputs": [
    {
     "data": {
      "text/latex": [
       "$\\displaystyle 72 x_0+0 x_1+65 x_2-230=0$"
      ],
      "text/plain": [
       "<IPython.core.display.Math object>"
      ]
     },
     "metadata": {},
     "output_type": "display_data"
    },
    {
     "name": "stdout",
     "output_type": "stream",
     "text": [
      "[0.3814433]\n"
     ]
    }
   ],
   "source": [
    "P = [1,0,3]\n",
    "E = co.plane_normal_to_coordinates([5,1,-2], [72,0,65])\n",
    "co.solve_plane_normal_to_coordinate([5,1,-2], [72,0,65])\n",
    "print(co.distance_to_plane_hesse(P, E))"
   ]
  },
  {
   "cell_type": "markdown",
   "id": "8dbec772",
   "metadata": {},
   "source": [
    "### 7.20 7EQKL7"
   ]
  },
  {
   "cell_type": "code",
   "execution_count": 5,
   "id": "5c8c8f56",
   "metadata": {},
   "outputs": [
    {
     "data": {
      "text/latex": [
       "$\\displaystyle \\begin{pmatrix}x_1\\\\x_2\\\\x_3\\\\\\end{pmatrix}=\\begin{pmatrix}2\\\\0\\\\0\\\\\\end{pmatrix}+\\lambda\\cdot\\begin{pmatrix}0.667\\\\-1\\\\0\\\\\\end{pmatrix}+\\mu\\cdot\\begin{pmatrix}0.5\\\\0\\\\-1\\\\\\end{pmatrix}$"
      ],
      "text/plain": [
       "<IPython.core.display.Math object>"
      ]
     },
     "metadata": {},
     "output_type": "display_data"
    },
    {
     "data": {
      "text/latex": [
       "$\\displaystyle \\begin{pmatrix}x_1\\\\x_2\\\\x_3\\\\\\end{pmatrix}=\\begin{pmatrix}6\\\\0\\\\0\\\\\\end{pmatrix}+\\lambda\\cdot\\begin{pmatrix}2\\\\-1\\\\0\\\\\\end{pmatrix}+\\mu\\cdot\\begin{pmatrix}3\\\\0\\\\-1\\\\\\end{pmatrix}$"
      ],
      "text/plain": [
       "<IPython.core.display.Math object>"
      ]
     },
     "metadata": {},
     "output_type": "display_data"
    },
    {
     "data": {
      "text/latex": [
       "$\\displaystyle \\begin{pmatrix}x_1\\\\x_2\\\\x_3\\\\\\end{pmatrix}=\\begin{pmatrix}4.583\\\\0\\\\0\\\\\\end{pmatrix}+\\lambda\\cdot\\begin{pmatrix}0\\\\-1\\\\0\\\\\\end{pmatrix}+\\mu\\cdot\\begin{pmatrix}0.75\\\\0\\\\-1\\\\\\end{pmatrix}$"
      ],
      "text/plain": [
       "<IPython.core.display.Math object>"
      ]
     },
     "metadata": {},
     "output_type": "display_data"
    }
   ],
   "source": [
    "co.solve_plane_coordinates_to_parameter([6,4,3,-12])\n",
    "\n",
    "co.solve_plane_coordinates_to_parameter([1,2,3,-6])\n",
    "co.solve_plane_coordinates_to_parameter([12,0,9,-55])"
   ]
  },
  {
   "cell_type": "markdown",
   "id": "d7f4b58b",
   "metadata": {},
   "source": [
    "### 7.23 211568"
   ]
  },
  {
   "cell_type": "code",
   "execution_count": 6,
   "id": "808f8c4b",
   "metadata": {},
   "outputs": [
    {
     "data": {
      "text/latex": [
       "$\\displaystyle 6 x_0+12 x_1+18 x_2=36$"
      ],
      "text/plain": [
       "<IPython.core.display.Math object>"
      ]
     },
     "metadata": {},
     "output_type": "display_data"
    }
   ],
   "source": [
    "co.solve_plane_parameter_to_coordinate([0,0,2],[6,0,-2],[0,3,-2])"
   ]
  },
  {
   "cell_type": "markdown",
   "id": "f68fe80f",
   "metadata": {},
   "source": [
    "### 7.26 007592"
   ]
  },
  {
   "cell_type": "code",
   "execution_count": null,
   "id": "271dae93",
   "metadata": {},
   "outputs": [],
   "source": [
    "A = np.array([-2,3,4])\n",
    "B = np.array([-3,3,4])\n",
    "C = np.array([-2,3,5])\n",
    "\n",
    "co.distance_to_plane([3,1,-1],A, B-A, C-A)"
   ]
  }
 ],
 "metadata": {
  "kernelspec": {
   "display_name": ".venv",
   "language": "python",
   "name": "python3"
  },
  "language_info": {
   "codemirror_mode": {
    "name": "ipython",
    "version": 3
   },
   "file_extension": ".py",
   "mimetype": "text/x-python",
   "name": "python",
   "nbconvert_exporter": "python",
   "pygments_lexer": "ipython3",
   "version": "3.12.3"
  }
 },
 "nbformat": 4,
 "nbformat_minor": 5
}
