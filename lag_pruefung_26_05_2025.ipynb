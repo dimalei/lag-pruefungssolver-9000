{
 "cells": [
  {
   "cell_type": "markdown",
   "id": "6cb8784f",
   "metadata": {},
   "source": [
    "# lag Prüfung EN2\n",
    "Dimitri Leimgrübler "
   ]
  },
  {
   "cell_type": "code",
   "execution_count": 6,
   "id": "f48b1b6b",
   "metadata": {},
   "outputs": [
    {
     "name": "stdout",
     "output_type": "stream",
     "text": [
      "Precision: 2.220446049250313e-16\n"
     ]
    }
   ],
   "source": [
    "import numpy as np\n",
    "import math\n",
    "from random import random, randint\n",
    "from util.core import mnull, mrref\n",
    "import util.core as co\n",
    "from IPython.display import display, Math\n",
    "\n",
    "print(f\"Precision: {np.finfo(float).eps}\")"
   ]
  },
  {
   "cell_type": "markdown",
   "id": "a2b15616",
   "metadata": {},
   "source": [
    "### 1. Allgemeine Lösung LGS"
   ]
  },
  {
   "cell_type": "code",
   "execution_count": 7,
   "id": "06d20827",
   "metadata": {},
   "outputs": [
    {
     "name": "stdout",
     "output_type": "stream",
     "text": [
      "[-1 50]\n",
      "[-13  27]\n",
      "[0 0]\n"
     ]
    }
   ],
   "source": [
    "# a\n",
    "lgs = np.array(\n",
    "    [\n",
    "        [2, 0, -4, 1],\n",
    "        [9, 3, -1, 5],\n",
    "    ]\n",
    ")\n",
    "\n",
    "a = np.array([5,1,3,1])\n",
    "b = np.array([3,0,5,1])\n",
    "c = np.array([6,-17,3,0])\n",
    "# muss -13, 27 ergeben\n",
    "print(np.matmul(lgs, a))\n",
    "print(np.matmul(lgs, b)) # richtig\n",
    "print(np.matmul(lgs, c))"
   ]
  },
  {
   "cell_type": "code",
   "execution_count": 16,
   "id": "506e86e1",
   "metadata": {},
   "outputs": [
    {
     "name": "stdout",
     "output_type": "stream",
     "text": [
      "[0 0]\n",
      "[-13  27]\n",
      "[-13  27]\n",
      "[-39  81]\n",
      "[-14  77]\n",
      "[0. 0.]\n",
      "[-13  27]\n",
      "[0 0]\n"
     ]
    }
   ],
   "source": [
    "# b\n",
    "lgs = np.array(\n",
    "    [\n",
    "        [2, 0, -4, 1],\n",
    "        [9, 3, -1, 5],\n",
    "    ]\n",
    ")\n",
    "\n",
    "d = np.array([-3,-1,0,6])\n",
    "\n",
    "print(np.matmul(lgs, d))\n",
    "print(np.matmul(lgs, b))\n",
    "print(np.matmul(lgs, b+c))\n",
    "print(np.matmul(lgs, 3*b))\n",
    "print(np.matmul(lgs, a + b + d))\n",
    "\n",
    "print(np.matmul(lgs, random() * d))\n",
    "print(np.matmul(lgs, b))\n",
    "\n",
    "print(np.matmul(lgs, c))\n",
    "\n",
    "\n",
    "\n"
   ]
  },
  {
   "cell_type": "markdown",
   "id": "fc2578d0",
   "metadata": {},
   "source": [
    "### 2. LGS Lösung Bestimmen"
   ]
  },
  {
   "cell_type": "code",
   "execution_count": null,
   "id": "d25bba0f",
   "metadata": {},
   "outputs": [
    {
     "data": {
      "text/latex": [
       "$\\displaystyle \\begin{pmatrix}x_1\\\\x_2\\\\x_3\\\\\\end{pmatrix}=\\begin{pmatrix}0\\\\0\\\\0\\\\\\end{pmatrix}+\\lambda\\cdot\\begin{pmatrix}-1\\\\-1\\\\1\\\\\\end{pmatrix}$"
      ],
      "text/plain": [
       "<IPython.core.display.Math object>"
      ]
     },
     "metadata": {},
     "output_type": "display_data"
    }
   ],
   "source": [
    "# a\n",
    "A = np.array(\n",
    "    [\n",
    "        [1, -4, -3, 0],\n",
    "        [0, 1, 1, 0],\n",
    "    ]\n",
    ")\n",
    "co.solve_general_solution(A)"
   ]
  },
  {
   "cell_type": "code",
   "execution_count": null,
   "id": "8d5bd96e",
   "metadata": {},
   "outputs": [
    {
     "data": {
      "text/latex": [
       "$\\displaystyle \\begin{pmatrix}x_1\\\\x_2\\\\x_3\\\\\\end{pmatrix}=\\begin{pmatrix}9\\\\2\\\\0\\\\\\end{pmatrix}+\\lambda\\cdot\\begin{pmatrix}-1\\\\-1\\\\1\\\\\\end{pmatrix}$"
      ],
      "text/plain": [
       "<IPython.core.display.Math object>"
      ]
     },
     "metadata": {},
     "output_type": "display_data"
    }
   ],
   "source": [
    "# b\n",
    "A = np.array(\n",
    "    [\n",
    "        [1, -4, -3, 1],\n",
    "        [0, 1, 1, 2],\n",
    "    ]\n",
    ")\n",
    "co.solve_general_solution(A)"
   ]
  },
  {
   "cell_type": "code",
   "execution_count": null,
   "id": "e08f06a2",
   "metadata": {},
   "outputs": [
    {
     "data": {
      "text/latex": [
       "$\\displaystyle \\begin{pmatrix}x_1\\\\x_2\\\\x_3\\\\\\end{pmatrix}=\\begin{pmatrix}4\\\\0\\\\0\\\\\\end{pmatrix}+\\lambda\\cdot\\begin{pmatrix}-2\\\\1\\\\0\\\\\\end{pmatrix}+\\mu\\cdot\\begin{pmatrix}-3\\\\0\\\\1\\\\\\end{pmatrix}$"
      ],
      "text/plain": [
       "<IPython.core.display.Math object>"
      ]
     },
     "metadata": {},
     "output_type": "display_data"
    }
   ],
   "source": [
    "# c\n",
    "A = np.array(\n",
    "    [\n",
    "        [1, 2, +3, +4],\n",
    "    ]\n",
    ")\n",
    "co.solve_general_solution(A)\n",
    "\n",
    "# stimmt nicht -> von hand"
   ]
  },
  {
   "cell_type": "markdown",
   "id": "3286a80e",
   "metadata": {},
   "source": [
    "### 3. Darstellung Ebene"
   ]
  },
  {
   "cell_type": "code",
   "execution_count": null,
   "id": "4dcbba1f",
   "metadata": {},
   "outputs": [
    {
     "name": "stdout",
     "output_type": "stream",
     "text": [
      "[-4 -6  4]\n"
     ]
    }
   ],
   "source": [
    "# a\n",
    "A = np.array([3, 1, -2])  # aufpunkt\n",
    "B = np.array([4, 1, -1])\n",
    "C = np.array([-4, 5, 2])\n",
    "D = np.array([-3, 23, -10])\n",
    "\n",
    "\n",
    "v1 = B - A\n",
    "v2 = C - 1\n",
    "n = np.cross(v1,v2)\n",
    "print(n)"
   ]
  },
  {
   "cell_type": "code",
   "execution_count": null,
   "id": "8871eb9c",
   "metadata": {},
   "outputs": [
    {
     "data": {
      "text/latex": [
       "$\\displaystyle -4 x_0+-6 x_1+4 x_2=-26$"
      ],
      "text/plain": [
       "<IPython.core.display.Math object>"
      ]
     },
     "metadata": {},
     "output_type": "display_data"
    }
   ],
   "source": [
    "# b\n",
    "co.solve_plane_parameter_to_coordinate(A.tolist(),v1.tolist(), v2.tolist())"
   ]
  },
  {
   "cell_type": "code",
   "execution_count": null,
   "id": "3352e972",
   "metadata": {},
   "outputs": [
    {
     "data": {
      "text/plain": [
       "array([16.97749375])"
      ]
     },
     "execution_count": 25,
     "metadata": {},
     "output_type": "execute_result"
    }
   ],
   "source": [
    "# c\n",
    "co.distance_to_plane_hesse(D.tolist(),[-4,-6,4,26])\n",
    "# nicht sicher, prüfe auf papier -> stimmt"
   ]
  },
  {
   "cell_type": "markdown",
   "id": "cbd20b25",
   "metadata": {},
   "source": [
    "4. Lineare Abbildungen"
   ]
  },
  {
   "cell_type": "code",
   "execution_count": null,
   "id": "aea60f52",
   "metadata": {},
   "outputs": [
    {
     "name": "stdout",
     "output_type": "stream",
     "text": [
      "✔️ Null Vector:  0.0 is null\n",
      "✔️ Homogenity:   L(lambda * v) = -0.3746162699417028 =?= lambda * L(v) = -0.3746162699417028\n",
      "✔️ Additivity:   L(v + w) = -0.45411751096895453 =?= L(v) + L(w) = -0.45411751096895453\n",
      "✔️ Transformation is linear\n"
     ]
    }
   ],
   "source": [
    "# a\n",
    "co.solve_check_linearity(3, lambda x: (x[0]-x[1]-x[2])/3)"
   ]
  },
  {
   "cell_type": "code",
   "execution_count": 27,
   "id": "08769e4a",
   "metadata": {},
   "outputs": [
    {
     "name": "stdout",
     "output_type": "stream",
     "text": [
      "✔️ Null Vector:  0 is null\n",
      "❌ Homogenity:   L(lambda * v) = 0.02365511448261863 =?= lambda * L(v) = 0.05097873287632014\n",
      "❌ Additivity:   L(v + w) = 0.9791368366405324 =?= L(v) + L(w) = 0.6757096427132945\n",
      "❌ Transformation is NOT linear\n"
     ]
    }
   ],
   "source": [
    "# b\n",
    "co.solve_check_linearity(2, lambda x: x[0] ** 2 + x[1] ** 2)"
   ]
  },
  {
   "cell_type": "code",
   "execution_count": 28,
   "id": "4f1cc2c6",
   "metadata": {},
   "outputs": [
    {
     "name": "stdout",
     "output_type": "stream",
     "text": [
      "❌ Null Vector:  [np.float64(1.0), np.float64(1.0)] is NOT null\n",
      "❌ Homogenity:   L(lambda * v) = [np.float64(1.1980502678256273), np.float64(0.8346895175065785)] =?= lambda * L(v) = [0.5801944  0.20176822]\n",
      "❌ Additivity:   L(v + w) = [np.float64(3.323607316371095), np.float64(0.3008779030766659)] =?= L(v) + L(w) = [3.65571391 1.09992354]\n",
      "❌ Transformation is NOT linear\n"
     ]
    }
   ],
   "source": [
    "# c\n",
    "co.solve_check_linearity(2, lambda x: [np.e**x[0], np.e**-x[0]])"
   ]
  },
  {
   "cell_type": "markdown",
   "id": "10007658",
   "metadata": {},
   "source": [
    "### 5. Schnittmengen"
   ]
  },
  {
   "cell_type": "code",
   "execution_count": null,
   "id": "d5d2aa2e",
   "metadata": {},
   "outputs": [
    {
     "data": {
      "text/latex": [
       "$\\displaystyle \\begin{pmatrix}x_1\\\\x_2\\\\x_3\\\\\\end{pmatrix}=\\begin{pmatrix}1\\\\2\\\\3\\\\\\end{pmatrix}+\\begin{pmatrix}0\\\\0\\\\0\\\\\\end{pmatrix}$"
      ],
      "text/plain": [
       "<IPython.core.display.Math object>"
      ]
     },
     "metadata": {},
     "output_type": "display_data"
    }
   ],
   "source": [
    "# a\n",
    "A = np.array(\n",
    "    [\n",
    "        [3, 4, 1, 14],\n",
    "        [0, 8, 0, 16],\n",
    "        [0, 0, -1, -3],\n",
    "    ]\n",
    ")\n",
    "\n",
    "co.solve_general_solution(A)"
   ]
  },
  {
   "cell_type": "code",
   "execution_count": 33,
   "id": "b33c2bb7",
   "metadata": {},
   "outputs": [
    {
     "data": {
      "text/latex": [
       "$\\displaystyle \\begin{pmatrix}x_1\\\\x_2\\\\x_3\\\\\\end{pmatrix}=\\begin{pmatrix}0\\\\0\\\\0\\\\\\end{pmatrix}+\\lambda\\cdot\\begin{pmatrix}1\\\\1\\\\0\\\\\\end{pmatrix}+\\mu\\cdot\\begin{pmatrix}-3\\\\0\\\\1\\\\\\end{pmatrix}$"
      ],
      "text/plain": [
       "<IPython.core.display.Math object>"
      ]
     },
     "metadata": {},
     "output_type": "display_data"
    }
   ],
   "source": [
    "# b\n",
    "B = np.array(\n",
    "    [\n",
    "        [108,-108,324,114],\n",
    "        [87,-87,261,93],\n",
    "        [-15,15,-45,-21],\n",
    "    ]\n",
    ")\n",
    "\n",
    "co.solve_general_solution(B)\n",
    "# stimmt wahrscheinlich nicht"
   ]
  },
  {
   "cell_type": "code",
   "execution_count": 35,
   "id": "000549f3",
   "metadata": {},
   "outputs": [
    {
     "data": {
      "text/latex": [
       "$\\displaystyle \\begin{pmatrix}x_1\\\\x_2\\\\x_3\\\\\\end{pmatrix}=\\begin{pmatrix}-0\\\\0\\\\0\\\\\\end{pmatrix}+\\lambda\\cdot\\begin{pmatrix}-0\\\\-0\\\\1\\\\\\end{pmatrix}$"
      ],
      "text/plain": [
       "<IPython.core.display.Math object>"
      ]
     },
     "metadata": {},
     "output_type": "display_data"
    }
   ],
   "source": [
    "# c\n",
    "C = np.array(\n",
    "    [\n",
    "        [46, 31, 0, 123],\n",
    "        [25, 310, 0, 81],\n",
    "        [-1, -7, 0, -9],\n",
    "    ]\n",
    ")\n",
    "\n",
    "co.solve_general_solution(C)\n",
    "# stimmt wahrscheinlich nicht"
   ]
  },
  {
   "cell_type": "code",
   "execution_count": 36,
   "id": "09ed7a35",
   "metadata": {},
   "outputs": [
    {
     "data": {
      "text/latex": [
       "$\\displaystyle \\begin{pmatrix}x_1\\\\x_2\\\\x_3\\\\\\end{pmatrix}=\\begin{pmatrix}3922489998032365\\\\2614993332021579.5\\\\-1307496666010788.5\\\\\\end{pmatrix}+\\begin{pmatrix}0\\\\0\\\\0\\\\\\end{pmatrix}$"
      ],
      "text/plain": [
       "<IPython.core.display.Math object>"
      ]
     },
     "metadata": {},
     "output_type": "display_data"
    }
   ],
   "source": [
    "# d\n",
    "D = np.array(\n",
    "    [\n",
    "        [46, 31, 200, 114],\n",
    "        [25,31,137,93],\n",
    "        [1,7,17,21],\n",
    "    ]\n",
    ")\n",
    "\n",
    "co.solve_general_solution(D)\n",
    "# stimmt wahrscheinlich nicht"
   ]
  }
 ],
 "metadata": {
  "kernelspec": {
   "display_name": ".venv",
   "language": "python",
   "name": "python3"
  },
  "language_info": {
   "codemirror_mode": {
    "name": "ipython",
    "version": 3
   },
   "file_extension": ".py",
   "mimetype": "text/x-python",
   "name": "python",
   "nbconvert_exporter": "python",
   "pygments_lexer": "ipython3",
   "version": "3.13.3"
  }
 },
 "nbformat": 4,
 "nbformat_minor": 5
}
