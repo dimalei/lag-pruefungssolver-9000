{
 "cells": [
  {
   "cell_type": "markdown",
   "id": "6cb8784f",
   "metadata": {},
   "source": [
    "# lag Prüfung MSP\n",
    "Dimitri Leimgrübler "
   ]
  },
  {
   "cell_type": "code",
   "execution_count": 2,
   "id": "f48b1b6b",
   "metadata": {},
   "outputs": [
    {
     "name": "stdout",
     "output_type": "stream",
     "text": [
      "Precision: 2.220446049250313e-16\n"
     ]
    }
   ],
   "source": [
    "import numpy as np\n",
    "import sympy as sp\n",
    "import math\n",
    "from util.core import mnull, mrref\n",
    "import util.core as co\n",
    "from util.objects import Line, Plane\n",
    "from util.linearity import linearity\n",
    "from IPython.display import display, Math\n",
    "\n",
    "print(f\"Precision: {np.finfo(float).eps}\")"
   ]
  },
  {
   "cell_type": "code",
   "execution_count": null,
   "id": "9ae08222",
   "metadata": {},
   "outputs": [
    {
     "ename": "LinAlgError",
     "evalue": "Last 2 dimensions of the array must be square",
     "output_type": "error",
     "traceback": [
      "\u001b[31m---------------------------------------------------------------------------\u001b[39m",
      "\u001b[31mLinAlgError\u001b[39m                               Traceback (most recent call last)",
      "\u001b[36mCell\u001b[39m\u001b[36m \u001b[39m\u001b[32mIn[3]\u001b[39m\u001b[32m, line 8\u001b[39m\n\u001b[32m      1\u001b[39m A = np.array(\n\u001b[32m      2\u001b[39m     [\n\u001b[32m      3\u001b[39m         [\u001b[32m1\u001b[39m, -\u001b[32m1\u001b[39m, \u001b[32m2\u001b[39m],\n\u001b[32m      4\u001b[39m         [\u001b[32m6\u001b[39m, \u001b[32m1\u001b[39m, -\u001b[32m1\u001b[39m],\n\u001b[32m      5\u001b[39m     ]\n\u001b[32m      6\u001b[39m )\n\u001b[32m----> \u001b[39m\u001b[32m8\u001b[39m \u001b[38;5;28mprint\u001b[39m(\u001b[43mnp\u001b[49m\u001b[43m.\u001b[49m\u001b[43mlinalg\u001b[49m\u001b[43m.\u001b[49m\u001b[43mdet\u001b[49m\u001b[43m(\u001b[49m\u001b[43mA\u001b[49m\u001b[43m)\u001b[49m)\n",
      "\u001b[36mFile \u001b[39m\u001b[32m~/Documents/GitRepos/lag-pruefungssolver-9000/.venv/lib/python3.12/site-packages/numpy/linalg/_linalg.py:2380\u001b[39m, in \u001b[36mdet\u001b[39m\u001b[34m(a)\u001b[39m\n\u001b[32m   2378\u001b[39m a = asarray(a)\n\u001b[32m   2379\u001b[39m _assert_stacked_2d(a)\n\u001b[32m-> \u001b[39m\u001b[32m2380\u001b[39m \u001b[43m_assert_stacked_square\u001b[49m\u001b[43m(\u001b[49m\u001b[43ma\u001b[49m\u001b[43m)\u001b[49m\n\u001b[32m   2381\u001b[39m t, result_t = _commonType(a)\n\u001b[32m   2382\u001b[39m signature = \u001b[33m'\u001b[39m\u001b[33mD->D\u001b[39m\u001b[33m'\u001b[39m \u001b[38;5;28;01mif\u001b[39;00m isComplexType(t) \u001b[38;5;28;01melse\u001b[39;00m \u001b[33m'\u001b[39m\u001b[33md->d\u001b[39m\u001b[33m'\u001b[39m\n",
      "\u001b[36mFile \u001b[39m\u001b[32m~/Documents/GitRepos/lag-pruefungssolver-9000/.venv/lib/python3.12/site-packages/numpy/linalg/_linalg.py:202\u001b[39m, in \u001b[36m_assert_stacked_square\u001b[39m\u001b[34m(*arrays)\u001b[39m\n\u001b[32m    200\u001b[39m m, n = a.shape[-\u001b[32m2\u001b[39m:]\n\u001b[32m    201\u001b[39m \u001b[38;5;28;01mif\u001b[39;00m m != n:\n\u001b[32m--> \u001b[39m\u001b[32m202\u001b[39m     \u001b[38;5;28;01mraise\u001b[39;00m LinAlgError(\u001b[33m'\u001b[39m\u001b[33mLast 2 dimensions of the array must be square\u001b[39m\u001b[33m'\u001b[39m)\n",
      "\u001b[31mLinAlgError\u001b[39m: Last 2 dimensions of the array must be square"
     ]
    }
   ],
   "source": [
    "A = np.array(\n",
    "    [\n",
    "        [1, -1, 2],\n",
    "        [6, 1, -1],\n",
    "        [1, -1, 2],\n",
    "    ]\n",
    ")\n",
    "\n",
    "print(np.linalg.det(A))"
   ]
  }
 ],
 "metadata": {
  "kernelspec": {
   "display_name": ".venv",
   "language": "python",
   "name": "python3"
  },
  "language_info": {
   "codemirror_mode": {
    "name": "ipython",
    "version": 3
   },
   "file_extension": ".py",
   "mimetype": "text/x-python",
   "name": "python",
   "nbconvert_exporter": "python",
   "pygments_lexer": "ipython3",
   "version": "3.12.3"
  }
 },
 "nbformat": 4,
 "nbformat_minor": 5
}
